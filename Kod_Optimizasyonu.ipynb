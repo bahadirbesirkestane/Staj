{
  "nbformat": 4,
  "nbformat_minor": 0,
  "metadata": {
    "colab": {
      "provenance": [],
      "authorship_tag": "ABX9TyMJLiwki2CZDFPBc/7575Uz",
      "include_colab_link": true
    },
    "kernelspec": {
      "name": "python3",
      "display_name": "Python 3"
    },
    "language_info": {
      "name": "python"
    }
  },
  "cells": [
    {
      "cell_type": "markdown",
      "metadata": {
        "id": "view-in-github",
        "colab_type": "text"
      },
      "source": [
        "<a href=\"https://colab.research.google.com/github/bahadirbesirkestane/Staj/blob/main/Kod_Optimizasyonu.ipynb\" target=\"_parent\"><img src=\"https://colab.research.google.com/assets/colab-badge.svg\" alt=\"Open In Colab\"/></a>"
      ]
    },
    {
      "cell_type": "markdown",
      "source": [
        "## Kod optimizasyonu\n",
        "Kod optimizasyonu, bir bilgisayar programının veya yazılımının daha iyi performans göstermesini sağlamak amacıyla yapılan bir dizi işlem ve teknikleri içeren bir süreçtir. Bu süreç, yazılımın çalışma hızını artırmak, daha az kaynak kullanmak veya daha verimli çalışmasını sağlamak için kodun yapılanmasını, algoritmaları veya veri yapılarını iyileştirmeyi amaçlar."
      ],
      "metadata": {
        "id": "fOj8SNRT31A9"
      }
    },
    {
      "cell_type": "markdown",
      "source": [
        "### Kod Optimizasyonu için bazı yöntemler\n",
        "* Daha Etkili Algoritmalar: Veri işleme veya hesaplama problemlerini daha hızlı çözmek için daha iyi algoritmalar kullanmak.\n",
        "\n",
        "* Bellek Yönetimi: Bellek tahsisi ve serbest bırakma işlemlerini optimize etmek, bellek sızıntılarını önlemek.\n",
        "\n",
        "* Döngülerin İyileştirilmesi: Döngü (loop) yapıları içindeki işlemleri minimize etmek ve verimli hale getirmek.\n",
        "\n",
        "* İş Paralelleştirmesi: Çoklu işlemcili sistemlerde paralel işlem yaparak performansı artırmak.\n",
        "\n",
        "* Kaynak Yönetimi: Dosya işleme, ağ bağlantıları gibi kaynakları verimli bir şekilde kullanmak ve kaynak sızıntılarını önlemek.\n",
        "\n",
        "* Derleme Optimizasyonları: Derleyici tarafından yapılan otomatik optimizasyonları kullanmak."
      ],
      "metadata": {
        "id": "WrJY0I9Q4B0N"
      }
    },
    {
      "cell_type": "markdown",
      "source": [
        "## Kod Optimizasyonu Teknikleri\n",
        "\n",
        "### Algoritma Optimizasyonu\n",
        "- Veri yapısı ve algoritmayı gözden geçirerek daha verimli ve hızlı algoritmaları kullanma.\n",
        "- Big-O notasyonunu kullanarak algoritmanın zaman ve hafıza karmaşıklığını analiz etme.\n"
      ],
      "metadata": {
        "id": "8PkQ9aci4g1s"
      }
    },
    {
      "cell_type": "code",
      "source": [
        "# Daha verimli bir çarpma işlemi\n",
        "result = 0\n",
        "for _ in range(10000):\n",
        "    result += 5 * 7\n"
      ],
      "metadata": {
        "id": "p720q5vD7Ssq"
      },
      "execution_count": 1,
      "outputs": []
    },
    {
      "cell_type": "markdown",
      "source": [
        "### Bellek Yönetimi\n",
        "- Bellek tahsisini ve serbest bırakmayı optimize etme.\n",
        "- Bellek sızıntılarını önleme."
      ],
      "metadata": {
        "id": "olT2dr5G7S8H"
      }
    },
    {
      "cell_type": "code",
      "source": [
        "# Liste yerine generator kullanma\n",
        "def generate_numbers(n):\n",
        "    for i in range(n):\n",
        "        yield i\n",
        "\n",
        "numbers = generate_numbers(1000000)\n",
        "for num in numbers:\n",
        "    print(num)\n"
      ],
      "metadata": {
        "id": "OwmQWx8m7U-n"
      },
      "execution_count": 2,
      "outputs": []
    },
    {
      "cell_type": "markdown",
      "source": [
        "### Döngü Optimizasyonu\n",
        "- Döngüler içindeki işlemleri minimize etme.\n",
        "- Döngülerin gereksiz tekrarlarını kaldırma.\n",
        "\n"
      ],
      "metadata": {
        "id": "fNT4Dee47VFJ"
      }
    },
    {
      "cell_type": "code",
      "source": [
        "# Optimize Edilmemiş Kod\n",
        "def sum_of_numbers(numbers):\n",
        "    total = 0\n",
        "    for num in numbers:\n",
        "        total += num\n",
        "    return total\n",
        "\n",
        "numbers = [1, 2, 3, 4, 5]\n",
        "result = sum_of_numbers(numbers)\n",
        "print(\"Toplam (Optimize Edilmemiş):\", result)\n"
      ],
      "metadata": {
        "colab": {
          "base_uri": "https://localhost:8080/",
          "height": 0
        },
        "id": "1jRv4TAV8QnI",
        "outputId": "f8de5fab-a12a-4d69-8c91-ecf61a5d6c70"
      },
      "execution_count": 6,
      "outputs": [
        {
          "output_type": "stream",
          "name": "stdout",
          "text": [
            "Toplam (Optimize Edilmemiş): 15\n"
          ]
        }
      ]
    },
    {
      "cell_type": "code",
      "source": [
        "# Filtreleme işlemi için list comprehension kullanma\n",
        "# Optimize Edilmiş Kod\n",
        "numbers = [1, 2, 3, 4, 5]\n",
        "result = sum(numbers)\n",
        "print(\"Toplam (Optimize Edilmiş):\", result)\n",
        "\n"
      ],
      "metadata": {
        "colab": {
          "base_uri": "https://localhost:8080/",
          "height": 0
        },
        "id": "gPPbC_KP7XkX",
        "outputId": "0461fdce-743d-45dc-c6b4-fb6d38303aba"
      },
      "execution_count": 7,
      "outputs": [
        {
          "output_type": "stream",
          "name": "stdout",
          "text": [
            "Toplam (Optimize Edilmiş): 15\n"
          ]
        }
      ]
    },
    {
      "cell_type": "markdown",
      "source": [
        "### Veri Yapıları\n",
        "- Veri yapılarını optimize ederek daha hızlı erişim ve işleme sağlama.\n",
        "- Doğru veri yapısını kullanarak veri manipülasyonunu hızlandırma.\n"
      ],
      "metadata": {
        "id": "qgDPuPrP7XrX"
      }
    },
    {
      "cell_type": "code",
      "source": [
        "# Daha hızlı erişim için sözlük kullanma\n",
        "student_scores = {\"John\": 85, \"Alice\": 92, \"Bob\": 78}\n",
        "alice_score = student_scores[\"Alice\"]\n"
      ],
      "metadata": {
        "id": "TaoGaEe_7Y6t"
      },
      "execution_count": 4,
      "outputs": []
    },
    {
      "cell_type": "markdown",
      "source": [
        "\n",
        "### Çoklu İş Paralelleştirmesi\n",
        "- Çoklu işlemcili sistemlerde paralel programlama teknikleri kullanarak işlemi hızlandırma.\n",
        "- Thread veya iş parçacığı (thread) kullanımı."
      ],
      "metadata": {
        "id": "cBfnkNpX7ZBO"
      }
    },
    {
      "cell_type": "code",
      "source": [
        "# İş paralelleştirmesi için concurrent.futures kullanma\n",
        "import concurrent.futures\n",
        "\n",
        "def calculate_square(number):\n",
        "    return number ** 2\n",
        "\n",
        "numbers = [1, 2, 3, 4, 5]\n",
        "with concurrent.futures.ThreadPoolExecutor() as executor:\n",
        "    results = executor.map(calculate_square, numbers)\n",
        "\n",
        "for result in results:\n",
        "    print(result)\n"
      ],
      "metadata": {
        "colab": {
          "base_uri": "https://localhost:8080/",
          "height": 0
        },
        "id": "m37cCOU17ost",
        "outputId": "9c7c3574-7a53-45eb-a56a-c91a44000d1e"
      },
      "execution_count": 5,
      "outputs": [
        {
          "output_type": "stream",
          "name": "stdout",
          "text": [
            "1\n",
            "4\n",
            "9\n",
            "16\n",
            "25\n"
          ]
        }
      ]
    },
    {
      "cell_type": "markdown",
      "source": [
        "\n",
        "### İşlem Optimizasyonu\n",
        "- İşlemci kaynaklarını en iyi şekilde kullanmak için işlem sıralamasını ve önceliğini ayarlama.\n",
        "- İşlemci optimizasyonu için derleme seçeneklerini kullanma.\n",
        "\n",
        "### Veritabanı Optimizasyonu\n",
        "- Veritabanı sorgularını optimize etme.\n",
        "- İndeksleme ve veritabanı tasarımı ile performansı artırma.\n",
        "\n",
        "### İşaretçi (Pointer) ve Bellek Yönetimi\n",
        "- İşaretçileri doğru ve güvenli bir şekilde kullanma.\n",
        "- Bellek yönetimi ve işaretçi hatalarını önleme.\n",
        "\n",
        "### Kaynak Kullanımı Optimizasyonu\n",
        "- Dosya işleme, ağ bağlantıları ve diğer kaynakların verimli kullanımını sağlama.\n",
        "- Kaynak sızıntılarını önleme.\n",
        "\n",
        "### Önbellek Kullanımı\n",
        "- Sık erişilen verileri önbelleğe alarak tekrar hesaplama gereksinimini azaltma.\n",
        "- Veri önbelleğini doğru ve etkili bir şekilde kullanma.\n",
        "\n",
        "### Derleme (Compile) Optimizasyonları\n",
        "- Derleyici tarafından yapılan otomatik optimizasyonları etkin bir şekilde kullanma.\n",
        "- Derleme seçeneklerini ayarlama.\n",
        "\n",
        "### Profillemeye Dayalı Optimizasyon\n",
        "- Profillemeyi kullanarak kodunuzun hangi bölümlerinin daha fazla süre harcadığını ve daha fazla kaynak kullandığını belirleme.\n",
        "- Profillemeye dayalı olarak optimizasyonlar yapma.\n",
        "\n",
        "### Kod Parçacığı İncelemesi\n",
        "- Kod incelemesi ve kod kalitesi kontrolü yaparak verimlilik sorunlarını tespit etme.\n",
        "- Diğer geliştiricilerin geri bildirimlerini dikkate alma.\n"
      ],
      "metadata": {
        "id": "4Sz6SuwF7Oe1"
      }
    },
    {
      "cell_type": "markdown",
      "source": [
        "Bunların yanı sıra çok fazla etkili olmasa da okunabilirlik olarak temiz kod yazma teknikleri de önemlidir."
      ],
      "metadata": {
        "id": "cQkImO1R8hkb"
      }
    },
    {
      "cell_type": "markdown",
      "source": [
        "**Temiz Kod Yazma Teknikleri**\n",
        "\n",
        "* *Açık ve Anlaşılır İsimlendirme*\n",
        "  - Değişkenlerin, fonksiyonların ve sınıfların adları açıklayıcı olmalıdır. Diğer geliştiricilerin kodu daha hızlı anlamalarına yardımcı olmak için anlamlı isimler kullanın.\n",
        "\n",
        "* *Kod Yorumlarından Kaçının*\n",
        "  - Kodunuzun anlaşılır ve açık olmasına öncelik verin. Kod yorumları, gerektiği kadar kullanılmalı ancak kodun kendisi yeterince açıklayıcı olmalıdır.\n",
        "\n",
        "* *Tek Sorumluluk İlkesi*\n",
        "  - Bir fonksiyon veya sınıfın tek bir görevi olmalıdır. Karmaşık ve çok işlevli fonksiyonları parçalara bölün.\n",
        "\n",
        "* *İşlevsel Programlama Prensiplerini Kullanın*\n",
        "  - İşlevsel programlama, kodun daha okunaklı ve hatasız olmasına yardımcı olabilir. Lambda ifadeleri, map, filter ve reduce gibi işlevsel programlama araçlarını kullanın.\n",
        "\n",
        "* *Kod Tekrarından Kaçının*\n",
        "  - Aynı kodu birden fazla kez yazmaktansa, işlevler veya sınıflar kullanarak kodunuzu yeniden kullanılabilir hale getirin.\n",
        "\n",
        "* *Hata İşleme*\n",
        "  - Hata işleme kodları eklerken, özel hata mesajları ve işlem adı ile hatayı tanımlayın. Hata yakalama işlemleri, kullanıcıya hataları anlaşılır bir şekilde iletmelidir.\n",
        "\n",
        "* *Beyaz Alan Kullanımı*\n",
        "  - Kodunuzu boşluklar ve girintilerle düzenleyin. Kodun daha okunaklı olması için düzgün bir biçimde girinti yapın.\n",
        "\n",
        "* *Sınırlı Parametre Kullanımı*\n",
        "  - Fonksiyonlarınıza mümkünse sınırlı sayıda parametre ile geçin. Fazla parametre karmaşıklığı artırabilir.\n",
        "\n",
        "* *Kod İncelemesi*\n",
        "  - Diğer geliştiricilerin kodunuzu incelemesi ve geri bildirim sağlaması için zaman ayırın. Başkalarının kodunuzun kalitesini değerlendirmesi, daha temiz kod yazmanıza yardımcı olabilir.\n",
        "\n",
        "* *Testler Yazma*\n",
        "  - Kodunuzu test edin. Birim testleri ve entegrasyon testleri, kodunuzun düzgün çalıştığını ve gelecekteki değişikliklerin mevcut işlevselliği bozmadığını doğrulamaya yardımcı olur.\n",
        "\n",
        "* *Dökümantasyon*\n",
        "  - Kodunuzun nasıl çalıştığını ve kullanılacağını belirten bir dökümantasyon yazın. Kullanım kılavuzları ve API belgeleri oluşturun.\n",
        "\n",
        "* *Kodunuzu Sürekli İyileştirin*\n",
        "  - Kodunuzu sürekli olarak gözden geçirin ve iyileştirin. Geliştirme sürecinde deneyim kazandıkça, daha iyi kod yazma yollarını bulacaksınız.\n"
      ],
      "metadata": {
        "id": "39bxbOa8-Mgs"
      }
    },
    {
      "cell_type": "code",
      "execution_count": null,
      "metadata": {
        "id": "DJL-9d4y30KM"
      },
      "outputs": [],
      "source": []
    },
    {
      "cell_type": "code",
      "source": [],
      "metadata": {
        "id": "lEDUf8wf-Rjx"
      },
      "execution_count": null,
      "outputs": []
    },
    {
      "cell_type": "code",
      "source": [],
      "metadata": {
        "id": "O9Pj0PxF-RmE"
      },
      "execution_count": null,
      "outputs": []
    },
    {
      "cell_type": "code",
      "source": [],
      "metadata": {
        "id": "KiH0qlpw-RqJ"
      },
      "execution_count": null,
      "outputs": []
    },
    {
      "cell_type": "code",
      "source": [],
      "metadata": {
        "id": "su87Ch7D-Rr-"
      },
      "execution_count": null,
      "outputs": []
    },
    {
      "cell_type": "code",
      "source": [],
      "metadata": {
        "id": "Hukgcp2O-RuI"
      },
      "execution_count": null,
      "outputs": []
    },
    {
      "cell_type": "code",
      "source": [],
      "metadata": {
        "id": "aMT4ksqr-RwE"
      },
      "execution_count": null,
      "outputs": []
    },
    {
      "cell_type": "code",
      "source": [],
      "metadata": {
        "id": "0fV23nJW-Rx8"
      },
      "execution_count": null,
      "outputs": []
    },
    {
      "cell_type": "code",
      "source": [],
      "metadata": {
        "id": "4jfK0Fhg-R2K"
      },
      "execution_count": null,
      "outputs": []
    },
    {
      "cell_type": "code",
      "source": [],
      "metadata": {
        "id": "sVQaTNko-R4h"
      },
      "execution_count": null,
      "outputs": []
    },
    {
      "cell_type": "code",
      "source": [],
      "metadata": {
        "id": "eA3w6yks-VF2"
      },
      "execution_count": null,
      "outputs": []
    },
    {
      "cell_type": "code",
      "source": [],
      "metadata": {
        "id": "-MEEVerF-VHu"
      },
      "execution_count": null,
      "outputs": []
    },
    {
      "cell_type": "code",
      "source": [],
      "metadata": {
        "id": "X-S--z20-VJR"
      },
      "execution_count": null,
      "outputs": []
    },
    {
      "cell_type": "code",
      "source": [],
      "metadata": {
        "id": "rkVbjueA-VNT"
      },
      "execution_count": null,
      "outputs": []
    },
    {
      "cell_type": "code",
      "source": [],
      "metadata": {
        "id": "BSe1XkJl-VPA"
      },
      "execution_count": null,
      "outputs": []
    },
    {
      "cell_type": "code",
      "source": [],
      "metadata": {
        "id": "DTE07OSp-VRJ"
      },
      "execution_count": null,
      "outputs": []
    }
  ]
}