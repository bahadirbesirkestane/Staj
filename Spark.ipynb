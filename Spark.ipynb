{
  "cells": [
    {
      "cell_type": "markdown",
      "metadata": {
        "id": "view-in-github",
        "colab_type": "text"
      },
      "source": [
        "<a href=\"https://colab.research.google.com/github/bahadirbesirkestane/Staj/blob/main/Spark.ipynb\" target=\"_parent\"><img src=\"https://colab.research.google.com/assets/colab-badge.svg\" alt=\"Open In Colab\"/></a>"
      ]
    },
    {
      "cell_type": "markdown",
      "source": [
        "##**Python'da Spark ile Büyük Veri İşleme**"
      ],
      "metadata": {
        "id": "qnTtrVrey4RW"
      },
      "id": "qnTtrVrey4RW"
    },
    {
      "cell_type": "code",
      "execution_count": null,
      "id": "8deaf0ac-b4ee-4508-9ec2-bb96c59c0946",
      "metadata": {
        "tags": [],
        "id": "8deaf0ac-b4ee-4508-9ec2-bb96c59c0946",
        "outputId": "30824693-0be0-4179-d62a-b6c19bf98088"
      },
      "outputs": [
        {
          "name": "stdout",
          "output_type": "stream",
          "text": [
            "Requirement already satisfied: findspark in d:\\anaconda\\lib\\site-packages (2.0.1)\n"
          ]
        }
      ],
      "source": [
        "!pip install findspark"
      ]
    },
    {
      "cell_type": "code",
      "execution_count": null,
      "id": "c90db26a-3810-445b-b992-82dbe208d6b3",
      "metadata": {
        "tags": [],
        "id": "c90db26a-3810-445b-b992-82dbe208d6b3"
      },
      "outputs": [],
      "source": [
        "import findspark"
      ]
    },
    {
      "cell_type": "code",
      "execution_count": null,
      "id": "118da99a-dbba-4ad1-a636-7e3f374ea74b",
      "metadata": {
        "tags": [],
        "id": "118da99a-dbba-4ad1-a636-7e3f374ea74b"
      },
      "outputs": [],
      "source": [
        "findspark.init(\"C:\\spark\")"
      ]
    },
    {
      "cell_type": "code",
      "execution_count": null,
      "id": "e1db194c-e3c5-44f9-a988-087da901a3e5",
      "metadata": {
        "tags": [],
        "id": "e1db194c-e3c5-44f9-a988-087da901a3e5"
      },
      "outputs": [],
      "source": [
        "from pyspark import SparkContext"
      ]
    },
    {
      "cell_type": "code",
      "execution_count": null,
      "id": "49a2f2dd-4e43-4f72-872b-6e041ada59a4",
      "metadata": {
        "tags": [],
        "id": "49a2f2dd-4e43-4f72-872b-6e041ada59a4"
      },
      "outputs": [],
      "source": [
        "import pyspark\n",
        "from pyspark.sql import SparkSession\n",
        "from pyspark.conf import SparkConf"
      ]
    },
    {
      "cell_type": "code",
      "execution_count": null,
      "id": "e8e82d3b-95da-49e5-866d-7f724f84a056",
      "metadata": {
        "tags": [],
        "id": "e8e82d3b-95da-49e5-866d-7f724f84a056"
      },
      "outputs": [],
      "source": [
        "spark=SparkSession.builder \\\n",
        "        .master(\"local\") \\\n",
        "        .appName(\"pysaprk_giris\") \\\n",
        "        .getOrCreate()\n",
        "\n",
        "sc=spark.sparkContext"
      ]
    },
    {
      "cell_type": "code",
      "execution_count": null,
      "id": "dbfb7a20-dd87-44ed-9b34-522846bc8ffb",
      "metadata": {
        "tags": [],
        "id": "dbfb7a20-dd87-44ed-9b34-522846bc8ffb",
        "outputId": "fc1d7898-ac02-4b73-d29a-d2c6c526af3e"
      },
      "outputs": [
        {
          "data": {
            "text/html": [
              "\n",
              "        <div>\n",
              "            <p><b>SparkContext</b></p>\n",
              "\n",
              "            <p><a href=\"http://OMEN:4042\">Spark UI</a></p>\n",
              "\n",
              "            <dl>\n",
              "              <dt>Version</dt>\n",
              "                <dd><code>v3.5.0</code></dd>\n",
              "              <dt>Master</dt>\n",
              "                <dd><code>local</code></dd>\n",
              "              <dt>AppName</dt>\n",
              "                <dd><code>pysaprk_giris</code></dd>\n",
              "            </dl>\n",
              "        </div>\n",
              "        "
            ],
            "text/plain": [
              "<SparkContext master=local appName=pysaprk_giris>"
            ]
          },
          "execution_count": 7,
          "metadata": {},
          "output_type": "execute_result"
        }
      ],
      "source": [
        "sc"
      ]
    },
    {
      "cell_type": "code",
      "execution_count": null,
      "id": "016b4ae0-89ae-4f6d-8265-cae90fce1eb8",
      "metadata": {
        "tags": [],
        "id": "016b4ae0-89ae-4f6d-8265-cae90fce1eb8",
        "outputId": "a46a419c-a598-48cc-c832-8d75a3407ef5"
      },
      "outputs": [
        {
          "data": {
            "text/plain": [
              "'3.5.0'"
            ]
          },
          "execution_count": 8,
          "metadata": {},
          "output_type": "execute_result"
        }
      ],
      "source": [
        "sc.version"
      ]
    },
    {
      "cell_type": "code",
      "execution_count": null,
      "id": "9533a49a-c595-4c47-b0de-6ced16dfd872",
      "metadata": {
        "tags": [],
        "id": "9533a49a-c595-4c47-b0de-6ced16dfd872",
        "outputId": "fa0bc8e8-88a2-4045-b768-6eaf88326347"
      },
      "outputs": [
        {
          "data": {
            "text/plain": [
              "'pysaprk_giris'"
            ]
          },
          "execution_count": 9,
          "metadata": {},
          "output_type": "execute_result"
        }
      ],
      "source": [
        "sc.appName"
      ]
    },
    {
      "cell_type": "markdown",
      "id": "998285c4-d4b1-4a2d-8ba2-904f1d570eda",
      "metadata": {
        "id": "998285c4-d4b1-4a2d-8ba2-904f1d570eda"
      },
      "source": [
        ">Her açılan sparkın bilgisayar kapanmadan durudurulması gerekir."
      ]
    },
    {
      "cell_type": "code",
      "execution_count": null,
      "id": "a7671077-1ff2-4835-8b64-7e568edec75f",
      "metadata": {
        "tags": [],
        "id": "a7671077-1ff2-4835-8b64-7e568edec75f"
      },
      "outputs": [],
      "source": [
        "#sc.stop()"
      ]
    },
    {
      "cell_type": "markdown",
      "id": "22dc5509-b07a-4f51-b5a9-d73cfbee1fe5",
      "metadata": {
        "id": "22dc5509-b07a-4f51-b5a9-d73cfbee1fe5"
      },
      "source": [
        "# Temel Dataframe işlemleri"
      ]
    },
    {
      "cell_type": "code",
      "execution_count": null,
      "id": "667f3542-c2d2-4870-a880-1d90a16e8bf9",
      "metadata": {
        "tags": [],
        "id": "667f3542-c2d2-4870-a880-1d90a16e8bf9"
      },
      "outputs": [],
      "source": [
        "spark_df=spark.read.csv(\"C:/Users/O M E N/Masaüstü/Ogrenimler/jupiterBigData/churn.csv\",header=True,inferSchema=True)"
      ]
    },
    {
      "cell_type": "code",
      "execution_count": null,
      "id": "e6532554-de7f-431f-8274-316d4c4d07e8",
      "metadata": {
        "tags": [],
        "id": "e6532554-de7f-431f-8274-316d4c4d07e8",
        "outputId": "15d91c54-769f-4bb3-a2b9-0350486e0a76"
      },
      "outputs": [
        {
          "name": "stdout",
          "output_type": "stream",
          "text": [
            "root\n",
            " |-- _c0: integer (nullable = true)\n",
            " |-- Names: string (nullable = true)\n",
            " |-- Age: double (nullable = true)\n",
            " |-- Total_Purchase: double (nullable = true)\n",
            " |-- Account_Manager: integer (nullable = true)\n",
            " |-- Years: double (nullable = true)\n",
            " |-- Num_Sites: double (nullable = true)\n",
            " |-- Churn: integer (nullable = true)\n",
            "\n"
          ]
        }
      ],
      "source": [
        "spark_df.printSchema()"
      ]
    },
    {
      "cell_type": "code",
      "execution_count": null,
      "id": "32607d61-555d-4b2a-a9aa-40d4e6be7e52",
      "metadata": {
        "tags": [],
        "id": "32607d61-555d-4b2a-a9aa-40d4e6be7e52",
        "outputId": "27322446-ed80-438d-f350-c26d8e7ad23e"
      },
      "outputs": [
        {
          "data": {
            "text/plain": [
              "DataFrame[_c0: int, Names: string, Age: double, Total_Purchase: double, Account_Manager: int, Years: double, Num_Sites: double, Churn: int]"
            ]
          },
          "execution_count": 13,
          "metadata": {},
          "output_type": "execute_result"
        }
      ],
      "source": [
        "spark_df.cache()"
      ]
    },
    {
      "cell_type": "code",
      "execution_count": null,
      "id": "228a4965-a991-4c2c-b587-ed002e1f37d3",
      "metadata": {
        "tags": [],
        "id": "228a4965-a991-4c2c-b587-ed002e1f37d3",
        "outputId": "9415f87a-4b52-4040-865d-71949dbec367"
      },
      "outputs": [
        {
          "data": {
            "text/plain": [
              "Row(_c0=0, Names='Cameron Williams', Age=42.0, Total_Purchase=11066.8, Account_Manager=0, Years=7.22, Num_Sites=8.0, Churn=1)"
            ]
          },
          "execution_count": 14,
          "metadata": {},
          "output_type": "execute_result"
        }
      ],
      "source": [
        "spark_df.head()"
      ]
    },
    {
      "cell_type": "code",
      "execution_count": null,
      "id": "b9ce8cc1-332e-4f9c-bdc1-8660b42f0a89",
      "metadata": {
        "tags": [],
        "id": "b9ce8cc1-332e-4f9c-bdc1-8660b42f0a89",
        "outputId": "a20cb22f-c4f6-4674-d3af-f804510baaf9"
      },
      "outputs": [
        {
          "name": "stdout",
          "output_type": "stream",
          "text": [
            "+---+----------------+----+--------------+---------------+-----+---------+-----+\n",
            "|_c0|           Names| Age|Total_Purchase|Account_Manager|Years|Num_Sites|Churn|\n",
            "+---+----------------+----+--------------+---------------+-----+---------+-----+\n",
            "|  0|Cameron Williams|42.0|       11066.8|              0| 7.22|      8.0|    1|\n",
            "|  1|   Kevin Mueller|41.0|      11916.22|              0|  6.5|     11.0|    1|\n",
            "|  2|     Eric Lozano|38.0|      12884.75|              0| 6.67|     12.0|    1|\n",
            "|  3|   Phillip White|42.0|       8010.76|              0| 6.71|     10.0|    1|\n",
            "|  4|  Cynthia Norton|37.0|       9191.58|              0| 5.56|      9.0|    1|\n",
            "+---+----------------+----+--------------+---------------+-----+---------+-----+\n",
            "only showing top 5 rows\n",
            "\n"
          ]
        }
      ],
      "source": [
        "spark_df.show(5,truncate=True)"
      ]
    },
    {
      "cell_type": "code",
      "execution_count": null,
      "id": "db6b883b-c7d4-4d7c-ba37-8300762afe52",
      "metadata": {
        "tags": [],
        "id": "db6b883b-c7d4-4d7c-ba37-8300762afe52",
        "outputId": "6148efea-7b25-401f-999a-29239b3c8593"
      },
      "outputs": [
        {
          "data": {
            "text/plain": [
              "900"
            ]
          },
          "execution_count": 16,
          "metadata": {},
          "output_type": "execute_result"
        }
      ],
      "source": [
        "spark_df.count()"
      ]
    },
    {
      "cell_type": "code",
      "execution_count": null,
      "id": "015c3d68-ef4b-44ef-88e0-2c58c28e78a2",
      "metadata": {
        "tags": [],
        "id": "015c3d68-ef4b-44ef-88e0-2c58c28e78a2",
        "outputId": "df84540d-8a45-4ff3-bdf1-aff0a41f3a4c"
      },
      "outputs": [
        {
          "data": {
            "text/plain": [
              "['_c0',\n",
              " 'Names',\n",
              " 'Age',\n",
              " 'Total_Purchase',\n",
              " 'Account_Manager',\n",
              " 'Years',\n",
              " 'Num_Sites',\n",
              " 'Churn']"
            ]
          },
          "execution_count": 17,
          "metadata": {},
          "output_type": "execute_result"
        }
      ],
      "source": [
        "spark_df.columns"
      ]
    },
    {
      "cell_type": "code",
      "execution_count": null,
      "id": "104dc6cf-178f-453f-89ba-dd1ca7c0038c",
      "metadata": {
        "tags": [],
        "id": "104dc6cf-178f-453f-89ba-dd1ca7c0038c",
        "outputId": "cf7e47b8-d953-452d-97ab-2fed2af751e0"
      },
      "outputs": [
        {
          "name": "stdout",
          "output_type": "stream",
          "text": [
            "+-------+------------------+-------------+-----------------+-----------------+------------------+-----------------+------------------+-------------------+\n",
            "|summary|               _c0|        Names|              Age|   Total_Purchase|   Account_Manager|            Years|         Num_Sites|              Churn|\n",
            "+-------+------------------+-------------+-----------------+-----------------+------------------+-----------------+------------------+-------------------+\n",
            "|  count|               900|          900|              900|              900|               900|              900|               900|                900|\n",
            "|   mean|             449.5|         NULL|41.81666666666667|10062.82403333334|0.4811111111111111| 5.27315555555555| 8.587777777777777|0.16666666666666666|\n",
            "| stddev|259.95191863111916|         NULL|6.127560416916251|2408.644531858096|0.4999208935073339|1.274449013194616|1.7648355920350969| 0.3728852122772358|\n",
            "|    min|                 0|   Aaron King|             22.0|            100.0|                 0|              1.0|               3.0|                  0|\n",
            "|    max|               899|Zachary Walsh|             65.0|         18026.01|                 1|             9.15|              14.0|                  1|\n",
            "+-------+------------------+-------------+-----------------+-----------------+------------------+-----------------+------------------+-------------------+\n",
            "\n"
          ]
        }
      ],
      "source": [
        "spark_df.describe().show()"
      ]
    },
    {
      "cell_type": "code",
      "execution_count": null,
      "id": "75b081b9-e87f-459b-ab3b-70d620caec8a",
      "metadata": {
        "tags": [],
        "id": "75b081b9-e87f-459b-ab3b-70d620caec8a",
        "outputId": "39c18431-9987-4203-afd7-16e092a1289d"
      },
      "outputs": [
        {
          "name": "stdout",
          "output_type": "stream",
          "text": [
            "+-------+-----------------+\n",
            "|summary|              Age|\n",
            "+-------+-----------------+\n",
            "|  count|              900|\n",
            "|   mean|41.81666666666667|\n",
            "| stddev|6.127560416916251|\n",
            "|    min|             22.0|\n",
            "|    max|             65.0|\n",
            "+-------+-----------------+\n",
            "\n"
          ]
        }
      ],
      "source": [
        "spark_df.describe(\"Age\").show()"
      ]
    },
    {
      "cell_type": "code",
      "execution_count": null,
      "id": "49e88ead-6f92-4e51-a6d9-01a49030c9ba",
      "metadata": {
        "tags": [],
        "id": "49e88ead-6f92-4e51-a6d9-01a49030c9ba",
        "outputId": "0a0a1dbc-cd4e-4294-b10d-5a6429fe5f5e"
      },
      "outputs": [
        {
          "name": "stdout",
          "output_type": "stream",
          "text": [
            "+----+-------------------+\n",
            "| Age|              Names|\n",
            "+----+-------------------+\n",
            "|42.0|   Cameron Williams|\n",
            "|41.0|      Kevin Mueller|\n",
            "|38.0|        Eric Lozano|\n",
            "|42.0|      Phillip White|\n",
            "|37.0|     Cynthia Norton|\n",
            "|48.0|   Jessica Williams|\n",
            "|44.0|        Eric Butler|\n",
            "|32.0|      Zachary Walsh|\n",
            "|43.0|        Ashlee Carr|\n",
            "|40.0|     Jennifer Lynch|\n",
            "|30.0|       Paula Harris|\n",
            "|45.0|     Bruce Phillips|\n",
            "|45.0|       Craig Garner|\n",
            "|40.0|       Nicole Olson|\n",
            "|41.0|     Harold Griffin|\n",
            "|38.0|       James Wright|\n",
            "|45.0|      Doris Wilkins|\n",
            "|43.0|Katherine Carpenter|\n",
            "|53.0|     Lindsay Martin|\n",
            "|46.0|        Kathy Curry|\n",
            "+----+-------------------+\n",
            "only showing top 20 rows\n",
            "\n"
          ]
        }
      ],
      "source": [
        "spark_df.select(\"Age\",\"Names\").show()"
      ]
    },
    {
      "cell_type": "code",
      "execution_count": null,
      "id": "98cfda57-20f1-455e-b7d1-7e0c25b1422d",
      "metadata": {
        "tags": [],
        "id": "98cfda57-20f1-455e-b7d1-7e0c25b1422d",
        "outputId": "4dec360a-e8b2-4020-b419-6ab262fff15a"
      },
      "outputs": [
        {
          "name": "stdout",
          "output_type": "stream",
          "text": [
            "+---+-------------------+----+--------------+---------------+-----+---------+-----+\n",
            "|_c0|              Names| Age|Total_Purchase|Account_Manager|Years|Num_Sites|Churn|\n",
            "+---+-------------------+----+--------------+---------------+-----+---------+-----+\n",
            "|  0|   Cameron Williams|42.0|       11066.8|              0| 7.22|      8.0|    1|\n",
            "|  1|      Kevin Mueller|41.0|      11916.22|              0|  6.5|     11.0|    1|\n",
            "|  3|      Phillip White|42.0|       8010.76|              0| 6.71|     10.0|    1|\n",
            "|  5|   Jessica Williams|48.0|      10356.02|              0| 5.12|      8.0|    1|\n",
            "|  6|        Eric Butler|44.0|      11331.58|              1| 5.23|     11.0|    1|\n",
            "|  8|        Ashlee Carr|43.0|       14062.6|              1| 5.46|     11.0|    1|\n",
            "| 11|     Bruce Phillips|45.0|       8771.02|              1| 6.64|     11.0|    1|\n",
            "| 12|       Craig Garner|45.0|       8988.67|              1| 4.84|     11.0|    1|\n",
            "| 14|     Harold Griffin|41.0|       6569.87|              1|  4.3|     11.0|    1|\n",
            "| 16|      Doris Wilkins|45.0|       8213.41|              1| 7.35|     11.0|    1|\n",
            "| 17|Katherine Carpenter|43.0|      11226.88|              0| 8.08|     12.0|    1|\n",
            "| 18|     Lindsay Martin|53.0|       5515.09|              0| 6.85|      8.0|    1|\n",
            "| 19|        Kathy Curry|46.0|        8046.4|              1| 5.69|      8.0|    1|\n",
            "| 20|        Dean Miller|41.0|       9771.22|              0| 5.81|     11.0|    1|\n",
            "| 21|        Kevin Ramos|56.0|      12217.95|              1| 5.79|     11.0|    1|\n",
            "| 23|        Paul Walker|41.0|      10474.94|              0|  6.4|     12.0|    1|\n",
            "| 24|        Lindsey Day|55.0|       11158.5|              1| 4.86|     10.0|    1|\n",
            "| 25|   Steven Hernandez|54.0|        8207.1|              0| 4.26|     11.0|    1|\n",
            "| 28|      Darlene Evans|44.0|      12721.55|              0| 5.18|     11.0|    1|\n",
            "| 30|       Laura Pierce|54.0|      10661.48|              1| 5.16|      8.0|    1|\n",
            "+---+-------------------+----+--------------+---------------+-----+---------+-----+\n",
            "only showing top 20 rows\n",
            "\n"
          ]
        }
      ],
      "source": [
        "spark_df.filter(spark_df.Age > 40).show()"
      ]
    },
    {
      "cell_type": "code",
      "execution_count": null,
      "id": "b30b85d5-907f-4b1a-adec-5577b5dd340a",
      "metadata": {
        "tags": [],
        "id": "b30b85d5-907f-4b1a-adec-5577b5dd340a",
        "outputId": "70f18ba1-3ec6-4273-f9c7-9a6d3b5e4b1a"
      },
      "outputs": [
        {
          "name": "stdout",
          "output_type": "stream",
          "text": [
            "+-----+-----+\n",
            "|Churn|count|\n",
            "+-----+-----+\n",
            "|    1|  150|\n",
            "|    0|  750|\n",
            "+-----+-----+\n",
            "\n"
          ]
        }
      ],
      "source": [
        "spark_df.groupby(\"Churn\").count().show()"
      ]
    },
    {
      "cell_type": "code",
      "execution_count": null,
      "id": "f873b05f-6d9c-453d-a49e-09f5278f3293",
      "metadata": {
        "tags": [],
        "id": "f873b05f-6d9c-453d-a49e-09f5278f3293",
        "outputId": "ce71457f-da0e-471b-c508-11b59ce03e52"
      },
      "outputs": [
        {
          "name": "stdout",
          "output_type": "stream",
          "text": [
            "+-----+-----------------+\n",
            "|Churn|         avg(Age)|\n",
            "+-----+-----------------+\n",
            "|    1|42.99333333333333|\n",
            "|    0|41.58133333333333|\n",
            "+-----+-----------------+\n",
            "\n"
          ]
        }
      ],
      "source": [
        "spark_df.groupby(\"Churn\").agg({\"Age\":\"mean\"}).show()"
      ]
    },
    {
      "cell_type": "markdown",
      "id": "c56bc12a-fad0-4682-aab0-4c4508505bbd",
      "metadata": {
        "id": "c56bc12a-fad0-4682-aab0-4c4508505bbd"
      },
      "source": [
        "> Büyük veride Görselleştirme"
      ]
    },
    {
      "cell_type": "code",
      "execution_count": null,
      "id": "f0b56a76-0cf4-4ff4-81a4-875db20f0a9b",
      "metadata": {
        "tags": [],
        "id": "f0b56a76-0cf4-4ff4-81a4-875db20f0a9b"
      },
      "outputs": [],
      "source": [
        "import matplotlib.pyplot as plt\n",
        "import seaborn as sns"
      ]
    },
    {
      "cell_type": "code",
      "execution_count": null,
      "id": "2b4d5ae7-3583-4158-b8e0-3d1c5f0dc963",
      "metadata": {
        "tags": [],
        "id": "2b4d5ae7-3583-4158-b8e0-3d1c5f0dc963",
        "outputId": "be053dd9-9b75-495b-da69-c7c9a5be2ca7"
      },
      "outputs": [
        {
          "data": {
            "text/html": [
              "<div>\n",
              "<style scoped>\n",
              "    .dataframe tbody tr th:only-of-type {\n",
              "        vertical-align: middle;\n",
              "    }\n",
              "\n",
              "    .dataframe tbody tr th {\n",
              "        vertical-align: top;\n",
              "    }\n",
              "\n",
              "    .dataframe thead th {\n",
              "        text-align: right;\n",
              "    }\n",
              "</style>\n",
              "<table border=\"1\" class=\"dataframe\">\n",
              "  <thead>\n",
              "    <tr style=\"text-align: right;\">\n",
              "      <th></th>\n",
              "      <th>_c0</th>\n",
              "      <th>Names</th>\n",
              "      <th>Age</th>\n",
              "      <th>Total_Purchase</th>\n",
              "      <th>Account_Manager</th>\n",
              "      <th>Years</th>\n",
              "      <th>Num_Sites</th>\n",
              "      <th>Churn</th>\n",
              "    </tr>\n",
              "  </thead>\n",
              "  <tbody>\n",
              "    <tr>\n",
              "      <th>0</th>\n",
              "      <td>0</td>\n",
              "      <td>Cameron Williams</td>\n",
              "      <td>42.0</td>\n",
              "      <td>11066.80</td>\n",
              "      <td>0</td>\n",
              "      <td>7.22</td>\n",
              "      <td>8.0</td>\n",
              "      <td>1</td>\n",
              "    </tr>\n",
              "    <tr>\n",
              "      <th>1</th>\n",
              "      <td>1</td>\n",
              "      <td>Kevin Mueller</td>\n",
              "      <td>41.0</td>\n",
              "      <td>11916.22</td>\n",
              "      <td>0</td>\n",
              "      <td>6.50</td>\n",
              "      <td>11.0</td>\n",
              "      <td>1</td>\n",
              "    </tr>\n",
              "    <tr>\n",
              "      <th>2</th>\n",
              "      <td>2</td>\n",
              "      <td>Eric Lozano</td>\n",
              "      <td>38.0</td>\n",
              "      <td>12884.75</td>\n",
              "      <td>0</td>\n",
              "      <td>6.67</td>\n",
              "      <td>12.0</td>\n",
              "      <td>1</td>\n",
              "    </tr>\n",
              "    <tr>\n",
              "      <th>3</th>\n",
              "      <td>3</td>\n",
              "      <td>Phillip White</td>\n",
              "      <td>42.0</td>\n",
              "      <td>8010.76</td>\n",
              "      <td>0</td>\n",
              "      <td>6.71</td>\n",
              "      <td>10.0</td>\n",
              "      <td>1</td>\n",
              "    </tr>\n",
              "    <tr>\n",
              "      <th>4</th>\n",
              "      <td>4</td>\n",
              "      <td>Cynthia Norton</td>\n",
              "      <td>37.0</td>\n",
              "      <td>9191.58</td>\n",
              "      <td>0</td>\n",
              "      <td>5.56</td>\n",
              "      <td>9.0</td>\n",
              "      <td>1</td>\n",
              "    </tr>\n",
              "  </tbody>\n",
              "</table>\n",
              "</div>"
            ],
            "text/plain": [
              "   _c0             Names   Age  Total_Purchase  Account_Manager  Years  \\\n",
              "0    0  Cameron Williams  42.0        11066.80                0   7.22   \n",
              "1    1     Kevin Mueller  41.0        11916.22                0   6.50   \n",
              "2    2       Eric Lozano  38.0        12884.75                0   6.67   \n",
              "3    3     Phillip White  42.0         8010.76                0   6.71   \n",
              "4    4    Cynthia Norton  37.0         9191.58                0   5.56   \n",
              "\n",
              "   Num_Sites  Churn  \n",
              "0        8.0      1  \n",
              "1       11.0      1  \n",
              "2       12.0      1  \n",
              "3       10.0      1  \n",
              "4        9.0      1  "
            ]
          },
          "execution_count": 25,
          "metadata": {},
          "output_type": "execute_result"
        }
      ],
      "source": [
        "sdf=spark_df.toPandas()\n",
        "sdf.head()"
      ]
    },
    {
      "cell_type": "code",
      "execution_count": null,
      "id": "c8a33f12-d0f0-4d55-960e-603d2c432660",
      "metadata": {
        "tags": [],
        "id": "c8a33f12-d0f0-4d55-960e-603d2c432660",
        "outputId": "d65b9c25-9794-4d19-87f8-b407be29b4f8"
      },
      "outputs": [
        {
          "data": {
            "text/plain": [
              "<Axes: xlabel='Churn'>"
            ]
          },
          "execution_count": 26,
          "metadata": {},
          "output_type": "execute_result"
        },
        {
          "data": {
            "image/png": "[encoded data removed]",
            "text/plain": [
              "<Figure size 640x480 with 1 Axes>"
            ]
          },
          "metadata": {},
          "output_type": "display_data"
        }
      ],
      "source": [
        "sns.barplot(x=\"Churn\",y=sdf.Churn.index,data=sdf)"
      ]
    },
    {
      "cell_type": "code",
      "execution_count": null,
      "id": "8dc13c2d-368f-4d71-98f0-3b8bf8a7f4fb",
      "metadata": {
        "tags": [],
        "id": "8dc13c2d-368f-4d71-98f0-3b8bf8a7f4fb",
        "outputId": "c5369011-9490-4955-dee0-c40b5c92f877"
      },
      "outputs": [
        {
          "data": {
            "text/html": [
              "<div>\n",
              "<style scoped>\n",
              "    .dataframe tbody tr th:only-of-type {\n",
              "        vertical-align: middle;\n",
              "    }\n",
              "\n",
              "    .dataframe tbody tr th {\n",
              "        vertical-align: top;\n",
              "    }\n",
              "\n",
              "    .dataframe thead th {\n",
              "        text-align: right;\n",
              "    }\n",
              "</style>\n",
              "<table border=\"1\" class=\"dataframe\">\n",
              "  <thead>\n",
              "    <tr style=\"text-align: right;\">\n",
              "      <th></th>\n",
              "      <th>Churn</th>\n",
              "      <th>count</th>\n",
              "    </tr>\n",
              "  </thead>\n",
              "  <tbody>\n",
              "    <tr>\n",
              "      <th>0</th>\n",
              "      <td>1</td>\n",
              "      <td>150</td>\n",
              "    </tr>\n",
              "    <tr>\n",
              "      <th>1</th>\n",
              "      <td>0</td>\n",
              "      <td>750</td>\n",
              "    </tr>\n",
              "  </tbody>\n",
              "</table>\n",
              "</div>"
            ],
            "text/plain": [
              "   Churn  count\n",
              "0      1    150\n",
              "1      0    750"
            ]
          },
          "execution_count": 27,
          "metadata": {},
          "output_type": "execute_result"
        }
      ],
      "source": [
        "a=spark_df.groupby(\"Churn\").count().toPandas()\n",
        "a"
      ]
    },
    {
      "cell_type": "code",
      "execution_count": null,
      "id": "b9e474fe-f1fb-4811-9c8f-d3424a051af0",
      "metadata": {
        "tags": [],
        "id": "b9e474fe-f1fb-4811-9c8f-d3424a051af0",
        "outputId": "d6025676-de78-46a8-f408-441204dab946"
      },
      "outputs": [
        {
          "data": {
            "text/plain": [
              "pandas.core.frame.DataFrame"
            ]
          },
          "execution_count": 28,
          "metadata": {},
          "output_type": "execute_result"
        }
      ],
      "source": [
        "type(a)"
      ]
    },
    {
      "cell_type": "markdown",
      "id": "037a3c75-023d-4be9-a605-47829bee139a",
      "metadata": {
        "id": "037a3c75-023d-4be9-a605-47829bee139a"
      },
      "source": [
        "#Makine Öğrenmesi"
      ]
    },
    {
      "cell_type": "code",
      "execution_count": null,
      "id": "e8810b9b-e0a4-4687-9509-32930b2e840d",
      "metadata": {
        "tags": [],
        "id": "e8810b9b-e0a4-4687-9509-32930b2e840d"
      },
      "outputs": [],
      "source": [
        "spark_df=spark.read.csv(\"C:/Users/O M E N/Masaüstü/Ogrenimler/jupiterBigData/churn.csv\",header=True,inferSchema=True)"
      ]
    },
    {
      "cell_type": "code",
      "execution_count": null,
      "id": "74439778-bb3b-4c77-a4b1-b3a0511d30b9",
      "metadata": {
        "tags": [],
        "id": "74439778-bb3b-4c77-a4b1-b3a0511d30b9",
        "outputId": "7c916b6b-a1fc-48ff-e849-3fd9b5f8df60"
      },
      "outputs": [
        {
          "name": "stdout",
          "output_type": "stream",
          "text": [
            "+---+----------------+----+--------------+---------------+-----+---------+-----+\n",
            "|_c0|           Names| Age|Total_Purchase|Account_Manager|Years|Num_Sites|Churn|\n",
            "+---+----------------+----+--------------+---------------+-----+---------+-----+\n",
            "|  0|Cameron Williams|42.0|       11066.8|              0| 7.22|      8.0|    1|\n",
            "|  1|   Kevin Mueller|41.0|      11916.22|              0|  6.5|     11.0|    1|\n",
            "|  2|     Eric Lozano|38.0|      12884.75|              0| 6.67|     12.0|    1|\n",
            "|  3|   Phillip White|42.0|       8010.76|              0| 6.71|     10.0|    1|\n",
            "|  4|  Cynthia Norton|37.0|       9191.58|              0| 5.56|      9.0|    1|\n",
            "+---+----------------+----+--------------+---------------+-----+---------+-----+\n",
            "only showing top 5 rows\n",
            "\n"
          ]
        }
      ],
      "source": [
        "spark_df.show(5)"
      ]
    },
    {
      "cell_type": "markdown",
      "id": "7f41f4be-add5-4a31-b90a-eba372615a7f",
      "metadata": {
        "id": "7f41f4be-add5-4a31-b90a-eba372615a7f"
      },
      "source": [
        "> İsimlendirmelerin standatrlaştırılması"
      ]
    },
    {
      "cell_type": "code",
      "execution_count": null,
      "id": "45b2cf76-1c2a-4edf-a9cb-cef1e3b75bb5",
      "metadata": {
        "tags": [],
        "id": "45b2cf76-1c2a-4edf-a9cb-cef1e3b75bb5"
      },
      "outputs": [],
      "source": [
        "spark_df=spark_df.toDF(*[c.lower() for c in spark_df.columns])"
      ]
    },
    {
      "cell_type": "code",
      "execution_count": null,
      "id": "f897fc9b-9ab5-4e5e-94bd-c6ea2217ea8d",
      "metadata": {
        "tags": [],
        "id": "f897fc9b-9ab5-4e5e-94bd-c6ea2217ea8d",
        "outputId": "c0f282a0-46ea-464d-e437-36170a04c9c9"
      },
      "outputs": [
        {
          "name": "stdout",
          "output_type": "stream",
          "text": [
            "+---+----------------+----+--------------+---------------+-----+---------+-----+\n",
            "|_c0|           names| age|total_purchase|account_manager|years|num_sites|churn|\n",
            "+---+----------------+----+--------------+---------------+-----+---------+-----+\n",
            "|  0|Cameron Williams|42.0|       11066.8|              0| 7.22|      8.0|    1|\n",
            "|  1|   Kevin Mueller|41.0|      11916.22|              0|  6.5|     11.0|    1|\n",
            "|  2|     Eric Lozano|38.0|      12884.75|              0| 6.67|     12.0|    1|\n",
            "|  3|   Phillip White|42.0|       8010.76|              0| 6.71|     10.0|    1|\n",
            "|  4|  Cynthia Norton|37.0|       9191.58|              0| 5.56|      9.0|    1|\n",
            "+---+----------------+----+--------------+---------------+-----+---------+-----+\n",
            "only showing top 5 rows\n",
            "\n"
          ]
        }
      ],
      "source": [
        "spark_df.show(5)"
      ]
    },
    {
      "cell_type": "code",
      "execution_count": null,
      "id": "dd90df1d-d054-4738-a5b8-fbb2daecbb2f",
      "metadata": {
        "tags": [],
        "id": "dd90df1d-d054-4738-a5b8-fbb2daecbb2f"
      },
      "outputs": [],
      "source": [
        "spark_df=spark_df.withColumnRenamed(\"_c0\",\"index\")"
      ]
    },
    {
      "cell_type": "code",
      "execution_count": null,
      "id": "e70fce6b-c5e3-436f-90b4-098545d503d4",
      "metadata": {
        "tags": [],
        "id": "e70fce6b-c5e3-436f-90b4-098545d503d4",
        "outputId": "cabbd77c-165d-4999-ea7b-cbc3488740cc"
      },
      "outputs": [
        {
          "name": "stdout",
          "output_type": "stream",
          "text": [
            "+-----+----------------+----+--------------+---------------+-----+---------+-----+\n",
            "|index|           names| age|total_purchase|account_manager|years|num_sites|churn|\n",
            "+-----+----------------+----+--------------+---------------+-----+---------+-----+\n",
            "|    0|Cameron Williams|42.0|       11066.8|              0| 7.22|      8.0|    1|\n",
            "|    1|   Kevin Mueller|41.0|      11916.22|              0|  6.5|     11.0|    1|\n",
            "|    2|     Eric Lozano|38.0|      12884.75|              0| 6.67|     12.0|    1|\n",
            "|    3|   Phillip White|42.0|       8010.76|              0| 6.71|     10.0|    1|\n",
            "|    4|  Cynthia Norton|37.0|       9191.58|              0| 5.56|      9.0|    1|\n",
            "+-----+----------------+----+--------------+---------------+-----+---------+-----+\n",
            "only showing top 5 rows\n",
            "\n"
          ]
        }
      ],
      "source": [
        "spark_df.show(5)"
      ]
    },
    {
      "cell_type": "code",
      "execution_count": null,
      "id": "b82389ba-6073-41ef-8b7e-58fbf28e4c3b",
      "metadata": {
        "tags": [],
        "id": "b82389ba-6073-41ef-8b7e-58fbf28e4c3b",
        "outputId": "43ae7617-4a74-4b75-a740-51a05f2e8dbf"
      },
      "outputs": [
        {
          "data": {
            "text/plain": [
              "900"
            ]
          },
          "execution_count": 35,
          "metadata": {},
          "output_type": "execute_result"
        }
      ],
      "source": [
        "spark_df.count()"
      ]
    },
    {
      "cell_type": "code",
      "execution_count": null,
      "id": "e36f3326-6ef3-4863-8863-a0473fedff73",
      "metadata": {
        "tags": [],
        "id": "e36f3326-6ef3-4863-8863-a0473fedff73",
        "outputId": "00d19bcf-7bbe-44a9-cf8f-8949424bca4f"
      },
      "outputs": [
        {
          "data": {
            "text/html": [
              "<div>\n",
              "<style scoped>\n",
              "    .dataframe tbody tr th:only-of-type {\n",
              "        vertical-align: middle;\n",
              "    }\n",
              "\n",
              "    .dataframe tbody tr th {\n",
              "        vertical-align: top;\n",
              "    }\n",
              "\n",
              "    .dataframe thead th {\n",
              "        text-align: right;\n",
              "    }\n",
              "</style>\n",
              "<table border=\"1\" class=\"dataframe\">\n",
              "  <thead>\n",
              "    <tr style=\"text-align: right;\">\n",
              "      <th></th>\n",
              "      <th>0</th>\n",
              "      <th>1</th>\n",
              "      <th>2</th>\n",
              "      <th>3</th>\n",
              "      <th>4</th>\n",
              "    </tr>\n",
              "  </thead>\n",
              "  <tbody>\n",
              "    <tr>\n",
              "      <th>summary</th>\n",
              "      <td>count</td>\n",
              "      <td>mean</td>\n",
              "      <td>stddev</td>\n",
              "      <td>min</td>\n",
              "      <td>max</td>\n",
              "    </tr>\n",
              "    <tr>\n",
              "      <th>age</th>\n",
              "      <td>900</td>\n",
              "      <td>41.81666666666667</td>\n",
              "      <td>6.127560416916251</td>\n",
              "      <td>22.0</td>\n",
              "      <td>65.0</td>\n",
              "    </tr>\n",
              "    <tr>\n",
              "      <th>total_purchase</th>\n",
              "      <td>900</td>\n",
              "      <td>10062.82403333334</td>\n",
              "      <td>2408.644531858096</td>\n",
              "      <td>100.0</td>\n",
              "      <td>18026.01</td>\n",
              "    </tr>\n",
              "    <tr>\n",
              "      <th>account_manager</th>\n",
              "      <td>900</td>\n",
              "      <td>0.4811111111111111</td>\n",
              "      <td>0.4999208935073339</td>\n",
              "      <td>0</td>\n",
              "      <td>1</td>\n",
              "    </tr>\n",
              "    <tr>\n",
              "      <th>churn</th>\n",
              "      <td>900</td>\n",
              "      <td>0.16666666666666666</td>\n",
              "      <td>0.3728852122772358</td>\n",
              "      <td>0</td>\n",
              "      <td>1</td>\n",
              "    </tr>\n",
              "  </tbody>\n",
              "</table>\n",
              "</div>"
            ],
            "text/plain": [
              "                     0                    1                   2      3  \\\n",
              "summary          count                 mean              stddev    min   \n",
              "age                900    41.81666666666667   6.127560416916251   22.0   \n",
              "total_purchase     900    10062.82403333334   2408.644531858096  100.0   \n",
              "account_manager    900   0.4811111111111111  0.4999208935073339      0   \n",
              "churn              900  0.16666666666666666  0.3728852122772358      0   \n",
              "\n",
              "                        4  \n",
              "summary               max  \n",
              "age                  65.0  \n",
              "total_purchase   18026.01  \n",
              "account_manager         1  \n",
              "churn                   1  "
            ]
          },
          "execution_count": 36,
          "metadata": {},
          "output_type": "execute_result"
        }
      ],
      "source": [
        "spark_df.select(\"age\",\"total_purchase\",\"account_manager\",\"churn\").describe().toPandas().transpose()"
      ]
    },
    {
      "cell_type": "markdown",
      "id": "05db86f8-4321-4daa-a78d-e4546c33093b",
      "metadata": {
        "id": "05db86f8-4321-4daa-a78d-e4546c33093b"
      },
      "source": [
        ">Veri Ön İşleme"
      ]
    },
    {
      "cell_type": "code",
      "execution_count": null,
      "id": "c8e6ffc2-2730-4cb8-931e-4b9daeec3a16",
      "metadata": {
        "tags": [],
        "id": "c8e6ffc2-2730-4cb8-931e-4b9daeec3a16"
      },
      "outputs": [],
      "source": [
        "spark_df=spark_df.dropna()"
      ]
    },
    {
      "cell_type": "code",
      "execution_count": null,
      "id": "90856ed8-893e-48dd-a719-8f805b55e431",
      "metadata": {
        "tags": [],
        "id": "90856ed8-893e-48dd-a719-8f805b55e431"
      },
      "outputs": [],
      "source": [
        "spark_df=spark_df.withColumn(\"age_kare\",spark_df.age**2)"
      ]
    },
    {
      "cell_type": "code",
      "execution_count": null,
      "id": "073b5916-6ab9-4642-9ad2-6cf81d5a786b",
      "metadata": {
        "tags": [],
        "id": "073b5916-6ab9-4642-9ad2-6cf81d5a786b",
        "outputId": "118e881c-ecf2-4e5d-dc75-fbe4549f4732"
      },
      "outputs": [
        {
          "name": "stdout",
          "output_type": "stream",
          "text": [
            "+-----+----------------+----+--------------+---------------+-----+---------+-----+--------+\n",
            "|index|           names| age|total_purchase|account_manager|years|num_sites|churn|age_kare|\n",
            "+-----+----------------+----+--------------+---------------+-----+---------+-----+--------+\n",
            "|    0|Cameron Williams|42.0|       11066.8|              0| 7.22|      8.0|    1|  1764.0|\n",
            "|    1|   Kevin Mueller|41.0|      11916.22|              0|  6.5|     11.0|    1|  1681.0|\n",
            "|    2|     Eric Lozano|38.0|      12884.75|              0| 6.67|     12.0|    1|  1444.0|\n",
            "|    3|   Phillip White|42.0|       8010.76|              0| 6.71|     10.0|    1|  1764.0|\n",
            "|    4|  Cynthia Norton|37.0|       9191.58|              0| 5.56|      9.0|    1|  1369.0|\n",
            "+-----+----------------+----+--------------+---------------+-----+---------+-----+--------+\n",
            "only showing top 5 rows\n",
            "\n"
          ]
        }
      ],
      "source": [
        "spark_df.show(5)"
      ]
    },
    {
      "cell_type": "markdown",
      "id": "303e5697-bcc8-48f0-b2e7-db39c8de54c8",
      "metadata": {
        "id": "303e5697-bcc8-48f0-b2e7-db39c8de54c8"
      },
      "source": [
        "## Bağımlı değişken belirtme"
      ]
    },
    {
      "cell_type": "code",
      "execution_count": null,
      "id": "d60b4bb4-9223-43de-846c-0718acc40295",
      "metadata": {
        "tags": [],
        "id": "d60b4bb4-9223-43de-846c-0718acc40295"
      },
      "outputs": [],
      "source": [
        "from pyspark.ml.feature import StringIndexer"
      ]
    },
    {
      "cell_type": "code",
      "execution_count": null,
      "id": "e412c81c-6e65-42c9-8e08-ec87c5d365cc",
      "metadata": {
        "tags": [],
        "id": "e412c81c-6e65-42c9-8e08-ec87c5d365cc"
      },
      "outputs": [],
      "source": [
        "stringIndexer=StringIndexer(inputCol=\"churn\",outputCol=\"label\")\n",
        "mod=stringIndexer.fit(spark_df)\n",
        "indexed=mod.transform(spark_df)\n",
        "spark_df=indexed.withColumn(\"label\",indexed[\"label\"].cast(\"integer\"))"
      ]
    },
    {
      "cell_type": "code",
      "execution_count": null,
      "id": "335826ba-6bee-4977-a07a-71b63a63ebc8",
      "metadata": {
        "tags": [],
        "id": "335826ba-6bee-4977-a07a-71b63a63ebc8",
        "outputId": "a5df23ab-66da-49c7-c1d7-d99d7ac67837"
      },
      "outputs": [
        {
          "name": "stdout",
          "output_type": "stream",
          "text": [
            "+-----+----------------+----+--------------+---------------+-----+---------+-----+--------+-----+\n",
            "|index|           names| age|total_purchase|account_manager|years|num_sites|churn|age_kare|label|\n",
            "+-----+----------------+----+--------------+---------------+-----+---------+-----+--------+-----+\n",
            "|    0|Cameron Williams|42.0|       11066.8|              0| 7.22|      8.0|    1|  1764.0|    1|\n",
            "|    1|   Kevin Mueller|41.0|      11916.22|              0|  6.5|     11.0|    1|  1681.0|    1|\n",
            "|    2|     Eric Lozano|38.0|      12884.75|              0| 6.67|     12.0|    1|  1444.0|    1|\n",
            "|    3|   Phillip White|42.0|       8010.76|              0| 6.71|     10.0|    1|  1764.0|    1|\n",
            "|    4|  Cynthia Norton|37.0|       9191.58|              0| 5.56|      9.0|    1|  1369.0|    1|\n",
            "+-----+----------------+----+--------------+---------------+-----+---------+-----+--------+-----+\n",
            "only showing top 5 rows\n",
            "\n"
          ]
        }
      ],
      "source": [
        "spark_df.show(5)"
      ]
    },
    {
      "cell_type": "markdown",
      "id": "03287533-51ca-4db4-a0b9-d67c4541a82b",
      "metadata": {
        "id": "03287533-51ca-4db4-a0b9-d67c4541a82b"
      },
      "source": [
        "## Bağımsız değişkenler"
      ]
    },
    {
      "cell_type": "code",
      "execution_count": null,
      "id": "589764af-51bd-4c83-b6f2-d1d7edf2cd56",
      "metadata": {
        "tags": [],
        "id": "589764af-51bd-4c83-b6f2-d1d7edf2cd56"
      },
      "outputs": [],
      "source": [
        "from pyspark.ml.feature import VectorAssembler"
      ]
    },
    {
      "cell_type": "code",
      "execution_count": null,
      "id": "b690a3c1-eefc-44e9-9fdc-20dadc84b974",
      "metadata": {
        "tags": [],
        "id": "b690a3c1-eefc-44e9-9fdc-20dadc84b974",
        "outputId": "3b686dde-be2d-43cb-b4d6-caf3c636cada"
      },
      "outputs": [
        {
          "data": {
            "text/plain": [
              "['index',\n",
              " 'names',\n",
              " 'age',\n",
              " 'total_purchase',\n",
              " 'account_manager',\n",
              " 'years',\n",
              " 'num_sites',\n",
              " 'churn',\n",
              " 'age_kare',\n",
              " 'label']"
            ]
          },
          "execution_count": 44,
          "metadata": {},
          "output_type": "execute_result"
        }
      ],
      "source": [
        "spark_df.columns"
      ]
    },
    {
      "cell_type": "code",
      "execution_count": null,
      "id": "fcdb6498-b5ab-4c0a-a9af-7bed7c3ab133",
      "metadata": {
        "tags": [],
        "id": "fcdb6498-b5ab-4c0a-a9af-7bed7c3ab133"
      },
      "outputs": [],
      "source": [
        "bagismsiz_degiskenler=[\"age\",\"total_purchase\",\"account_manager\",\"years\",\"num_sites\"]"
      ]
    },
    {
      "cell_type": "code",
      "execution_count": null,
      "id": "20d6fd0c-5be9-4099-9957-3f0f5f56ba9a",
      "metadata": {
        "tags": [],
        "id": "20d6fd0c-5be9-4099-9957-3f0f5f56ba9a",
        "outputId": "20155c3c-7256-470d-a9c8-105f729fc5dc"
      },
      "outputs": [
        {
          "name": "stdout",
          "output_type": "stream",
          "text": [
            "+-----+----------------+----+--------------+---------------+-----+---------+-----+--------+-----+--------------------+\n",
            "|index|           names| age|total_purchase|account_manager|years|num_sites|churn|age_kare|label|            features|\n",
            "+-----+----------------+----+--------------+---------------+-----+---------+-----+--------+-----+--------------------+\n",
            "|    0|Cameron Williams|42.0|       11066.8|              0| 7.22|      8.0|    1|  1764.0|    1|[42.0,11066.8,0.0...|\n",
            "|    1|   Kevin Mueller|41.0|      11916.22|              0|  6.5|     11.0|    1|  1681.0|    1|[41.0,11916.22,0....|\n",
            "|    2|     Eric Lozano|38.0|      12884.75|              0| 6.67|     12.0|    1|  1444.0|    1|[38.0,12884.75,0....|\n",
            "|    3|   Phillip White|42.0|       8010.76|              0| 6.71|     10.0|    1|  1764.0|    1|[42.0,8010.76,0.0...|\n",
            "|    4|  Cynthia Norton|37.0|       9191.58|              0| 5.56|      9.0|    1|  1369.0|    1|[37.0,9191.58,0.0...|\n",
            "+-----+----------------+----+--------------+---------------+-----+---------+-----+--------+-----+--------------------+\n",
            "only showing top 5 rows\n",
            "\n"
          ]
        }
      ],
      "source": [
        "vectorAssembler=VectorAssembler(inputCols=bagismsiz_degiskenler,outputCol=\"features\")\n",
        "va_df=vectorAssembler.transform(spark_df)\n",
        "va_df.show(5)"
      ]
    },
    {
      "cell_type": "code",
      "execution_count": null,
      "id": "fdaaf62a-e4e3-40bb-b25f-f8d76f7ba9c3",
      "metadata": {
        "tags": [],
        "id": "fdaaf62a-e4e3-40bb-b25f-f8d76f7ba9c3",
        "outputId": "3f1796d6-d6c1-4ffb-fdb6-aecef8ba517c"
      },
      "outputs": [
        {
          "name": "stdout",
          "output_type": "stream",
          "text": [
            "+--------------------+-----+\n",
            "|            features|label|\n",
            "+--------------------+-----+\n",
            "|[42.0,11066.8,0.0...|    1|\n",
            "|[41.0,11916.22,0....|    1|\n",
            "|[38.0,12884.75,0....|    1|\n",
            "|[42.0,8010.76,0.0...|    1|\n",
            "|[37.0,9191.58,0.0...|    1|\n",
            "+--------------------+-----+\n",
            "only showing top 5 rows\n",
            "\n"
          ]
        }
      ],
      "source": [
        "final_df=va_df.select([\"features\",\"label\"])\n",
        "final_df.show(5)"
      ]
    },
    {
      "cell_type": "markdown",
      "id": "1be8a4e9-d57b-4588-bedf-3342cedc9e3f",
      "metadata": {
        "id": "1be8a4e9-d57b-4588-bedf-3342cedc9e3f"
      },
      "source": [
        "> train ve test işlemleri"
      ]
    },
    {
      "cell_type": "code",
      "execution_count": null,
      "id": "ab8c271a-8aab-41dd-b44f-d633fa2e114e",
      "metadata": {
        "tags": [],
        "id": "ab8c271a-8aab-41dd-b44f-d633fa2e114e"
      },
      "outputs": [],
      "source": [
        "splits=final_df.randomSplit([0.70,0.30])\n",
        "train_df=splits[0]\n",
        "test_df=splits[1]"
      ]
    },
    {
      "cell_type": "code",
      "execution_count": null,
      "id": "178fb297-69d3-4bd0-8581-9c052acebbf7",
      "metadata": {
        "tags": [],
        "id": "178fb297-69d3-4bd0-8581-9c052acebbf7",
        "outputId": "c216520a-3a4d-4c80-b8c4-3935191d8cf0"
      },
      "outputs": [
        {
          "data": {
            "text/plain": [
              "DataFrame[features: vector, label: int]"
            ]
          },
          "execution_count": 49,
          "metadata": {},
          "output_type": "execute_result"
        }
      ],
      "source": [
        "train_df"
      ]
    },
    {
      "cell_type": "code",
      "execution_count": null,
      "id": "489693ce-f2dc-4dc4-b68b-8a3d99067fce",
      "metadata": {
        "tags": [],
        "id": "489693ce-f2dc-4dc4-b68b-8a3d99067fce",
        "outputId": "3d80ea66-caca-41cd-c405-00162dcaea8d"
      },
      "outputs": [
        {
          "data": {
            "text/plain": [
              "DataFrame[features: vector, label: int]"
            ]
          },
          "execution_count": 50,
          "metadata": {},
          "output_type": "execute_result"
        }
      ],
      "source": [
        "test_df"
      ]
    },
    {
      "cell_type": "markdown",
      "id": "421b1ba4-325c-4946-8c4b-08dd6273c5e2",
      "metadata": {
        "id": "421b1ba4-325c-4946-8c4b-08dd6273c5e2"
      },
      "source": [
        "## GBM Algoritması ile Müşteri Kaybı Modellemesi  "
      ]
    },
    {
      "cell_type": "code",
      "execution_count": null,
      "id": "240e3b97-431e-483e-a0b0-42d7d5ef0475",
      "metadata": {
        "tags": [],
        "id": "240e3b97-431e-483e-a0b0-42d7d5ef0475"
      },
      "outputs": [],
      "source": [
        "from pyspark.ml.classification import GBTClassifier"
      ]
    },
    {
      "cell_type": "code",
      "execution_count": null,
      "id": "139bba27-4de1-4ced-9c8a-c2973d29a410",
      "metadata": {
        "tags": [],
        "id": "139bba27-4de1-4ced-9c8a-c2973d29a410"
      },
      "outputs": [],
      "source": [
        "gbm=GBTClassifier(maxIter=10,featuresCol=\"features\",labelCol=\"label\")"
      ]
    },
    {
      "cell_type": "code",
      "execution_count": null,
      "id": "41b7fedc-5fb3-403e-9aa8-03430fb473e2",
      "metadata": {
        "tags": [],
        "id": "41b7fedc-5fb3-403e-9aa8-03430fb473e2"
      },
      "outputs": [],
      "source": [
        "gbm_model=gbm.fit(train_df)"
      ]
    },
    {
      "cell_type": "code",
      "execution_count": null,
      "id": "bf61a1dd-5a3c-406c-b9bf-1f14b70b6d09",
      "metadata": {
        "tags": [],
        "id": "bf61a1dd-5a3c-406c-b9bf-1f14b70b6d09",
        "outputId": "67b9f940-b8d5-429d-c9da-8c91a3369855"
      },
      "outputs": [
        {
          "data": {
            "text/plain": [
              "DataFrame[features: vector, label: int, rawPrediction: vector, probability: vector, prediction: double]"
            ]
          },
          "execution_count": 54,
          "metadata": {},
          "output_type": "execute_result"
        }
      ],
      "source": [
        "y_pred=gbm_model.transform(test_df)\n",
        "y_pred"
      ]
    },
    {
      "cell_type": "code",
      "execution_count": null,
      "id": "a16b5da1-cac2-4afa-81b5-6b083baf3718",
      "metadata": {
        "tags": [],
        "id": "a16b5da1-cac2-4afa-81b5-6b083baf3718"
      },
      "outputs": [],
      "source": [
        "ac=y_pred.select(\"label\",\"prediction\")"
      ]
    },
    {
      "cell_type": "code",
      "execution_count": null,
      "id": "083ec930-de4a-4114-aaa9-97a9bd914104",
      "metadata": {
        "tags": [],
        "id": "083ec930-de4a-4114-aaa9-97a9bd914104",
        "outputId": "4cd1110b-03b5-4a28-f194-1627f442e670"
      },
      "outputs": [
        {
          "data": {
            "text/plain": [
              "0.8641509433962264"
            ]
          },
          "execution_count": 56,
          "metadata": {},
          "output_type": "execute_result"
        }
      ],
      "source": [
        "ac.filter(ac.label==ac.prediction).count()/ac.count()"
      ]
    },
    {
      "cell_type": "markdown",
      "id": "8d7a0053-ae26-4a35-a90e-129565fa857f",
      "metadata": {
        "tags": [],
        "id": "8d7a0053-ae26-4a35-a90e-129565fa857f"
      },
      "source": [
        "## Model Tuning"
      ]
    },
    {
      "cell_type": "code",
      "execution_count": null,
      "id": "a40f8368-7751-4dd4-8041-3c180bc937e2",
      "metadata": {
        "tags": [],
        "id": "a40f8368-7751-4dd4-8041-3c180bc937e2"
      },
      "outputs": [],
      "source": [
        "from pyspark.ml.evaluation import BinaryClassificationEvaluator\n",
        "from pyspark.ml.tuning import ParamGridBuilder, CrossValidator\n",
        "\n",
        "evaluator=BinaryClassificationEvaluator()\n",
        "\n",
        "paramGrid=(ParamGridBuilder()\n",
        "           .addGrid(gbm.maxDepth,[2,4,6])\n",
        "           .addGrid(gbm.maxBins,[20,30])\n",
        "           .addGrid(gbm.maxIter,[10,20])\n",
        "           .build())\n",
        "\n",
        "cv=CrossValidator(estimator=gbm,estimatorParamMaps=paramGrid,evaluator=evaluator,numFolds=10)"
      ]
    },
    {
      "cell_type": "code",
      "execution_count": null,
      "id": "ba60dd45-1365-4319-8b6e-dda85a7d6f99",
      "metadata": {
        "tags": [],
        "id": "ba60dd45-1365-4319-8b6e-dda85a7d6f99"
      },
      "outputs": [],
      "source": [
        "cvModel=cv.fit(train_df)"
      ]
    },
    {
      "cell_type": "code",
      "execution_count": null,
      "id": "1b9c8dc5-8062-496b-864e-b95fb2a07c43",
      "metadata": {
        "id": "1b9c8dc5-8062-496b-864e-b95fb2a07c43"
      },
      "outputs": [],
      "source": [
        "y_pred=cvModel.transform(test_df)"
      ]
    },
    {
      "cell_type": "code",
      "execution_count": null,
      "id": "6b14ee57-46c4-47d8-9359-722fd42b258c",
      "metadata": {
        "id": "6b14ee57-46c4-47d8-9359-722fd42b258c"
      },
      "outputs": [],
      "source": [
        "ac=y_pred.select(\"label\",\"prediction\")"
      ]
    },
    {
      "cell_type": "code",
      "execution_count": null,
      "id": "150736c2-fd48-4fdf-b28d-e1fc22e5f85f",
      "metadata": {
        "id": "150736c2-fd48-4fdf-b28d-e1fc22e5f85f",
        "outputId": "96d76f75-a9f8-425d-d5dd-af158b69ab32"
      },
      "outputs": [
        {
          "data": {
            "text/plain": [
              "0.8754716981132076"
            ]
          },
          "execution_count": 61,
          "metadata": {},
          "output_type": "execute_result"
        }
      ],
      "source": [
        "ac.filter(ac.label==ac.prediction).count()/ac.count()"
      ]
    },
    {
      "cell_type": "code",
      "execution_count": null,
      "id": "4f498072-68e7-4efe-b96c-e5dee4fdb356",
      "metadata": {
        "id": "4f498072-68e7-4efe-b96c-e5dee4fdb356"
      },
      "outputs": [],
      "source": []
    },
    {
      "cell_type": "code",
      "execution_count": null,
      "id": "39faccbf-0a59-4c4e-a5f6-609ee6fddb8a",
      "metadata": {
        "id": "39faccbf-0a59-4c4e-a5f6-609ee6fddb8a"
      },
      "outputs": [],
      "source": []
    },
    {
      "cell_type": "code",
      "source": [],
      "metadata": {
        "id": "Xjs4xuq5y09l"
      },
      "id": "Xjs4xuq5y09l",
      "execution_count": null,
      "outputs": []
    },
    {
      "cell_type": "code",
      "source": [],
      "metadata": {
        "id": "iZ8MNI0ly0_x"
      },
      "id": "iZ8MNI0ly0_x",
      "execution_count": null,
      "outputs": []
    },
    {
      "cell_type": "code",
      "source": [],
      "metadata": {
        "id": "U8PgqhO_y1B9"
      },
      "id": "U8PgqhO_y1B9",
      "execution_count": null,
      "outputs": []
    },
    {
      "cell_type": "code",
      "source": [],
      "metadata": {
        "id": "OLypoHHyy1D9"
      },
      "id": "OLypoHHyy1D9",
      "execution_count": null,
      "outputs": []
    },
    {
      "cell_type": "code",
      "source": [],
      "metadata": {
        "id": "nCNe03O6y1GE"
      },
      "id": "nCNe03O6y1GE",
      "execution_count": null,
      "outputs": []
    },
    {
      "cell_type": "code",
      "source": [],
      "metadata": {
        "id": "ZhwtZe7Ny1II"
      },
      "id": "ZhwtZe7Ny1II",
      "execution_count": null,
      "outputs": []
    },
    {
      "cell_type": "code",
      "source": [],
      "metadata": {
        "id": "FGHHnczGy1MR"
      },
      "id": "FGHHnczGy1MR",
      "execution_count": null,
      "outputs": []
    },
    {
      "cell_type": "code",
      "source": [],
      "metadata": {
        "id": "gBIdIjfBy1O7"
      },
      "id": "gBIdIjfBy1O7",
      "execution_count": null,
      "outputs": []
    },
    {
      "cell_type": "code",
      "source": [],
      "metadata": {
        "id": "21bqSKjby1Vl"
      },
      "id": "21bqSKjby1Vl",
      "execution_count": null,
      "outputs": []
    },
    {
      "cell_type": "code",
      "source": [],
      "metadata": {
        "id": "veJ_gl5Fy1YA"
      },
      "id": "veJ_gl5Fy1YA",
      "execution_count": null,
      "outputs": []
    },
    {
      "cell_type": "code",
      "execution_count": null,
      "id": "5570b363-8d5a-4184-bb67-327dbd6a03c1",
      "metadata": {
        "id": "5570b363-8d5a-4184-bb67-327dbd6a03c1"
      },
      "outputs": [],
      "source": []
    },
    {
      "cell_type": "code",
      "execution_count": null,
      "id": "1cf3ce85-4821-423b-b6e7-d066d664ec55",
      "metadata": {
        "id": "1cf3ce85-4821-423b-b6e7-d066d664ec55"
      },
      "outputs": [],
      "source": []
    },
    {
      "cell_type": "code",
      "execution_count": null,
      "id": "81ac7a37-247b-49e6-b62e-6b2872d08551",
      "metadata": {
        "id": "81ac7a37-247b-49e6-b62e-6b2872d08551"
      },
      "outputs": [],
      "source": []
    },
    {
      "cell_type": "code",
      "execution_count": null,
      "id": "b91d094a-3854-4c3c-82dc-a5230f685851",
      "metadata": {
        "id": "b91d094a-3854-4c3c-82dc-a5230f685851"
      },
      "outputs": [],
      "source": []
    },
    {
      "cell_type": "code",
      "execution_count": null,
      "id": "fcd738bb-71ee-4707-9865-5797d37d11b0",
      "metadata": {
        "id": "fcd738bb-71ee-4707-9865-5797d37d11b0"
      },
      "outputs": [],
      "source": []
    },
    {
      "cell_type": "code",
      "execution_count": null,
      "id": "7dfd9cbe-7157-4f47-8bca-922773553abd",
      "metadata": {
        "id": "7dfd9cbe-7157-4f47-8bca-922773553abd"
      },
      "outputs": [],
      "source": []
    },
    {
      "cell_type": "code",
      "execution_count": null,
      "id": "66f189fc-4752-40d4-bbd3-5fb1bf360d2a",
      "metadata": {
        "id": "66f189fc-4752-40d4-bbd3-5fb1bf360d2a"
      },
      "outputs": [],
      "source": []
    },
    {
      "cell_type": "code",
      "execution_count": null,
      "id": "fa108c74-0319-4408-8ae1-0fd1f0e780c2",
      "metadata": {
        "id": "fa108c74-0319-4408-8ae1-0fd1f0e780c2"
      },
      "outputs": [],
      "source": []
    },
    {
      "cell_type": "code",
      "execution_count": null,
      "id": "c97ec475-bde5-4115-900c-73f3d3732f3b",
      "metadata": {
        "id": "c97ec475-bde5-4115-900c-73f3d3732f3b"
      },
      "outputs": [],
      "source": []
    },
    {
      "cell_type": "code",
      "execution_count": null,
      "id": "859ef299-1eab-47f8-9dbb-8fcd48f3d570",
      "metadata": {
        "id": "859ef299-1eab-47f8-9dbb-8fcd48f3d570"
      },
      "outputs": [],
      "source": []
    },
    {
      "cell_type": "code",
      "execution_count": null,
      "id": "b96e1d9f-acbf-4424-9f37-1930ca695ba6",
      "metadata": {
        "id": "b96e1d9f-acbf-4424-9f37-1930ca695ba6"
      },
      "outputs": [],
      "source": []
    },
    {
      "cell_type": "code",
      "execution_count": null,
      "id": "a5f0c133-5519-4a3b-aa9f-d2f78ecddcb3",
      "metadata": {
        "id": "a5f0c133-5519-4a3b-aa9f-d2f78ecddcb3"
      },
      "outputs": [],
      "source": []
    },
    {
      "cell_type": "code",
      "execution_count": null,
      "id": "6cdf6b8c-8731-40c7-b4f4-fb15d985e7ed",
      "metadata": {
        "id": "6cdf6b8c-8731-40c7-b4f4-fb15d985e7ed"
      },
      "outputs": [],
      "source": []
    },
    {
      "cell_type": "code",
      "execution_count": null,
      "id": "68178bb1-1aa8-4fe8-817e-9bf3ecd13805",
      "metadata": {
        "id": "68178bb1-1aa8-4fe8-817e-9bf3ecd13805"
      },
      "outputs": [],
      "source": []
    },
    {
      "cell_type": "code",
      "execution_count": null,
      "id": "fa3e4bee-6a27-42ef-b400-36b14fc15736",
      "metadata": {
        "id": "fa3e4bee-6a27-42ef-b400-36b14fc15736"
      },
      "outputs": [],
      "source": []
    },
    {
      "cell_type": "code",
      "execution_count": null,
      "id": "3555e9a7-354f-444f-953d-0a197d53a3d7",
      "metadata": {
        "id": "3555e9a7-354f-444f-953d-0a197d53a3d7"
      },
      "outputs": [],
      "source": []
    },
    {
      "cell_type": "code",
      "execution_count": null,
      "id": "7b551857-ee30-48c5-ab33-a3f04fffd98d",
      "metadata": {
        "id": "7b551857-ee30-48c5-ab33-a3f04fffd98d"
      },
      "outputs": [],
      "source": []
    }
  ],
  "metadata": {
    "kernelspec": {
      "display_name": "Python 3 (ipykernel)",
      "language": "python",
      "name": "python3"
    },
    "language_info": {
      "codemirror_mode": {
        "name": "ipython",
        "version": 3
      },
      "file_extension": ".py",
      "mimetype": "text/x-python",
      "name": "python",
      "nbconvert_exporter": "python",
      "pygments_lexer": "ipython3",
      "version": "3.11.4"
    },
    "colab": {
      "provenance": [],
      "include_colab_link": true
    }
  },
  "nbformat": 4,
  "nbformat_minor": 5
}