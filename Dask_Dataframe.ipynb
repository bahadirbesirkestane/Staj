{
  "cells": [
    {
      "cell_type": "markdown",
      "metadata": {
        "id": "view-in-github",
        "colab_type": "text"
      },
      "source": [
        "<a href=\"https://colab.research.google.com/github/bahadirbesirkestane/Staj/blob/main/Dask_Dataframe.ipynb\" target=\"_parent\"><img src=\"https://colab.research.google.com/assets/colab-badge.svg\" alt=\"Open In Colab\"/></a>"
      ]
    },
    {
      "cell_type": "markdown",
      "metadata": {
        "application/vnd.databricks.v1+cell": {
          "inputWidgets": {},
          "nuid": "5b1b7b99-f605-44c3-87a6-e9f851a43e09",
          "showTitle": false,
          "title": ""
        },
        "id": "225qKjckgiXk"
      },
      "source": [
        "# **Dask Dataframe işlemleri**\n"
      ]
    },
    {
      "cell_type": "code",
      "source": [
        "!pip install \"dask[complete]\""
      ],
      "metadata": {
        "colab": {
          "base_uri": "https://localhost:8080/"
        },
        "id": "ENamWiSuhcWT",
        "outputId": "64ecc64b-d5c6-4037-bdd8-2dd0c054a78c"
      },
      "execution_count": 1,
      "outputs": [
        {
          "output_type": "stream",
          "name": "stdout",
          "text": [
            "Requirement already satisfied: dask[complete] in /usr/local/lib/python3.10/dist-packages (2023.8.1)\n",
            "Requirement already satisfied: click>=8.0 in /usr/local/lib/python3.10/dist-packages (from dask[complete]) (8.1.7)\n",
            "Requirement already satisfied: cloudpickle>=1.5.0 in /usr/local/lib/python3.10/dist-packages (from dask[complete]) (2.2.1)\n",
            "Requirement already satisfied: fsspec>=2021.09.0 in /usr/local/lib/python3.10/dist-packages (from dask[complete]) (2023.6.0)\n",
            "Requirement already satisfied: packaging>=20.0 in /usr/local/lib/python3.10/dist-packages (from dask[complete]) (23.1)\n",
            "Requirement already satisfied: partd>=1.2.0 in /usr/local/lib/python3.10/dist-packages (from dask[complete]) (1.4.0)\n",
            "Requirement already satisfied: pyyaml>=5.3.1 in /usr/local/lib/python3.10/dist-packages (from dask[complete]) (6.0.1)\n",
            "Requirement already satisfied: toolz>=0.10.0 in /usr/local/lib/python3.10/dist-packages (from dask[complete]) (0.12.0)\n",
            "Requirement already satisfied: importlib-metadata>=4.13.0 in /usr/local/lib/python3.10/dist-packages (from dask[complete]) (6.8.0)\n",
            "Requirement already satisfied: pyarrow>=7.0 in /usr/local/lib/python3.10/dist-packages (from dask[complete]) (9.0.0)\n",
            "Collecting lz4>=4.3.2 (from dask[complete])\n",
            "  Downloading lz4-4.3.2-cp310-cp310-manylinux_2_17_x86_64.manylinux2014_x86_64.whl (1.3 MB)\n",
            "\u001b[2K     \u001b[90m━━━━━━━━━━━━━━━━━━━━━━━━━━━━━━━━━━━━━━━━\u001b[0m \u001b[32m1.3/1.3 MB\u001b[0m \u001b[31m11.0 MB/s\u001b[0m eta \u001b[36m0:00:00\u001b[0m\n",
            "\u001b[?25hRequirement already satisfied: zipp>=0.5 in /usr/local/lib/python3.10/dist-packages (from importlib-metadata>=4.13.0->dask[complete]) (3.16.2)\n",
            "Requirement already satisfied: locket in /usr/local/lib/python3.10/dist-packages (from partd>=1.2.0->dask[complete]) (1.0.0)\n",
            "Requirement already satisfied: numpy>=1.16.6 in /usr/local/lib/python3.10/dist-packages (from pyarrow>=7.0->dask[complete]) (1.23.5)\n",
            "Requirement already satisfied: distributed==2023.8.1 in /usr/local/lib/python3.10/dist-packages (from dask[complete]) (2023.8.1)\n",
            "Requirement already satisfied: pandas>=1.3 in /usr/local/lib/python3.10/dist-packages (from dask[complete]) (1.5.3)\n",
            "Requirement already satisfied: bokeh>=2.4.2 in /usr/local/lib/python3.10/dist-packages (from dask[complete]) (3.2.2)\n",
            "Requirement already satisfied: jinja2>=2.10.3 in /usr/local/lib/python3.10/dist-packages (from dask[complete]) (3.1.2)\n",
            "Requirement already satisfied: msgpack>=1.0.0 in /usr/local/lib/python3.10/dist-packages (from distributed==2023.8.1->dask[complete]) (1.0.5)\n",
            "Requirement already satisfied: psutil>=5.7.2 in /usr/local/lib/python3.10/dist-packages (from distributed==2023.8.1->dask[complete]) (5.9.5)\n",
            "Requirement already satisfied: sortedcontainers>=2.0.5 in /usr/local/lib/python3.10/dist-packages (from distributed==2023.8.1->dask[complete]) (2.4.0)\n",
            "Requirement already satisfied: tblib>=1.6.0 in /usr/local/lib/python3.10/dist-packages (from distributed==2023.8.1->dask[complete]) (2.0.0)\n",
            "Requirement already satisfied: tornado>=6.0.4 in /usr/local/lib/python3.10/dist-packages (from distributed==2023.8.1->dask[complete]) (6.3.2)\n",
            "Requirement already satisfied: urllib3>=1.24.3 in /usr/local/lib/python3.10/dist-packages (from distributed==2023.8.1->dask[complete]) (2.0.4)\n",
            "Requirement already satisfied: zict>=2.2.0 in /usr/local/lib/python3.10/dist-packages (from distributed==2023.8.1->dask[complete]) (3.0.0)\n",
            "Requirement already satisfied: contourpy>=1 in /usr/local/lib/python3.10/dist-packages (from bokeh>=2.4.2->dask[complete]) (1.1.0)\n",
            "Requirement already satisfied: pillow>=7.1.0 in /usr/local/lib/python3.10/dist-packages (from bokeh>=2.4.2->dask[complete]) (9.4.0)\n",
            "Requirement already satisfied: xyzservices>=2021.09.1 in /usr/local/lib/python3.10/dist-packages (from bokeh>=2.4.2->dask[complete]) (2023.7.0)\n",
            "Requirement already satisfied: MarkupSafe>=2.0 in /usr/local/lib/python3.10/dist-packages (from jinja2>=2.10.3->dask[complete]) (2.1.3)\n",
            "Requirement already satisfied: python-dateutil>=2.8.1 in /usr/local/lib/python3.10/dist-packages (from pandas>=1.3->dask[complete]) (2.8.2)\n",
            "Requirement already satisfied: pytz>=2020.1 in /usr/local/lib/python3.10/dist-packages (from pandas>=1.3->dask[complete]) (2023.3.post1)\n",
            "Requirement already satisfied: six>=1.5 in /usr/local/lib/python3.10/dist-packages (from python-dateutil>=2.8.1->pandas>=1.3->dask[complete]) (1.16.0)\n",
            "Installing collected packages: lz4\n",
            "Successfully installed lz4-4.3.2\n"
          ]
        }
      ]
    },
    {
      "cell_type": "markdown",
      "metadata": {
        "application/vnd.databricks.v1+cell": {
          "inputWidgets": {},
          "nuid": "170faa01-dc6e-4f4d-82a2-a029d27b9469",
          "showTitle": false,
          "title": ""
        },
        "id": "8wBH3VdMgiXv"
      },
      "source": [
        "### PAndas ve Numpy Kütüphaneleri"
      ]
    },
    {
      "cell_type": "code",
      "execution_count": 2,
      "metadata": {
        "application/vnd.databricks.v1+cell": {
          "inputWidgets": {},
          "nuid": "d8fdcea0-d6b9-43f3-a79e-bceb524f6633",
          "showTitle": true,
          "title": "Code Example 01 - Let's get the Python libraries we need..."
        },
        "id": "uDRtv7wRgiXv"
      },
      "outputs": [],
      "source": [
        "import pandas as pd\n",
        "import numpy as np\n",
        "import matplotlib as plt\n",
        "\n",
        "%matplotlib notebook"
      ]
    },
    {
      "cell_type": "markdown",
      "metadata": {
        "id": "fzWoDhcqgiXx"
      },
      "source": [
        "### Dask kütüphanesinin modülleri"
      ]
    },
    {
      "cell_type": "code",
      "execution_count": 3,
      "metadata": {
        "application/vnd.databricks.v1+cell": {
          "inputWidgets": {},
          "nuid": "32f76ade-b636-4e0c-9ff2-51f01ba20746",
          "showTitle": true,
          "title": "Code Example 02 - As requested in the error message, change %matplotlib notebook to %matplotlib inline "
        },
        "id": "ncUOkB4pgiXx"
      },
      "outputs": [],
      "source": [
        "import dask.dataframe as dd"
      ]
    },
    {
      "cell_type": "markdown",
      "metadata": {
        "application/vnd.databricks.v1+cell": {
          "inputWidgets": {},
          "nuid": "e5b0b0a1-6a15-4f59-b617-0fd3c246732b",
          "showTitle": false,
          "title": ""
        },
        "id": "bZqJF8M5giXz"
      },
      "source": [
        "###     Dataframe ler"
      ]
    },
    {
      "cell_type": "markdown",
      "metadata": {
        "id": "DAL-O9P3giX0"
      },
      "source": [
        "### Verisetinin okunması"
      ]
    },
    {
      "cell_type": "code",
      "execution_count": 5,
      "metadata": {
        "application/vnd.databricks.v1+cell": {
          "inputWidgets": {},
          "nuid": "d85a77cd-0069-442d-9a5f-88c8329dc847",
          "showTitle": true,
          "title": "Code Example 06 - Load a file into a pandas dataframe, note path has /dbfs/ not dbfs:"
        },
        "id": "QrIPu248giX0"
      },
      "outputs": [],
      "source": [
        "pdf_sales = pd.read_csv('FactInternetSales.csv', nrows=2000)"
      ]
    },
    {
      "cell_type": "markdown",
      "metadata": {
        "id": "2xJx6tc5giX0"
      },
      "source": [
        "### nrows Kullanılarak veriseti okunması"
      ]
    },
    {
      "cell_type": "code",
      "execution_count": null,
      "metadata": {
        "application/vnd.databricks.v1+cell": {
          "inputWidgets": {},
          "nuid": "79f5f7b7-8bc8-46cf-ab97-e1d88e8e1f76",
          "showTitle": true,
          "title": "Code Example 07 - Load a file into a koalas dataframe, we get an error"
        },
        "id": "Ub--FwIdgiX0"
      },
      "outputs": [],
      "source": [
        "# Note:  nrows is not supported in Dask\n",
        "ddf_sales = dd.read_csv('FactInternetSales.csv', nrows=2000)"
      ]
    },
    {
      "cell_type": "markdown",
      "metadata": {
        "id": "nmAmclbOgiX0"
      },
      "source": [
        "### Satır sınırlaması"
      ]
    },
    {
      "cell_type": "code",
      "execution_count": null,
      "metadata": {
        "application/vnd.databricks.v1+cell": {
          "inputWidgets": {},
          "nuid": "bebf8e53-dca2-46f5-b8e9-2ce9debf5674",
          "showTitle": true,
          "title": "Code Example 08 - Load a file into a koalas dataframe - after fixing the path spec"
        },
        "id": "-C6_wfPogiX0"
      },
      "outputs": [],
      "source": [
        "ddf_sales = dd.read_csv('FactInternetSales.csv').head(n=2000)"
      ]
    },
    {
      "cell_type": "markdown",
      "metadata": {
        "application/vnd.databricks.v1+cell": {
          "inputWidgets": {},
          "nuid": "c8a56dee-405d-4c99-a818-bdf1accaff00",
          "showTitle": false,
          "title": ""
        },
        "id": "CSseUvvmgiX5"
      },
      "source": [
        "## İstatistiksel Yöntemler"
      ]
    },
    {
      "cell_type": "markdown",
      "metadata": {
        "application/vnd.databricks.v1+cell": {
          "inputWidgets": {},
          "nuid": "00a2d704-520c-4e97-8f60-0e2ceef2645f",
          "showTitle": false,
          "title": ""
        },
        "id": "YmqUZnw4giX5"
      },
      "source": [
        "### Pandasta referans sütün syntaxı.\n"
      ]
    },
    {
      "cell_type": "code",
      "execution_count": 6,
      "metadata": {
        "application/vnd.databricks.v1+cell": {
          "inputWidgets": {},
          "nuid": "917d0cbe-ee8e-42d1-a1fd-c1acdcc98710",
          "showTitle": true,
          "title": "Code Example 15 - pandas - Get summary stats with describe()"
        },
        "colab": {
          "base_uri": "https://localhost:8080/"
        },
        "id": "yjerCfC4giX5",
        "outputId": "426951c5-d41d-4a03-e04e-4037615abc5b"
      },
      "outputs": [
        {
          "output_type": "execute_result",
          "data": {
            "text/plain": [
              "count    2000.000000\n",
              "mean     3210.444651\n",
              "std       912.816673\n",
              "min       699.098200\n",
              "25%      3399.990000\n",
              "50%      3578.270000\n",
              "75%      3578.270000\n",
              "max      3578.270000\n",
              "Name: SalesAmount, dtype: float64"
            ]
          },
          "metadata": {},
          "execution_count": 6
        }
      ],
      "source": [
        "pdf_sales.SalesAmount.describe()"
      ]
    },
    {
      "cell_type": "markdown",
      "metadata": {
        "id": "H6ccpsQPgiX6"
      },
      "source": [
        "### Daskta referans sütün syntaxı."
      ]
    },
    {
      "cell_type": "code",
      "execution_count": null,
      "metadata": {
        "id": "un1qm__zgiX6",
        "outputId": "7bddc495-1a7b-49d2-c00f-9d66b5f951f7"
      },
      "outputs": [
        {
          "data": {
            "text/plain": [
              "Dask Series Structure:\n",
              "npartitions=1\n",
              "    float64\n",
              "        ...\n",
              "Name: SalesAmount, dtype: float64\n",
              "Dask Name: describe-numeric, 20 tasks"
            ]
          },
          "execution_count": 25,
          "metadata": {},
          "output_type": "execute_result"
        }
      ],
      "source": [
        "ddf_sales.SalesAmount.describe()"
      ]
    },
    {
      "cell_type": "markdown",
      "metadata": {
        "id": "IRksISYIgiX7"
      },
      "source": [
        "#### Dask sonuçları bir pandas veri çerçevesi olarak döndürmesi açısından Spark eylemine eşittir."
      ]
    },
    {
      "cell_type": "markdown",
      "metadata": {
        "id": "Kg4PwYcagiX7"
      },
      "source": [
        "### Dataframe de compute() kullanma"
      ]
    },
    {
      "cell_type": "code",
      "execution_count": null,
      "metadata": {
        "id": "CilPoH0wgiX7",
        "outputId": "732ee5b5-6184-45b8-a35c-b35e8bcfc568"
      },
      "outputs": [
        {
          "data": {
            "text/plain": [
              "count    60398.000000\n",
              "mean       486.086911\n",
              "std        928.489892\n",
              "min          2.290000\n",
              "25%          7.950000\n",
              "50%         29.990000\n",
              "75%        539.990000\n",
              "max       3578.270000\n",
              "Name: SalesAmount, dtype: float64"
            ]
          },
          "execution_count": 27,
          "metadata": {},
          "output_type": "execute_result"
        }
      ],
      "source": [
        "ddf_sales_stats = ddf_sales.SalesAmount.describe()\n",
        "ddf_sales_stats.compute()"
      ]
    },
    {
      "cell_type": "code",
      "execution_count": null,
      "metadata": {
        "id": "mvnMO9TjgiX9",
        "outputId": "269ad3ef-907e-47ce-9ec3-381c1290f562"
      },
      "outputs": [
        {
          "data": {
            "text/plain": [
              "0        3578.2700\n",
              "1        3399.9900\n",
              "2        3399.9900\n",
              "3         699.0982\n",
              "4        3399.9900\n",
              "           ...    \n",
              "60393      21.9800\n",
              "60394       8.9900\n",
              "60395      21.9800\n",
              "60396     159.0000\n",
              "60397       8.9900\n",
              "Name: SalesAmount, Length: 60398, dtype: float64"
            ]
          },
          "execution_count": 32,
          "metadata": {},
          "output_type": "execute_result"
        }
      ],
      "source": [
        "ddf_sales['SalesAmount'].compute()"
      ]
    },
    {
      "cell_type": "markdown",
      "metadata": {
        "id": "3f1_iBHMgiX9"
      },
      "source": [
        "### Daskta filtreleme işlemi"
      ]
    },
    {
      "cell_type": "code",
      "execution_count": null,
      "metadata": {
        "application/vnd.databricks.v1+cell": {
          "inputWidgets": {},
          "nuid": "73dc142a-43c3-4764-b880-65bcbcbdd28f",
          "showTitle": true,
          "title": "Code Example 22 - koalas - Filtering rows - be careful to change ALL dataframe prefixes!"
        },
        "id": "dqvMsU6tgiX-",
        "outputId": "c0a369ec-a903-4b7d-df91-45d36662957a"
      },
      "outputs": [
        {
          "data": {
            "text/html": [
              "<div>\n",
              "<style scoped>\n",
              "    .dataframe tbody tr th:only-of-type {\n",
              "        vertical-align: middle;\n",
              "    }\n",
              "\n",
              "    .dataframe tbody tr th {\n",
              "        vertical-align: top;\n",
              "    }\n",
              "\n",
              "    .dataframe thead th {\n",
              "        text-align: right;\n",
              "    }\n",
              "</style>\n",
              "<table border=\"1\" class=\"dataframe\">\n",
              "  <thead>\n",
              "    <tr style=\"text-align: right;\">\n",
              "      <th></th>\n",
              "      <th>ProductKey</th>\n",
              "      <th>OrderDateKey</th>\n",
              "      <th>DueDateKey</th>\n",
              "      <th>ShipDateKey</th>\n",
              "      <th>CustomerKey</th>\n",
              "      <th>PromotionKey</th>\n",
              "      <th>CurrencyKey</th>\n",
              "      <th>SalesTerritoryKey</th>\n",
              "      <th>SalesOrderNumber</th>\n",
              "      <th>SalesOrderLineNumber</th>\n",
              "      <th>...</th>\n",
              "      <th>ProductStandardCost</th>\n",
              "      <th>TotalProductCost</th>\n",
              "      <th>SalesAmount</th>\n",
              "      <th>TaxAmt</th>\n",
              "      <th>Freight</th>\n",
              "      <th>CarrierTrackingNumber</th>\n",
              "      <th>CustomerPONumber</th>\n",
              "      <th>OrderDate</th>\n",
              "      <th>DueDate</th>\n",
              "      <th>ShipDate</th>\n",
              "    </tr>\n",
              "  </thead>\n",
              "  <tbody>\n",
              "    <tr>\n",
              "      <th>0</th>\n",
              "      <td>310</td>\n",
              "      <td>20101229</td>\n",
              "      <td>20110110</td>\n",
              "      <td>20110105</td>\n",
              "      <td>21768</td>\n",
              "      <td>1</td>\n",
              "      <td>19</td>\n",
              "      <td>6</td>\n",
              "      <td>SO43697</td>\n",
              "      <td>1</td>\n",
              "      <td>...</td>\n",
              "      <td>2171.2942</td>\n",
              "      <td>2171.2942</td>\n",
              "      <td>3578.27</td>\n",
              "      <td>286.2616</td>\n",
              "      <td>89.4568</td>\n",
              "      <td>NaN</td>\n",
              "      <td>NaN</td>\n",
              "      <td>2010-12-29 00:00:00.000</td>\n",
              "      <td>2011-01-10 00:00:00.000</td>\n",
              "      <td>2011-01-05 00:00:00.000</td>\n",
              "    </tr>\n",
              "    <tr>\n",
              "      <th>1</th>\n",
              "      <td>346</td>\n",
              "      <td>20101229</td>\n",
              "      <td>20110110</td>\n",
              "      <td>20110105</td>\n",
              "      <td>28389</td>\n",
              "      <td>1</td>\n",
              "      <td>39</td>\n",
              "      <td>7</td>\n",
              "      <td>SO43698</td>\n",
              "      <td>1</td>\n",
              "      <td>...</td>\n",
              "      <td>1912.1544</td>\n",
              "      <td>1912.1544</td>\n",
              "      <td>3399.99</td>\n",
              "      <td>271.9992</td>\n",
              "      <td>84.9998</td>\n",
              "      <td>NaN</td>\n",
              "      <td>NaN</td>\n",
              "      <td>2010-12-29 00:00:00.000</td>\n",
              "      <td>2011-01-10 00:00:00.000</td>\n",
              "      <td>2011-01-05 00:00:00.000</td>\n",
              "    </tr>\n",
              "    <tr>\n",
              "      <th>2</th>\n",
              "      <td>346</td>\n",
              "      <td>20101229</td>\n",
              "      <td>20110110</td>\n",
              "      <td>20110105</td>\n",
              "      <td>25863</td>\n",
              "      <td>1</td>\n",
              "      <td>100</td>\n",
              "      <td>1</td>\n",
              "      <td>SO43699</td>\n",
              "      <td>1</td>\n",
              "      <td>...</td>\n",
              "      <td>1912.1544</td>\n",
              "      <td>1912.1544</td>\n",
              "      <td>3399.99</td>\n",
              "      <td>271.9992</td>\n",
              "      <td>84.9998</td>\n",
              "      <td>NaN</td>\n",
              "      <td>NaN</td>\n",
              "      <td>2010-12-29 00:00:00.000</td>\n",
              "      <td>2011-01-10 00:00:00.000</td>\n",
              "      <td>2011-01-05 00:00:00.000</td>\n",
              "    </tr>\n",
              "  </tbody>\n",
              "</table>\n",
              "<p>3 rows × 26 columns</p>\n",
              "</div>"
            ],
            "text/plain": [
              "   ProductKey  OrderDateKey  DueDateKey  ShipDateKey  CustomerKey  \\\n",
              "0         310      20101229    20110110     20110105        21768   \n",
              "1         346      20101229    20110110     20110105        28389   \n",
              "2         346      20101229    20110110     20110105        25863   \n",
              "\n",
              "   PromotionKey  CurrencyKey  SalesTerritoryKey SalesOrderNumber  \\\n",
              "0             1           19                  6          SO43697   \n",
              "1             1           39                  7          SO43698   \n",
              "2             1          100                  1          SO43699   \n",
              "\n",
              "   SalesOrderLineNumber  ...  ProductStandardCost  TotalProductCost  \\\n",
              "0                     1  ...            2171.2942         2171.2942   \n",
              "1                     1  ...            1912.1544         1912.1544   \n",
              "2                     1  ...            1912.1544         1912.1544   \n",
              "\n",
              "   SalesAmount    TaxAmt  Freight  CarrierTrackingNumber  CustomerPONumber  \\\n",
              "0      3578.27  286.2616  89.4568                    NaN               NaN   \n",
              "1      3399.99  271.9992  84.9998                    NaN               NaN   \n",
              "2      3399.99  271.9992  84.9998                    NaN               NaN   \n",
              "\n",
              "                 OrderDate                  DueDate                 ShipDate  \n",
              "0  2010-12-29 00:00:00.000  2011-01-10 00:00:00.000  2011-01-05 00:00:00.000  \n",
              "1  2010-12-29 00:00:00.000  2011-01-10 00:00:00.000  2011-01-05 00:00:00.000  \n",
              "2  2010-12-29 00:00:00.000  2011-01-10 00:00:00.000  2011-01-05 00:00:00.000  \n",
              "\n",
              "[3 rows x 26 columns]"
            ]
          },
          "execution_count": 34,
          "metadata": {},
          "output_type": "execute_result"
        }
      ],
      "source": [
        "ddf_sales[ddf_sales['SalesAmount'] > 2000].head(3)  # Forces compute!"
      ]
    },
    {
      "cell_type": "markdown",
      "metadata": {
        "id": "Y1FLuz-4giX-"
      },
      "source": [
        "### compute() ile filtreleme"
      ]
    },
    {
      "cell_type": "code",
      "execution_count": null,
      "metadata": {
        "id": "NLYk69tygiX-",
        "outputId": "7bbfdc22-f921-4f0b-d117-667b3c458f10"
      },
      "outputs": [
        {
          "data": {
            "text/html": [
              "<div>\n",
              "<style scoped>\n",
              "    .dataframe tbody tr th:only-of-type {\n",
              "        vertical-align: middle;\n",
              "    }\n",
              "\n",
              "    .dataframe tbody tr th {\n",
              "        vertical-align: top;\n",
              "    }\n",
              "\n",
              "    .dataframe thead th {\n",
              "        text-align: right;\n",
              "    }\n",
              "</style>\n",
              "<table border=\"1\" class=\"dataframe\">\n",
              "  <thead>\n",
              "    <tr style=\"text-align: right;\">\n",
              "      <th></th>\n",
              "      <th>ProductKey</th>\n",
              "      <th>OrderDateKey</th>\n",
              "      <th>DueDateKey</th>\n",
              "      <th>ShipDateKey</th>\n",
              "      <th>CustomerKey</th>\n",
              "      <th>PromotionKey</th>\n",
              "      <th>CurrencyKey</th>\n",
              "      <th>SalesTerritoryKey</th>\n",
              "      <th>SalesOrderNumber</th>\n",
              "      <th>SalesOrderLineNumber</th>\n",
              "      <th>...</th>\n",
              "      <th>ProductStandardCost</th>\n",
              "      <th>TotalProductCost</th>\n",
              "      <th>SalesAmount</th>\n",
              "      <th>TaxAmt</th>\n",
              "      <th>Freight</th>\n",
              "      <th>CarrierTrackingNumber</th>\n",
              "      <th>CustomerPONumber</th>\n",
              "      <th>OrderDate</th>\n",
              "      <th>DueDate</th>\n",
              "      <th>ShipDate</th>\n",
              "    </tr>\n",
              "  </thead>\n",
              "  <tbody>\n",
              "    <tr>\n",
              "      <th>0</th>\n",
              "      <td>310</td>\n",
              "      <td>20101229</td>\n",
              "      <td>20110110</td>\n",
              "      <td>20110105</td>\n",
              "      <td>21768</td>\n",
              "      <td>1</td>\n",
              "      <td>19</td>\n",
              "      <td>6</td>\n",
              "      <td>SO43697</td>\n",
              "      <td>1</td>\n",
              "      <td>...</td>\n",
              "      <td>2171.2942</td>\n",
              "      <td>2171.2942</td>\n",
              "      <td>3578.27</td>\n",
              "      <td>286.2616</td>\n",
              "      <td>89.4568</td>\n",
              "      <td>NaN</td>\n",
              "      <td>NaN</td>\n",
              "      <td>2010-12-29 00:00:00.000</td>\n",
              "      <td>2011-01-10 00:00:00.000</td>\n",
              "      <td>2011-01-05 00:00:00.000</td>\n",
              "    </tr>\n",
              "    <tr>\n",
              "      <th>1</th>\n",
              "      <td>346</td>\n",
              "      <td>20101229</td>\n",
              "      <td>20110110</td>\n",
              "      <td>20110105</td>\n",
              "      <td>28389</td>\n",
              "      <td>1</td>\n",
              "      <td>39</td>\n",
              "      <td>7</td>\n",
              "      <td>SO43698</td>\n",
              "      <td>1</td>\n",
              "      <td>...</td>\n",
              "      <td>1912.1544</td>\n",
              "      <td>1912.1544</td>\n",
              "      <td>3399.99</td>\n",
              "      <td>271.9992</td>\n",
              "      <td>84.9998</td>\n",
              "      <td>NaN</td>\n",
              "      <td>NaN</td>\n",
              "      <td>2010-12-29 00:00:00.000</td>\n",
              "      <td>2011-01-10 00:00:00.000</td>\n",
              "      <td>2011-01-05 00:00:00.000</td>\n",
              "    </tr>\n",
              "    <tr>\n",
              "      <th>2</th>\n",
              "      <td>346</td>\n",
              "      <td>20101229</td>\n",
              "      <td>20110110</td>\n",
              "      <td>20110105</td>\n",
              "      <td>25863</td>\n",
              "      <td>1</td>\n",
              "      <td>100</td>\n",
              "      <td>1</td>\n",
              "      <td>SO43699</td>\n",
              "      <td>1</td>\n",
              "      <td>...</td>\n",
              "      <td>1912.1544</td>\n",
              "      <td>1912.1544</td>\n",
              "      <td>3399.99</td>\n",
              "      <td>271.9992</td>\n",
              "      <td>84.9998</td>\n",
              "      <td>NaN</td>\n",
              "      <td>NaN</td>\n",
              "      <td>2010-12-29 00:00:00.000</td>\n",
              "      <td>2011-01-10 00:00:00.000</td>\n",
              "      <td>2011-01-05 00:00:00.000</td>\n",
              "    </tr>\n",
              "  </tbody>\n",
              "</table>\n",
              "<p>3 rows × 26 columns</p>\n",
              "</div>"
            ],
            "text/plain": [
              "   ProductKey  OrderDateKey  DueDateKey  ShipDateKey  CustomerKey  \\\n",
              "0         310      20101229    20110110     20110105        21768   \n",
              "1         346      20101229    20110110     20110105        28389   \n",
              "2         346      20101229    20110110     20110105        25863   \n",
              "\n",
              "   PromotionKey  CurrencyKey  SalesTerritoryKey SalesOrderNumber  \\\n",
              "0             1           19                  6          SO43697   \n",
              "1             1           39                  7          SO43698   \n",
              "2             1          100                  1          SO43699   \n",
              "\n",
              "   SalesOrderLineNumber  ...  ProductStandardCost  TotalProductCost  \\\n",
              "0                     1  ...            2171.2942         2171.2942   \n",
              "1                     1  ...            1912.1544         1912.1544   \n",
              "2                     1  ...            1912.1544         1912.1544   \n",
              "\n",
              "   SalesAmount    TaxAmt  Freight  CarrierTrackingNumber  CustomerPONumber  \\\n",
              "0      3578.27  286.2616  89.4568                    NaN               NaN   \n",
              "1      3399.99  271.9992  84.9998                    NaN               NaN   \n",
              "2      3399.99  271.9992  84.9998                    NaN               NaN   \n",
              "\n",
              "                 OrderDate                  DueDate                 ShipDate  \n",
              "0  2010-12-29 00:00:00.000  2011-01-10 00:00:00.000  2011-01-05 00:00:00.000  \n",
              "1  2010-12-29 00:00:00.000  2011-01-10 00:00:00.000  2011-01-05 00:00:00.000  \n",
              "2  2010-12-29 00:00:00.000  2011-01-10 00:00:00.000  2011-01-05 00:00:00.000  \n",
              "\n",
              "[3 rows x 26 columns]"
            ]
          },
          "execution_count": 35,
          "metadata": {},
          "output_type": "execute_result"
        }
      ],
      "source": [
        "ddf_sales[ddf_sales['SalesAmount'] > 2000].compute().head(3)"
      ]
    },
    {
      "cell_type": "markdown",
      "metadata": {
        "id": "AxP6WLkAgiX_"
      },
      "source": [
        "### Satırlara ve sütunlara göre dilimleme"
      ]
    },
    {
      "cell_type": "code",
      "execution_count": null,
      "metadata": {
        "application/vnd.databricks.v1+cell": {
          "inputWidgets": {},
          "nuid": "f56bf6db-4edd-41ea-9fd4-f01914ef995b",
          "showTitle": true,
          "title": "Code Example 24 - koalas - Slicing by rows by index values, columns by name"
        },
        "id": "qc7U55INgiX_",
        "outputId": "e1a6223d-5dc2-4a75-bb94-1a4fd7522b9f"
      },
      "outputs": [
        {
          "ename": "NotImplementedError",
          "evalue": "'DataFrame.iloc' only supports selecting columns. It must be used like 'df.iloc[:, column_indexer]'.",
          "output_type": "error",
          "traceback": [
            "\u001b[1;31m---------------------------------------------------------------------------\u001b[0m",
            "\u001b[1;31mNotImplementedError\u001b[0m                       Traceback (most recent call last)",
            "\u001b[1;32m~\\AppData\\Local\\Temp/ipykernel_15328/700149898.py\u001b[0m in \u001b[0;36m<module>\u001b[1;34m\u001b[0m\n\u001b[1;32m----> 1\u001b[1;33m \u001b[0mddf_sales\u001b[0m\u001b[1;33m[\u001b[0m\u001b[1;36m0\u001b[0m\u001b[1;33m:\u001b[0m\u001b[1;36m3\u001b[0m\u001b[1;33m]\u001b[0m\u001b[1;33m[\u001b[0m\u001b[1;34m'ProductKey'\u001b[0m\u001b[1;33m]\u001b[0m\u001b[1;33m\u001b[0m\u001b[1;33m\u001b[0m\u001b[0m\n\u001b[0m",
            "\u001b[1;32m~\\anaconda3\\lib\\site-packages\\dask\\dataframe\\core.py\u001b[0m in \u001b[0;36m__getitem__\u001b[1;34m(self, key)\u001b[0m\n\u001b[0;32m   4076\u001b[0m                 \u001b[1;31m# unsupported, but we call it anyway here for future-proofing\u001b[0m\u001b[1;33m\u001b[0m\u001b[1;33m\u001b[0m\u001b[1;33m\u001b[0m\u001b[0m\n\u001b[0;32m   4077\u001b[0m                 \u001b[1;31m# and error-attribution purposes\u001b[0m\u001b[1;33m\u001b[0m\u001b[1;33m\u001b[0m\u001b[1;33m\u001b[0m\u001b[0m\n\u001b[1;32m-> 4078\u001b[1;33m                 \u001b[1;32mreturn\u001b[0m \u001b[0mself\u001b[0m\u001b[1;33m.\u001b[0m\u001b[0miloc\u001b[0m\u001b[1;33m[\u001b[0m\u001b[0mkey\u001b[0m\u001b[1;33m]\u001b[0m\u001b[1;33m\u001b[0m\u001b[1;33m\u001b[0m\u001b[0m\n\u001b[0m\u001b[0;32m   4079\u001b[0m             \u001b[1;32melse\u001b[0m\u001b[1;33m:\u001b[0m\u001b[1;33m\u001b[0m\u001b[1;33m\u001b[0m\u001b[0m\n\u001b[0;32m   4080\u001b[0m                 \u001b[1;32mreturn\u001b[0m \u001b[0mself\u001b[0m\u001b[1;33m.\u001b[0m\u001b[0mloc\u001b[0m\u001b[1;33m[\u001b[0m\u001b[0mkey\u001b[0m\u001b[1;33m]\u001b[0m\u001b[1;33m\u001b[0m\u001b[1;33m\u001b[0m\u001b[0m\n",
            "\u001b[1;32m~\\anaconda3\\lib\\site-packages\\dask\\dataframe\\indexing.py\u001b[0m in \u001b[0;36m__getitem__\u001b[1;34m(self, key)\u001b[0m\n\u001b[0;32m     50\u001b[0m         )\n\u001b[0;32m     51\u001b[0m         \u001b[1;32mif\u001b[0m \u001b[1;32mnot\u001b[0m \u001b[0misinstance\u001b[0m\u001b[1;33m(\u001b[0m\u001b[0mkey\u001b[0m\u001b[1;33m,\u001b[0m \u001b[0mtuple\u001b[0m\u001b[1;33m)\u001b[0m\u001b[1;33m:\u001b[0m\u001b[1;33m\u001b[0m\u001b[1;33m\u001b[0m\u001b[0m\n\u001b[1;32m---> 52\u001b[1;33m             \u001b[1;32mraise\u001b[0m \u001b[0mNotImplementedError\u001b[0m\u001b[1;33m(\u001b[0m\u001b[0mmsg\u001b[0m\u001b[1;33m)\u001b[0m\u001b[1;33m\u001b[0m\u001b[1;33m\u001b[0m\u001b[0m\n\u001b[0m\u001b[0;32m     53\u001b[0m \u001b[1;33m\u001b[0m\u001b[0m\n\u001b[0;32m     54\u001b[0m         \u001b[1;32mif\u001b[0m \u001b[0mlen\u001b[0m\u001b[1;33m(\u001b[0m\u001b[0mkey\u001b[0m\u001b[1;33m)\u001b[0m \u001b[1;33m>\u001b[0m \u001b[1;36m2\u001b[0m\u001b[1;33m:\u001b[0m\u001b[1;33m\u001b[0m\u001b[1;33m\u001b[0m\u001b[0m\n",
            "\u001b[1;31mNotImplementedError\u001b[0m: 'DataFrame.iloc' only supports selecting columns. It must be used like 'df.iloc[:, column_indexer]'."
          ]
        }
      ],
      "source": [
        "ddf_sales[0:3]['ProductKey']"
      ]
    },
    {
      "cell_type": "markdown",
      "metadata": {
        "id": "n5OovEMOgiYA"
      },
      "source": [
        "### seçilen sütunlar dışındaki tüm satırları dilimleme"
      ]
    },
    {
      "cell_type": "code",
      "execution_count": null,
      "metadata": {
        "id": "aeOfjTeUgiYA",
        "outputId": "7a755cdd-b641-477c-aa12-bd26b1f3a34f"
      },
      "outputs": [
        {
          "data": {
            "text/html": [
              "<div>\n",
              "<style scoped>\n",
              "    .dataframe tbody tr th:only-of-type {\n",
              "        vertical-align: middle;\n",
              "    }\n",
              "\n",
              "    .dataframe tbody tr th {\n",
              "        vertical-align: top;\n",
              "    }\n",
              "\n",
              "    .dataframe thead th {\n",
              "        text-align: right;\n",
              "    }\n",
              "</style>\n",
              "<table border=\"1\" class=\"dataframe\">\n",
              "  <thead>\n",
              "    <tr style=\"text-align: right;\">\n",
              "      <th></th>\n",
              "      <th>ProductKey</th>\n",
              "    </tr>\n",
              "  </thead>\n",
              "  <tbody>\n",
              "    <tr>\n",
              "      <th>0</th>\n",
              "      <td>310</td>\n",
              "    </tr>\n",
              "    <tr>\n",
              "      <th>1</th>\n",
              "      <td>346</td>\n",
              "    </tr>\n",
              "    <tr>\n",
              "      <th>2</th>\n",
              "      <td>346</td>\n",
              "    </tr>\n",
              "  </tbody>\n",
              "</table>\n",
              "</div>"
            ],
            "text/plain": [
              "   ProductKey\n",
              "0         310\n",
              "1         346\n",
              "2         346"
            ]
          },
          "execution_count": 39,
          "metadata": {},
          "output_type": "execute_result"
        }
      ],
      "source": [
        "ddf_sales.iloc[:, 0:1].head(3)"
      ]
    },
    {
      "cell_type": "markdown",
      "metadata": {
        "id": "TevmN41tgiYB"
      },
      "source": [
        "### iloc kullanarak seçili sütun numaralarına göre dilimleme"
      ]
    },
    {
      "cell_type": "code",
      "execution_count": null,
      "metadata": {
        "application/vnd.databricks.v1+cell": {
          "inputWidgets": {},
          "nuid": "6af02daa-31c5-4f5a-8486-ab50765dfd23",
          "showTitle": true,
          "title": "Code Example 26 - koalas - Select columns by index"
        },
        "id": "TeB40WwvgiYB",
        "outputId": "6d0feac7-34ed-459c-bb96-ffdaeb3c08e2"
      },
      "outputs": [
        {
          "data": {
            "text/html": [
              "<div>\n",
              "<style scoped>\n",
              "    .dataframe tbody tr th:only-of-type {\n",
              "        vertical-align: middle;\n",
              "    }\n",
              "\n",
              "    .dataframe tbody tr th {\n",
              "        vertical-align: top;\n",
              "    }\n",
              "\n",
              "    .dataframe thead th {\n",
              "        text-align: right;\n",
              "    }\n",
              "</style>\n",
              "<table border=\"1\" class=\"dataframe\">\n",
              "  <thead>\n",
              "    <tr style=\"text-align: right;\">\n",
              "      <th></th>\n",
              "      <th>OrderDateKey</th>\n",
              "      <th>DueDateKey</th>\n",
              "    </tr>\n",
              "  </thead>\n",
              "  <tbody>\n",
              "    <tr>\n",
              "      <th>0</th>\n",
              "      <td>20101229</td>\n",
              "      <td>20110110</td>\n",
              "    </tr>\n",
              "    <tr>\n",
              "      <th>1</th>\n",
              "      <td>20101229</td>\n",
              "      <td>20110110</td>\n",
              "    </tr>\n",
              "    <tr>\n",
              "      <th>2</th>\n",
              "      <td>20101229</td>\n",
              "      <td>20110110</td>\n",
              "    </tr>\n",
              "    <tr>\n",
              "      <th>3</th>\n",
              "      <td>20101229</td>\n",
              "      <td>20110110</td>\n",
              "    </tr>\n",
              "    <tr>\n",
              "      <th>4</th>\n",
              "      <td>20101229</td>\n",
              "      <td>20110110</td>\n",
              "    </tr>\n",
              "  </tbody>\n",
              "</table>\n",
              "</div>"
            ],
            "text/plain": [
              "   OrderDateKey  DueDateKey\n",
              "0      20101229    20110110\n",
              "1      20101229    20110110\n",
              "2      20101229    20110110\n",
              "3      20101229    20110110\n",
              "4      20101229    20110110"
            ]
          },
          "execution_count": 41,
          "metadata": {},
          "output_type": "execute_result"
        }
      ],
      "source": [
        "ddf_sales.iloc[:,[1,2]].head(5)  # select by column number..."
      ]
    },
    {
      "cell_type": "markdown",
      "metadata": {
        "id": "KIqYHdF3giYB"
      },
      "source": [
        "### Satır aralıklarını ve sütun adlarını dilimleme\n",
        "\n"
      ]
    },
    {
      "cell_type": "code",
      "execution_count": null,
      "metadata": {
        "application/vnd.databricks.v1+cell": {
          "inputWidgets": {},
          "nuid": "ed1ca2d3-3e11-46f0-809b-9d8f3ace568b",
          "showTitle": true,
          "title": "Code Example 28 - koalas - Slicing by row numbers and column names"
        },
        "id": "SvZcuf3agiYC",
        "outputId": "6e176cb6-1a31-4b21-8de2-14f67e88d50c"
      },
      "outputs": [
        {
          "data": {
            "text/html": [
              "<div>\n",
              "<style scoped>\n",
              "    .dataframe tbody tr th:only-of-type {\n",
              "        vertical-align: middle;\n",
              "    }\n",
              "\n",
              "    .dataframe tbody tr th {\n",
              "        vertical-align: top;\n",
              "    }\n",
              "\n",
              "    .dataframe thead th {\n",
              "        text-align: right;\n",
              "    }\n",
              "</style>\n",
              "<table border=\"1\" class=\"dataframe\">\n",
              "  <thead>\n",
              "    <tr style=\"text-align: right;\">\n",
              "      <th></th>\n",
              "      <th>ProductKey</th>\n",
              "      <th>SalesAmount</th>\n",
              "    </tr>\n",
              "  </thead>\n",
              "  <tbody>\n",
              "    <tr>\n",
              "      <th>0</th>\n",
              "      <td>310</td>\n",
              "      <td>3578.2700</td>\n",
              "    </tr>\n",
              "    <tr>\n",
              "      <th>1</th>\n",
              "      <td>346</td>\n",
              "      <td>3399.9900</td>\n",
              "    </tr>\n",
              "    <tr>\n",
              "      <th>2</th>\n",
              "      <td>346</td>\n",
              "      <td>3399.9900</td>\n",
              "    </tr>\n",
              "    <tr>\n",
              "      <th>3</th>\n",
              "      <td>336</td>\n",
              "      <td>699.0982</td>\n",
              "    </tr>\n",
              "    <tr>\n",
              "      <th>4</th>\n",
              "      <td>346</td>\n",
              "      <td>3399.9900</td>\n",
              "    </tr>\n",
              "  </tbody>\n",
              "</table>\n",
              "</div>"
            ],
            "text/plain": [
              "   ProductKey  SalesAmount\n",
              "0         310    3578.2700\n",
              "1         346    3399.9900\n",
              "2         346    3399.9900\n",
              "3         336     699.0982\n",
              "4         346    3399.9900"
            ]
          },
          "execution_count": 43,
          "metadata": {},
          "output_type": "execute_result"
        }
      ],
      "source": [
        "ddf_sales[:][['ProductKey', 'SalesAmount']].head(5)"
      ]
    },
    {
      "cell_type": "markdown",
      "metadata": {
        "id": "pkD1A31agiYC"
      },
      "source": [
        "### compute ile satır aralıklarını ve sütun adlarını dilimleme"
      ]
    },
    {
      "cell_type": "code",
      "execution_count": null,
      "metadata": {
        "id": "3uhN8C_fgiYC",
        "outputId": "3a7b4464-a984-440f-cea7-d881805a9a56"
      },
      "outputs": [
        {
          "data": {
            "text/html": [
              "<div>\n",
              "<style scoped>\n",
              "    .dataframe tbody tr th:only-of-type {\n",
              "        vertical-align: middle;\n",
              "    }\n",
              "\n",
              "    .dataframe tbody tr th {\n",
              "        vertical-align: top;\n",
              "    }\n",
              "\n",
              "    .dataframe thead th {\n",
              "        text-align: right;\n",
              "    }\n",
              "</style>\n",
              "<table border=\"1\" class=\"dataframe\">\n",
              "  <thead>\n",
              "    <tr style=\"text-align: right;\">\n",
              "      <th></th>\n",
              "      <th>ProductKey</th>\n",
              "      <th>SalesAmount</th>\n",
              "    </tr>\n",
              "  </thead>\n",
              "  <tbody>\n",
              "    <tr>\n",
              "      <th>0</th>\n",
              "      <td>310</td>\n",
              "      <td>3578.2700</td>\n",
              "    </tr>\n",
              "    <tr>\n",
              "      <th>1</th>\n",
              "      <td>346</td>\n",
              "      <td>3399.9900</td>\n",
              "    </tr>\n",
              "    <tr>\n",
              "      <th>2</th>\n",
              "      <td>346</td>\n",
              "      <td>3399.9900</td>\n",
              "    </tr>\n",
              "    <tr>\n",
              "      <th>3</th>\n",
              "      <td>336</td>\n",
              "      <td>699.0982</td>\n",
              "    </tr>\n",
              "    <tr>\n",
              "      <th>4</th>\n",
              "      <td>346</td>\n",
              "      <td>3399.9900</td>\n",
              "    </tr>\n",
              "    <tr>\n",
              "      <th>...</th>\n",
              "      <td>...</td>\n",
              "      <td>...</td>\n",
              "    </tr>\n",
              "    <tr>\n",
              "      <th>60393</th>\n",
              "      <td>485</td>\n",
              "      <td>21.9800</td>\n",
              "    </tr>\n",
              "    <tr>\n",
              "      <th>60394</th>\n",
              "      <td>225</td>\n",
              "      <td>8.9900</td>\n",
              "    </tr>\n",
              "    <tr>\n",
              "      <th>60395</th>\n",
              "      <td>485</td>\n",
              "      <td>21.9800</td>\n",
              "    </tr>\n",
              "    <tr>\n",
              "      <th>60396</th>\n",
              "      <td>486</td>\n",
              "      <td>159.0000</td>\n",
              "    </tr>\n",
              "    <tr>\n",
              "      <th>60397</th>\n",
              "      <td>225</td>\n",
              "      <td>8.9900</td>\n",
              "    </tr>\n",
              "  </tbody>\n",
              "</table>\n",
              "<p>60398 rows × 2 columns</p>\n",
              "</div>"
            ],
            "text/plain": [
              "       ProductKey  SalesAmount\n",
              "0             310    3578.2700\n",
              "1             346    3399.9900\n",
              "2             346    3399.9900\n",
              "3             336     699.0982\n",
              "4             346    3399.9900\n",
              "...           ...          ...\n",
              "60393         485      21.9800\n",
              "60394         225       8.9900\n",
              "60395         485      21.9800\n",
              "60396         486     159.0000\n",
              "60397         225       8.9900\n",
              "\n",
              "[60398 rows x 2 columns]"
            ]
          },
          "execution_count": 44,
          "metadata": {},
          "output_type": "execute_result"
        }
      ],
      "source": [
        "ddf_sales[:][['ProductKey', 'SalesAmount']].compute()"
      ]
    },
    {
      "cell_type": "markdown",
      "metadata": {
        "id": "LSqNwdQlgiYD"
      },
      "source": [
        "#### set_index"
      ]
    },
    {
      "cell_type": "code",
      "execution_count": null,
      "metadata": {
        "application/vnd.databricks.v1+cell": {
          "inputWidgets": {},
          "nuid": "199a463b-236d-40dc-84c8-0e8be522fca8",
          "showTitle": true,
          "title": "Code Example 30 - koalas - Setting the index"
        },
        "id": "Kb44IJtIgiYD",
        "outputId": "e8d9f40f-be08-403a-df10-3f3b5a10beaf"
      },
      "outputs": [
        {
          "data": {
            "text/html": [
              "<div>\n",
              "<style scoped>\n",
              "    .dataframe tbody tr th:only-of-type {\n",
              "        vertical-align: middle;\n",
              "    }\n",
              "\n",
              "    .dataframe tbody tr th {\n",
              "        vertical-align: top;\n",
              "    }\n",
              "\n",
              "    .dataframe thead th {\n",
              "        text-align: right;\n",
              "    }\n",
              "</style>\n",
              "<table border=\"1\" class=\"dataframe\">\n",
              "  <thead>\n",
              "    <tr style=\"text-align: right;\">\n",
              "      <th></th>\n",
              "      <th>ProductKey</th>\n",
              "      <th>OrderDateKey</th>\n",
              "      <th>DueDateKey</th>\n",
              "      <th>ShipDateKey</th>\n",
              "      <th>CustomerKey</th>\n",
              "      <th>PromotionKey</th>\n",
              "      <th>CurrencyKey</th>\n",
              "      <th>SalesTerritoryKey</th>\n",
              "      <th>SalesOrderNumber</th>\n",
              "      <th>SalesOrderLineNumber</th>\n",
              "      <th>...</th>\n",
              "      <th>ProductStandardCost</th>\n",
              "      <th>TotalProductCost</th>\n",
              "      <th>SalesAmount</th>\n",
              "      <th>TaxAmt</th>\n",
              "      <th>Freight</th>\n",
              "      <th>CarrierTrackingNumber</th>\n",
              "      <th>CustomerPONumber</th>\n",
              "      <th>OrderDate</th>\n",
              "      <th>DueDate</th>\n",
              "      <th>ShipDate</th>\n",
              "    </tr>\n",
              "    <tr>\n",
              "      <th>SalesOrderNumber</th>\n",
              "      <th></th>\n",
              "      <th></th>\n",
              "      <th></th>\n",
              "      <th></th>\n",
              "      <th></th>\n",
              "      <th></th>\n",
              "      <th></th>\n",
              "      <th></th>\n",
              "      <th></th>\n",
              "      <th></th>\n",
              "      <th></th>\n",
              "      <th></th>\n",
              "      <th></th>\n",
              "      <th></th>\n",
              "      <th></th>\n",
              "      <th></th>\n",
              "      <th></th>\n",
              "      <th></th>\n",
              "      <th></th>\n",
              "      <th></th>\n",
              "      <th></th>\n",
              "    </tr>\n",
              "  </thead>\n",
              "  <tbody>\n",
              "    <tr>\n",
              "      <th>SO43697</th>\n",
              "      <td>310</td>\n",
              "      <td>20101229</td>\n",
              "      <td>20110110</td>\n",
              "      <td>20110105</td>\n",
              "      <td>21768</td>\n",
              "      <td>1</td>\n",
              "      <td>19</td>\n",
              "      <td>6</td>\n",
              "      <td>SO43697</td>\n",
              "      <td>1</td>\n",
              "      <td>...</td>\n",
              "      <td>2171.2942</td>\n",
              "      <td>2171.2942</td>\n",
              "      <td>3578.27</td>\n",
              "      <td>286.2616</td>\n",
              "      <td>89.4568</td>\n",
              "      <td>NaN</td>\n",
              "      <td>NaN</td>\n",
              "      <td>2010-12-29 00:00:00.000</td>\n",
              "      <td>2011-01-10 00:00:00.000</td>\n",
              "      <td>2011-01-05 00:00:00.000</td>\n",
              "    </tr>\n",
              "    <tr>\n",
              "      <th>SO43698</th>\n",
              "      <td>346</td>\n",
              "      <td>20101229</td>\n",
              "      <td>20110110</td>\n",
              "      <td>20110105</td>\n",
              "      <td>28389</td>\n",
              "      <td>1</td>\n",
              "      <td>39</td>\n",
              "      <td>7</td>\n",
              "      <td>SO43698</td>\n",
              "      <td>1</td>\n",
              "      <td>...</td>\n",
              "      <td>1912.1544</td>\n",
              "      <td>1912.1544</td>\n",
              "      <td>3399.99</td>\n",
              "      <td>271.9992</td>\n",
              "      <td>84.9998</td>\n",
              "      <td>NaN</td>\n",
              "      <td>NaN</td>\n",
              "      <td>2010-12-29 00:00:00.000</td>\n",
              "      <td>2011-01-10 00:00:00.000</td>\n",
              "      <td>2011-01-05 00:00:00.000</td>\n",
              "    </tr>\n",
              "    <tr>\n",
              "      <th>SO43699</th>\n",
              "      <td>346</td>\n",
              "      <td>20101229</td>\n",
              "      <td>20110110</td>\n",
              "      <td>20110105</td>\n",
              "      <td>25863</td>\n",
              "      <td>1</td>\n",
              "      <td>100</td>\n",
              "      <td>1</td>\n",
              "      <td>SO43699</td>\n",
              "      <td>1</td>\n",
              "      <td>...</td>\n",
              "      <td>1912.1544</td>\n",
              "      <td>1912.1544</td>\n",
              "      <td>3399.99</td>\n",
              "      <td>271.9992</td>\n",
              "      <td>84.9998</td>\n",
              "      <td>NaN</td>\n",
              "      <td>NaN</td>\n",
              "      <td>2010-12-29 00:00:00.000</td>\n",
              "      <td>2011-01-10 00:00:00.000</td>\n",
              "      <td>2011-01-05 00:00:00.000</td>\n",
              "    </tr>\n",
              "  </tbody>\n",
              "</table>\n",
              "<p>3 rows × 26 columns</p>\n",
              "</div>"
            ],
            "text/plain": [
              "                  ProductKey  OrderDateKey  DueDateKey  ShipDateKey  \\\n",
              "SalesOrderNumber                                                      \n",
              "SO43697                  310      20101229    20110110     20110105   \n",
              "SO43698                  346      20101229    20110110     20110105   \n",
              "SO43699                  346      20101229    20110110     20110105   \n",
              "\n",
              "                  CustomerKey  PromotionKey  CurrencyKey  SalesTerritoryKey  \\\n",
              "SalesOrderNumber                                                              \n",
              "SO43697                 21768             1           19                  6   \n",
              "SO43698                 28389             1           39                  7   \n",
              "SO43699                 25863             1          100                  1   \n",
              "\n",
              "                 SalesOrderNumber  SalesOrderLineNumber  ...  \\\n",
              "SalesOrderNumber                                         ...   \n",
              "SO43697                   SO43697                     1  ...   \n",
              "SO43698                   SO43698                     1  ...   \n",
              "SO43699                   SO43699                     1  ...   \n",
              "\n",
              "                  ProductStandardCost  TotalProductCost  SalesAmount  \\\n",
              "SalesOrderNumber                                                       \n",
              "SO43697                     2171.2942         2171.2942      3578.27   \n",
              "SO43698                     1912.1544         1912.1544      3399.99   \n",
              "SO43699                     1912.1544         1912.1544      3399.99   \n",
              "\n",
              "                    TaxAmt  Freight  CarrierTrackingNumber  CustomerPONumber  \\\n",
              "SalesOrderNumber                                                               \n",
              "SO43697           286.2616  89.4568                    NaN               NaN   \n",
              "SO43698           271.9992  84.9998                    NaN               NaN   \n",
              "SO43699           271.9992  84.9998                    NaN               NaN   \n",
              "\n",
              "                                OrderDate                  DueDate  \\\n",
              "SalesOrderNumber                                                     \n",
              "SO43697           2010-12-29 00:00:00.000  2011-01-10 00:00:00.000   \n",
              "SO43698           2010-12-29 00:00:00.000  2011-01-10 00:00:00.000   \n",
              "SO43699           2010-12-29 00:00:00.000  2011-01-10 00:00:00.000   \n",
              "\n",
              "                                 ShipDate  \n",
              "SalesOrderNumber                           \n",
              "SO43697           2011-01-05 00:00:00.000  \n",
              "SO43698           2011-01-05 00:00:00.000  \n",
              "SO43699           2011-01-05 00:00:00.000  \n",
              "\n",
              "[3 rows x 26 columns]"
            ]
          },
          "execution_count": 46,
          "metadata": {},
          "output_type": "execute_result"
        }
      ],
      "source": [
        "ddf_sales = ddf_sales.set_index('SalesOrderNumber', drop=False)\n",
        "ddf_sales.head(3)"
      ]
    },
    {
      "cell_type": "code",
      "source": [],
      "metadata": {
        "id": "8s7L7DsWlpEz"
      },
      "execution_count": null,
      "outputs": []
    },
    {
      "cell_type": "code",
      "source": [],
      "metadata": {
        "id": "_l1o_D6alpHV"
      },
      "execution_count": null,
      "outputs": []
    },
    {
      "cell_type": "code",
      "source": [],
      "metadata": {
        "id": "EMH9t6HGlpNm"
      },
      "execution_count": null,
      "outputs": []
    },
    {
      "cell_type": "code",
      "source": [],
      "metadata": {
        "id": "PozQO25_lpQM"
      },
      "execution_count": null,
      "outputs": []
    },
    {
      "cell_type": "code",
      "source": [],
      "metadata": {
        "id": "9M3AMOM3lpSS"
      },
      "execution_count": null,
      "outputs": []
    },
    {
      "cell_type": "code",
      "source": [],
      "metadata": {
        "id": "sxYts8yWlpUT"
      },
      "execution_count": null,
      "outputs": []
    },
    {
      "cell_type": "code",
      "source": [],
      "metadata": {
        "id": "eGg4ubDvlpWe"
      },
      "execution_count": null,
      "outputs": []
    },
    {
      "cell_type": "code",
      "source": [],
      "metadata": {
        "id": "ZV-s8j4rlpYc"
      },
      "execution_count": null,
      "outputs": []
    },
    {
      "cell_type": "code",
      "source": [],
      "metadata": {
        "id": "dBLuC99JlpaZ"
      },
      "execution_count": null,
      "outputs": []
    },
    {
      "cell_type": "code",
      "source": [],
      "metadata": {
        "id": "wDkloSwAlpcr"
      },
      "execution_count": null,
      "outputs": []
    },
    {
      "cell_type": "code",
      "source": [],
      "metadata": {
        "id": "o0sm1-56lpey"
      },
      "execution_count": null,
      "outputs": []
    },
    {
      "cell_type": "code",
      "source": [],
      "metadata": {
        "id": "mBQOQ0EWlphG"
      },
      "execution_count": null,
      "outputs": []
    },
    {
      "cell_type": "code",
      "source": [],
      "metadata": {
        "id": "moYzyrfclpjQ"
      },
      "execution_count": null,
      "outputs": []
    },
    {
      "cell_type": "code",
      "source": [],
      "metadata": {
        "id": "06CDDbA6lpnK"
      },
      "execution_count": null,
      "outputs": []
    },
    {
      "cell_type": "code",
      "source": [],
      "metadata": {
        "id": "8InQhdRFlppa"
      },
      "execution_count": null,
      "outputs": []
    },
    {
      "cell_type": "code",
      "source": [],
      "metadata": {
        "id": "hzotfX6elprj"
      },
      "execution_count": null,
      "outputs": []
    },
    {
      "cell_type": "code",
      "source": [],
      "metadata": {
        "id": "LNk-UKXWlpt4"
      },
      "execution_count": null,
      "outputs": []
    },
    {
      "cell_type": "code",
      "source": [],
      "metadata": {
        "id": "ENVS8qPOlpwP"
      },
      "execution_count": null,
      "outputs": []
    },
    {
      "cell_type": "code",
      "source": [],
      "metadata": {
        "id": "tSk6LyaGlpyV"
      },
      "execution_count": null,
      "outputs": []
    },
    {
      "cell_type": "code",
      "source": [],
      "metadata": {
        "id": "QkBEDCgJlp04"
      },
      "execution_count": null,
      "outputs": []
    },
    {
      "cell_type": "code",
      "source": [],
      "metadata": {
        "id": "M2aTD15xlp3J"
      },
      "execution_count": null,
      "outputs": []
    },
    {
      "cell_type": "code",
      "source": [],
      "metadata": {
        "id": "trEXxeQ4lp5m"
      },
      "execution_count": null,
      "outputs": []
    },
    {
      "cell_type": "code",
      "source": [],
      "metadata": {
        "id": "13CyUJNmlp7s"
      },
      "execution_count": null,
      "outputs": []
    },
    {
      "cell_type": "code",
      "source": [],
      "metadata": {
        "id": "1TqYiEMOlp99"
      },
      "execution_count": null,
      "outputs": []
    },
    {
      "cell_type": "code",
      "source": [],
      "metadata": {
        "id": "7wuZJY2mlqAS"
      },
      "execution_count": null,
      "outputs": []
    },
    {
      "cell_type": "code",
      "source": [],
      "metadata": {
        "id": "VU7-xL4_lqCr"
      },
      "execution_count": null,
      "outputs": []
    },
    {
      "cell_type": "code",
      "source": [],
      "metadata": {
        "id": "LhoFTEvJlqE9"
      },
      "execution_count": null,
      "outputs": []
    },
    {
      "cell_type": "code",
      "source": [],
      "metadata": {
        "id": "4vJJOol5lqG_"
      },
      "execution_count": null,
      "outputs": []
    },
    {
      "cell_type": "code",
      "source": [],
      "metadata": {
        "id": "GOc7Y2lZlqJg"
      },
      "execution_count": null,
      "outputs": []
    },
    {
      "cell_type": "code",
      "source": [],
      "metadata": {
        "id": "Csepg4yxlqL6"
      },
      "execution_count": null,
      "outputs": []
    },
    {
      "cell_type": "code",
      "source": [],
      "metadata": {
        "id": "nwnslS1jlqN0"
      },
      "execution_count": null,
      "outputs": []
    },
    {
      "cell_type": "code",
      "source": [],
      "metadata": {
        "id": "Rrclk9c7lqQE"
      },
      "execution_count": null,
      "outputs": []
    },
    {
      "cell_type": "code",
      "source": [],
      "metadata": {
        "id": "iTcZfNRelqUI"
      },
      "execution_count": null,
      "outputs": []
    },
    {
      "cell_type": "code",
      "source": [],
      "metadata": {
        "id": "at_pI58ClqW4"
      },
      "execution_count": null,
      "outputs": []
    },
    {
      "cell_type": "code",
      "source": [],
      "metadata": {
        "id": "6189ypXylqY5"
      },
      "execution_count": null,
      "outputs": []
    },
    {
      "cell_type": "code",
      "source": [],
      "metadata": {
        "id": "hd99MNwZlqbg"
      },
      "execution_count": null,
      "outputs": []
    },
    {
      "cell_type": "code",
      "source": [],
      "metadata": {
        "id": "Gix4OSoJlqdd"
      },
      "execution_count": null,
      "outputs": []
    },
    {
      "cell_type": "code",
      "source": [],
      "metadata": {
        "id": "j5lQiDvGlqfp"
      },
      "execution_count": null,
      "outputs": []
    },
    {
      "cell_type": "code",
      "source": [],
      "metadata": {
        "id": "2CXFaLuxlqhe"
      },
      "execution_count": null,
      "outputs": []
    }
  ],
  "metadata": {
    "anaconda-cloud": {},
    "application/vnd.databricks.v1+notebook": {
      "dashboards": [],
      "language": "python",
      "notebookMetadata": {
        "pythonIndentUnit": 2
      },
      "notebookName": "Lesson_32_IntroToKoalas_basics_part_1",
      "notebookOrigID": 4090377324538887,
      "widgets": {}
    },
    "kernelspec": {
      "display_name": "Python 3 (ipykernel)",
      "language": "python",
      "name": "python3"
    },
    "language_info": {
      "codemirror_mode": {
        "name": "ipython",
        "version": 3
      },
      "file_extension": ".py",
      "mimetype": "text/x-python",
      "name": "python",
      "nbconvert_exporter": "python",
      "pygments_lexer": "ipython3",
      "version": "3.8.12"
    },
    "colab": {
      "provenance": [],
      "include_colab_link": true
    }
  },
  "nbformat": 4,
  "nbformat_minor": 0
}