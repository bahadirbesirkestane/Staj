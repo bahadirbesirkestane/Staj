{
  "cells": [
    {
      "cell_type": "markdown",
      "metadata": {
        "id": "view-in-github",
        "colab_type": "text"
      },
      "source": [
        "<a href=\"https://colab.research.google.com/github/bahadirbesirkestane/Staj/blob/main/Tkinter_Giris.ipynb\" target=\"_parent\"><img src=\"https://colab.research.google.com/assets/colab-badge.svg\" alt=\"Open In Colab\"/></a>"
      ]
    },
    {
      "cell_type": "markdown",
      "id": "e1f640de",
      "metadata": {
        "id": "e1f640de"
      },
      "source": [
        "## Tkinter Uygulaması"
      ]
    },
    {
      "cell_type": "code",
      "execution_count": null,
      "id": "22800018",
      "metadata": {
        "id": "22800018",
        "outputId": "68f732f4-4881-459b-e1ea-110f0e25ada3"
      },
      "outputs": [
        {
          "name": "stdout",
          "output_type": "stream",
          "text": [
            "Requirement already satisfied: tk in d:\\anaconda\\lib\\site-packages (0.1.0)\n"
          ]
        }
      ],
      "source": [
        "!pip install tk"
      ]
    },
    {
      "cell_type": "markdown",
      "id": "bb9e0f64",
      "metadata": {
        "id": "bb9e0f64"
      },
      "source": [
        "Kodun en sonuna mainloop() yazılmalı. Aksi taktirde program ekrana gelmeyecektir."
      ]
    },
    {
      "cell_type": "code",
      "execution_count": null,
      "id": "07d4aaae",
      "metadata": {
        "id": "07d4aaae"
      },
      "outputs": [],
      "source": [
        "from tkinter import *\n",
        "\n",
        "tk = Tk()\n",
        "\n",
        "tk.title(\" Tkinter - Pencere Oluşturma\")\n",
        "tk.geometry(\"400x250\")\n",
        "\n",
        "Label(tk, text=\"Merhaba Dünya\").pack()\n",
        "\n",
        "tk.mainloop()\n"
      ]
    },
    {
      "cell_type": "markdown",
      "id": "7552b33e",
      "metadata": {
        "id": "7552b33e"
      },
      "source": [
        "### Label ve Fontlar"
      ]
    },
    {
      "cell_type": "code",
      "execution_count": null,
      "id": "93596c38",
      "metadata": {
        "id": "93596c38"
      },
      "outputs": [],
      "source": [
        "from tkinter import *\n",
        "\n",
        "tk = Tk()\n",
        "tk.title(\"Yazılım Furyası | Tkinter - Label\")\n",
        "tk.geometry(\"400x300\")\n",
        "\n",
        "Label(tk,text=\"Verdana\",font=\"Verdana 12\", bg=\"red\", fg=\"white\").pack()\n",
        "Label(tk,text=\"Verdana Bold\",font=\"Verdana 12 bold underline\").pack()\n",
        "Label(tk,text=\"Verdana italic\",font=\"Verdana 12 italic\").pack()\n",
        "Label(tk,text=\"Verdana roman\",font=\"Verdana 12 roman\").pack()\n",
        "\n",
        "Label(tk,text=\"Helvetica\",font=\"Helvetica 12\", bg=\"green\", fg=\"yellow\").pack()\n",
        "Label(tk,text=\"Helvetica bold\",font=\"Helvetica 12 bold\").pack()\n",
        "Label(tk,text=\"Helvetica italic\",font=\"Helvetica 12 italic\").pack()\n",
        "Label(tk,text=\"Helvetica roman\",font=\"Helvetica 12 roman\").pack()\n",
        "\n",
        "Label(tk,text=\"Times\",font=\"Times 12\", bg=\"black\", fg=\"white\").pack()\n",
        "Label(tk,text=\"Times Bold\",font=\"Times 12 bold\").pack()\n",
        "Label(tk,text=\"Times italic\",font=\"Times 12 italic\").pack()\n",
        "Label(tk,text=\"Times roman\",font=\"Times 12 roman\").pack()\n",
        "\n",
        "tk.mainloop()"
      ]
    },
    {
      "cell_type": "markdown",
      "id": "6abc5c52",
      "metadata": {
        "id": "6abc5c52"
      },
      "source": [
        "### Buton Ekleme"
      ]
    },
    {
      "cell_type": "code",
      "execution_count": null,
      "id": "82bc1cea",
      "metadata": {
        "id": "82bc1cea"
      },
      "outputs": [],
      "source": [
        "from tkinter import *\n",
        "\n",
        "tk = Tk()\n",
        "tk.title(\"Yazılım Furyası | Tkinter - Buton Ekleme\")\n",
        "tk.geometry(\"400x250\")\n",
        "\n",
        "def buton():\n",
        "    lbl[\"text\"] = \"1. Butona Tıklandı\"\n",
        "def buton2():\n",
        "    lbl[\"text\"] = \"2. Butona tıklandı\"\n",
        "\n",
        "btn = Button(tk,\n",
        "            text=\"Buton\",\n",
        "            padx=\"20\",pady=\"5\",\n",
        "            command=buton)\n",
        "btn.pack()\n",
        "\n",
        "btn2 = Button(tk,\n",
        "            text = \"Buton 2\", font=\"Times 12 bold\",\n",
        "            padx=\"25\", pady=\"10\",\n",
        "            bg=\"red\", fg=\"white\", cursor=\"hand2\",\n",
        "            activeforeground=\"green\", activebackground=\"black\",\n",
        "            command=buton2)\n",
        "btn2.pack()\n",
        "\n",
        "lbl = Label(tk)\n",
        "lbl.pack()\n",
        "\n",
        "tk.mainloop()"
      ]
    },
    {
      "cell_type": "markdown",
      "id": "70cbfcd0",
      "metadata": {
        "id": "70cbfcd0"
      },
      "source": [
        "### Messagebox"
      ]
    },
    {
      "cell_type": "code",
      "execution_count": null,
      "id": "0ddb0390",
      "metadata": {
        "id": "0ddb0390"
      },
      "outputs": [],
      "source": [
        "from tkinter import *\n",
        "from tkinter import messagebox\n",
        "\n",
        "tk = Tk()\n",
        "tk.title(\"Yazılım Furyası | Tkinter - Messagebox\")\n",
        "tk.geometry(\"400x250\")\n",
        "\n",
        "def show():\n",
        "    messagebox.showinfo(\"Başlık\", \"İnfo\")\n",
        "    messagebox.showerror(\"Başlık\",\"Hata\")\n",
        "    messagebox.showwarning(\"Başlık\",\"Uyarı\")\n",
        "\n",
        "def ask():\n",
        "    messagebox.askyesno(\"Başlık\",\"askyesno\")\n",
        "    messagebox.askokcancel(\"Başlık\",\"askokcancel\")\n",
        "    messagebox.askquestion(\"Başlık\",\"askquestion\")\n",
        "    messagebox.askretrycancel(\"Başlık\",\"askretrycancel\")\n",
        "    messagebox.askyesnocancel(\"Başlık\",\"askyesnocancel\")\n",
        "\n",
        "L1 = Label(tk,text=\"MESSAGEBOX\",font=\"Verdana 12 bold\")\n",
        "L1.pack()\n",
        "B1 = Button(tk, text=\"show\", command=show)\n",
        "B1.pack()\n",
        "B2 = Button(tk, text=\"ask\", command=ask)\n",
        "B2.pack()\n",
        "\n",
        "tk.mainloop()"
      ]
    },
    {
      "cell_type": "markdown",
      "id": "84e82722",
      "metadata": {
        "id": "84e82722"
      },
      "source": [
        "###  Entry Kullanımı(textbox)"
      ]
    },
    {
      "cell_type": "code",
      "execution_count": null,
      "id": "146e091a",
      "metadata": {
        "id": "146e091a"
      },
      "outputs": [],
      "source": [
        "from tkinter import *\n",
        "\n",
        "tk = Tk()\n",
        "tk.title(\"Yazılım Furyası | Tkinter - Entry\")\n",
        "tk.geometry(\"400x250\")\n",
        "\n",
        "lbl = Label(tk,text=\"Entry\")\n",
        "lbl.pack()\n",
        "\n",
        "entry = Entry(tk, width=25)\n",
        "entry.pack()\n",
        "entry2 = Entry(tk,textvariable=StringVar(), show='*', width=25)\n",
        "entry2.pack()\n",
        "tk.mainloop()"
      ]
    },
    {
      "cell_type": "markdown",
      "id": "dc99ee9d",
      "metadata": {
        "id": "dc99ee9d"
      },
      "source": [
        "### Widget Hizalama | grid, place"
      ]
    },
    {
      "cell_type": "code",
      "execution_count": null,
      "id": "2e2c90a4",
      "metadata": {
        "id": "2e2c90a4"
      },
      "outputs": [],
      "source": [
        "from tkinter import *\n",
        "\n",
        "tk = Tk()\n",
        "tk.title(\"Yazılım Furyası | Tkinter - Hizalama\")\n",
        "tk.geometry(\"400x250\")\n",
        "\n",
        "# Grid\n",
        "G1 = Label(tk, text=\"Grid Label 1\")\n",
        "G1.grid(row=0, column=0, pady=5, padx=5)\n",
        "G2 = Button(tk, text=\"Grid Button 1\")\n",
        "G2.grid(row=0, column=1, pady=5, padx=5)\n",
        "G3 = Label(tk, text=\"Grid Label 2\")\n",
        "G3.grid(row=1, column=0)\n",
        "G4 = Button(tk, text=\"Grid Button 2\")\n",
        "G4.grid(row=1, column=1)\n",
        "\n",
        "# Place\n",
        "P1 = Label(tk, text=\"Place Label\")\n",
        "P1.place(x=170,y=140)\n",
        "P2 = Button(tk, text=\"Place Button\")\n",
        "P2.place(x=165,y=165)\n",
        "\n",
        "tk.mainloop()"
      ]
    },
    {
      "cell_type": "markdown",
      "id": "8e492e49",
      "metadata": {
        "id": "8e492e49"
      },
      "source": [
        "### Görsel Ekleme"
      ]
    },
    {
      "cell_type": "code",
      "execution_count": null,
      "id": "cd7175d1",
      "metadata": {
        "id": "cd7175d1"
      },
      "outputs": [],
      "source": [
        "from tkinter import *\n",
        "from PIL import ImageTk, Image\n",
        "\n",
        "tk = Tk()\n",
        "tk.title(\"Yazılım Furyası | Tkinter - Resim Ekleme ve Boyutlandırma\")\n",
        "tk.geometry(\"500x500\")\n",
        "\n",
        "resim = ImageTk.PhotoImage(Image.open(\"C:/Users/O M E N/Masaüstü/Staj/Stajda_Yapiilanlar/Gün18/kesi1.jpg\"))\n",
        "Label(tk,image=resim).pack()\n",
        "\n",
        "\n",
        "# Yeniden Boyutlandırma\n",
        "image = Image.open(\"C:/Users/O M E N/Masaüstü/Staj/Stajda_Yapiilanlar/Gün18/kedi.jpeg\")\n",
        "# resize(width, height)\n",
        "resize_image = image.resize((110,160))\n",
        "\n",
        "img = ImageTk.PhotoImage(resize_image)\n",
        "Label(tk,image=img).pack()\n",
        "\n",
        "\n",
        "tk.mainloop()"
      ]
    },
    {
      "cell_type": "markdown",
      "id": "559d1b8c",
      "metadata": {
        "id": "559d1b8c"
      },
      "source": [
        "### Kullanıcı Giriş Ekranı Yapımı"
      ]
    },
    {
      "cell_type": "code",
      "execution_count": null,
      "id": "994bcac6",
      "metadata": {
        "id": "994bcac6",
        "outputId": "5a6da036-9183-475c-830b-ce76dfd97d8b"
      },
      "outputs": [
        {
          "name": "stdout",
          "output_type": "stream",
          "text": [
            "başarılı\n"
          ]
        }
      ],
      "source": [
        "from tkinter import *\n",
        "from tkinter import messagebox\n",
        "from PIL import ImageTk, Image\n",
        "\n",
        "\n",
        "# Tk sınıfını 'window'a atadık.\n",
        "window = Tk()\n",
        "\n",
        "# Pencere Başlığı\n",
        "window.title(\"Kullanıcı Giriş Ekranı\")\n",
        "\n",
        "# Pencereye ikon ekleme\n",
        "#window.iconbitmap(\"Desktop/scorp.ico\")\n",
        "\n",
        "window.geometry(\"390x220\")\n",
        "\n",
        "# Pencerenin yeniden boyutlandırılmasını engelledik\n",
        "window.resizable(width=False, height=False)\n",
        "\n",
        "\n",
        "# Resim ekledik\n",
        "#resim = ImageTk.PhotoImage(Image.open(\"Desktop/login.jpg\"))\n",
        "#lresim = Label(window,image=resim)\n",
        "#lresim.place(x=250,y=10)\n",
        "\n",
        "\n",
        "# Hata mesajımızı bu Label'e yazdıracaz\n",
        "L3 = Label(window)\n",
        "L3.place(x=148,y=200)\n",
        "\n",
        "def giris():\n",
        "\n",
        "    # E1 ve E2 adlı Entry'e girilen değeri, get() fonksiyonuyla çekip sorguluyoruz.\n",
        "    if (E1.get() == str(\"admin\")) and (E2.get() == str(\"1234\")):\n",
        "        L3['text'] = (\"Giriş Başarılı...\")\n",
        "        messagebox.showinfo(\"Başlık\", \"Giriş Başarılı\")\n",
        "        print(\"başarılı\")\n",
        "    else:\n",
        "        L3['text'] = (\"Hatalı Giriş !\")\n",
        "        messagebox.showerror(\"Hata Başlık\", \"Hatalı Giriş\")\n",
        "\n",
        "L1 = Label(window, text=\"Kullanıcı Adı\")\n",
        "L1.place(x=75, y=15)\n",
        "\n",
        "E1 = Entry(window, width=25)\n",
        "E1.place(x=77,y=45)\n",
        "\n",
        "L2 = Label(window, text=\"Şifre\")\n",
        "L2.place(x=75, y=80)\n",
        "\n",
        "E2 = Entry(window, textvariable=StringVar(),show='*', width=25)\n",
        "E2.place(x=77, y=110)\n",
        "\n",
        "bt = Button(window, text=\"Giriş Yap\", padx=\"20\",pady=\"5\", command=giris)\n",
        "bt.place(x=75,y=150)\n",
        "\n",
        "window.mainloop()"
      ]
    },
    {
      "cell_type": "code",
      "execution_count": null,
      "id": "e65367c4",
      "metadata": {
        "id": "e65367c4"
      },
      "outputs": [],
      "source": []
    },
    {
      "cell_type": "code",
      "execution_count": null,
      "id": "7b901f40",
      "metadata": {
        "id": "7b901f40"
      },
      "outputs": [],
      "source": []
    },
    {
      "cell_type": "code",
      "execution_count": null,
      "id": "98982242",
      "metadata": {
        "id": "98982242"
      },
      "outputs": [],
      "source": []
    },
    {
      "cell_type": "code",
      "execution_count": null,
      "id": "4d56c539",
      "metadata": {
        "id": "4d56c539"
      },
      "outputs": [],
      "source": []
    },
    {
      "cell_type": "code",
      "execution_count": null,
      "id": "738318d1",
      "metadata": {
        "id": "738318d1"
      },
      "outputs": [],
      "source": []
    },
    {
      "cell_type": "code",
      "execution_count": null,
      "id": "ab1e42ef",
      "metadata": {
        "id": "ab1e42ef"
      },
      "outputs": [],
      "source": []
    },
    {
      "cell_type": "code",
      "execution_count": null,
      "id": "0b6dd23d",
      "metadata": {
        "id": "0b6dd23d"
      },
      "outputs": [],
      "source": []
    },
    {
      "cell_type": "code",
      "execution_count": null,
      "id": "803a116b",
      "metadata": {
        "id": "803a116b"
      },
      "outputs": [],
      "source": []
    },
    {
      "cell_type": "code",
      "execution_count": null,
      "id": "f892a5fa",
      "metadata": {
        "id": "f892a5fa"
      },
      "outputs": [],
      "source": []
    },
    {
      "cell_type": "code",
      "execution_count": null,
      "id": "0d031ee5",
      "metadata": {
        "id": "0d031ee5"
      },
      "outputs": [],
      "source": []
    },
    {
      "cell_type": "code",
      "execution_count": null,
      "id": "3c9a7c2f",
      "metadata": {
        "id": "3c9a7c2f"
      },
      "outputs": [],
      "source": []
    },
    {
      "cell_type": "code",
      "execution_count": null,
      "id": "4fa32ce7",
      "metadata": {
        "id": "4fa32ce7"
      },
      "outputs": [],
      "source": []
    },
    {
      "cell_type": "code",
      "execution_count": null,
      "id": "98c4431a",
      "metadata": {
        "id": "98c4431a"
      },
      "outputs": [],
      "source": []
    },
    {
      "cell_type": "code",
      "execution_count": null,
      "id": "5e56ff85",
      "metadata": {
        "id": "5e56ff85"
      },
      "outputs": [],
      "source": []
    },
    {
      "cell_type": "code",
      "execution_count": null,
      "id": "82e67d0d",
      "metadata": {
        "id": "82e67d0d"
      },
      "outputs": [],
      "source": []
    },
    {
      "cell_type": "code",
      "execution_count": null,
      "id": "b637f193",
      "metadata": {
        "id": "b637f193"
      },
      "outputs": [],
      "source": []
    },
    {
      "cell_type": "code",
      "execution_count": null,
      "id": "ca7f8542",
      "metadata": {
        "id": "ca7f8542"
      },
      "outputs": [],
      "source": []
    },
    {
      "cell_type": "code",
      "execution_count": null,
      "id": "102638de",
      "metadata": {
        "id": "102638de"
      },
      "outputs": [],
      "source": []
    },
    {
      "cell_type": "code",
      "execution_count": null,
      "id": "cdc62567",
      "metadata": {
        "id": "cdc62567"
      },
      "outputs": [],
      "source": []
    },
    {
      "cell_type": "code",
      "execution_count": null,
      "id": "25d720c1",
      "metadata": {
        "id": "25d720c1"
      },
      "outputs": [],
      "source": []
    },
    {
      "cell_type": "code",
      "execution_count": null,
      "id": "599e57ff",
      "metadata": {
        "id": "599e57ff"
      },
      "outputs": [],
      "source": []
    },
    {
      "cell_type": "code",
      "execution_count": null,
      "id": "55546ce1",
      "metadata": {
        "id": "55546ce1"
      },
      "outputs": [],
      "source": []
    },
    {
      "cell_type": "code",
      "execution_count": null,
      "id": "aafce9bc",
      "metadata": {
        "id": "aafce9bc"
      },
      "outputs": [],
      "source": []
    },
    {
      "cell_type": "code",
      "execution_count": null,
      "id": "daf092d8",
      "metadata": {
        "id": "daf092d8"
      },
      "outputs": [],
      "source": []
    },
    {
      "cell_type": "code",
      "execution_count": null,
      "id": "11d35b77",
      "metadata": {
        "id": "11d35b77"
      },
      "outputs": [],
      "source": []
    },
    {
      "cell_type": "code",
      "execution_count": null,
      "id": "c6deb5f5",
      "metadata": {
        "id": "c6deb5f5"
      },
      "outputs": [],
      "source": []
    },
    {
      "cell_type": "code",
      "execution_count": null,
      "id": "2e640a3b",
      "metadata": {
        "id": "2e640a3b"
      },
      "outputs": [],
      "source": []
    },
    {
      "cell_type": "code",
      "execution_count": null,
      "id": "773e5a69",
      "metadata": {
        "id": "773e5a69"
      },
      "outputs": [],
      "source": []
    },
    {
      "cell_type": "code",
      "execution_count": null,
      "id": "cf463345",
      "metadata": {
        "id": "cf463345"
      },
      "outputs": [],
      "source": []
    },
    {
      "cell_type": "code",
      "execution_count": null,
      "id": "1b26a3a8",
      "metadata": {
        "id": "1b26a3a8"
      },
      "outputs": [],
      "source": []
    },
    {
      "cell_type": "code",
      "execution_count": null,
      "id": "2060eb75",
      "metadata": {
        "id": "2060eb75"
      },
      "outputs": [],
      "source": []
    }
  ],
  "metadata": {
    "kernelspec": {
      "display_name": "Python 3 (ipykernel)",
      "language": "python",
      "name": "python3"
    },
    "language_info": {
      "codemirror_mode": {
        "name": "ipython",
        "version": 3
      },
      "file_extension": ".py",
      "mimetype": "text/x-python",
      "name": "python",
      "nbconvert_exporter": "python",
      "pygments_lexer": "ipython3",
      "version": "3.11.4"
    },
    "colab": {
      "provenance": [],
      "include_colab_link": true
    }
  },
  "nbformat": 4,
  "nbformat_minor": 5
}