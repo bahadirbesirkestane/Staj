{
  "cells": [
    {
      "cell_type": "markdown",
      "metadata": {
        "id": "view-in-github",
        "colab_type": "text"
      },
      "source": [
        "<a href=\"https://colab.research.google.com/github/bahadirbesirkestane/Staj/blob/main/Sqlite_Temel.ipynb\" target=\"_parent\"><img src=\"https://colab.research.google.com/assets/colab-badge.svg\" alt=\"Open In Colab\"/></a>"
      ]
    },
    {
      "cell_type": "markdown",
      "metadata": {
        "id": "2jlsI1R_Hjdz"
      },
      "source": [
        "# **Sqlite ile Veritabanı Uygulaması**\n",
        "SQLite, dünyada en çok dağıtılan ve tavsiye edilen kaynak kodları halka açık, sunucu yazılımı ve yapılandırma gereksinimi olmayan ilişkisel bir SQL veri tabanı motorudur."
      ]
    },
    {
      "cell_type": "markdown",
      "metadata": {
        "id": "9-sg809jJS5U"
      },
      "source": [
        ">Sqlite ın import edilmesi"
      ]
    },
    {
      "cell_type": "code",
      "execution_count": null,
      "metadata": {
        "id": "XHrKPB9rHf5v"
      },
      "outputs": [],
      "source": [
        "import sqlite3"
      ]
    },
    {
      "cell_type": "code",
      "execution_count": null,
      "metadata": {
        "id": "FcxwShy3Lmd7"
      },
      "outputs": [],
      "source": [
        "# vt = sqlite3.connect('Veritabanı dosya yolu') #Windows\n",
        "vt = sqlite3.connect('C:/Users/O M E N/Masaüstü/sqlite_veritabani/vt.sqlite') #Windows"
      ]
    },
    {
      "cell_type": "markdown",
      "metadata": {
        "id": "Qibo_UvFe0HO"
      },
      "source": [
        "## İmleç Oluşturma\n",
        "\n",
        "Veritabanını oluşturduktan veya varolan bir veritabanı ile bağlantı kurduktan sonra, veritabanı üzerinde işlem yapabilmek için sonraki adımda bir imleç oluşturmamız gerekir."
      ]
    },
    {
      "cell_type": "code",
      "execution_count": null,
      "metadata": {
        "id": "noimuATZJY8P"
      },
      "outputs": [],
      "source": [
        "im = vt.cursor()"
      ]
    },
    {
      "cell_type": "markdown",
      "metadata": {
        "id": "ODJ503fWJY-t"
      },
      "source": [
        "## Tablo Oluşturma\n",
        "İmleç oluşturduktan sonra execute() metodunu kullanarak SQL komutlarını işletebiliyoruz."
      ]
    },
    {
      "cell_type": "code",
      "execution_count": null,
      "metadata": {
        "id": "uHf_cHwYJZGr",
        "outputId": "86261afd-02e5-4b5d-c3f9-a7955fe500d2"
      },
      "outputs": [
        {
          "data": {
            "text/plain": [
              "<sqlite3.Cursor at 0x2279db3fe40>"
            ]
          },
          "execution_count": 14,
          "metadata": {},
          "output_type": "execute_result"
        }
      ],
      "source": [
        "# Veritabanında tablo oluşturma.\n",
        "# im.execute(\"CREATE TABLE adres_defteri (isim, soyisim)\")\n",
        "\n",
        "# Şartlı tablo oluşturma\n",
        "sorgu = \"\"\"CREATE TABLE IF NOT EXISTS personel\n",
        "(isim, soyisim, memleket)\"\"\"\n",
        "\n",
        "im.execute(sorgu)"
      ]
    },
    {
      "cell_type": "markdown",
      "metadata": {
        "id": "e4EJegIlJZIx"
      },
      "source": [
        "> personel tablosu oluşturuldu, \"isim\", \"soyisim\" ve \"memleket\" adlı sütünlar eklendi.\n",
        ">\n",
        ">execute() fonksiyonunun parametresi string olduğu için değişkene sql ifadeleri yazabiliyoruz."
      ]
    },
    {
      "cell_type": "code",
      "execution_count": null,
      "metadata": {
        "id": "koTuk3m7JZK3",
        "outputId": "7df449ff-8783-41d8-843d-8b57a97a056c"
      },
      "outputs": [
        {
          "data": {
            "text/plain": [
              "<sqlite3.Cursor at 0x2279db3fe40>"
            ]
          },
          "execution_count": 16,
          "metadata": {},
          "output_type": "execute_result"
        }
      ],
      "source": [
        "# Tabloya Veri Girme\n",
        "\n",
        "deger_gir = \"\"\"INSERT INTO personel VALUES ('Fırat', 'Özgül', 'Adana')\"\"\"\n",
        "im.execute(deger_gir)"
      ]
    },
    {
      "cell_type": "markdown",
      "metadata": {
        "id": "BYv8AOZtJZM0"
      },
      "source": [
        ">Girdiğimiz verileri veritabanına işleyebilmek için commit() metodunu kullanmalıyız."
      ]
    },
    {
      "cell_type": "code",
      "execution_count": null,
      "metadata": {
        "id": "ZCuenydtJZQn"
      },
      "outputs": [],
      "source": [
        "vt.commit()"
      ]
    },
    {
      "cell_type": "markdown",
      "metadata": {
        "id": "_70ZVXNCJZTV"
      },
      "source": [
        ">Veritabanının Kapatılması"
      ]
    },
    {
      "cell_type": "code",
      "execution_count": null,
      "metadata": {
        "id": "gRAKvHfwJZV5"
      },
      "outputs": [],
      "source": [
        "vt.close()"
      ]
    },
    {
      "cell_type": "markdown",
      "metadata": {
        "id": "KP6j5ODKJZX3"
      },
      "source": [
        ">Eğer veritabanının otomatik kapanmasını istiyorsak \"with\" kullanmalıyız."
      ]
    },
    {
      "cell_type": "code",
      "execution_count": null,
      "metadata": {
        "id": "jWn_-kTpJZZ3"
      },
      "outputs": [],
      "source": [
        "with sqlite3.connect('vt.sqlite') as vt:\n",
        "    im = vt.cursor()\n",
        "\n",
        "    im.execute(\"\"\"CREATE TABLE IF NOT EXISTS personel\n",
        "        (isim, soyisim, memleket)\"\"\")\n",
        "    im.execute(\"\"\"INSERT INTO personel VALUES\n",
        "        ('Fırat', 'Özgül', 'Adana')\"\"\")\n",
        "\n",
        "    vt.commit()"
      ]
    },
    {
      "cell_type": "markdown",
      "metadata": {
        "id": "cpNBG3fRJZcE"
      },
      "source": [
        "## Parametreli Sorgular\n",
        "Çoğu durumda veriler elle girilmekten ziyade,dışardan toplu şekilde gelir. Bunun için basit bir örnek."
      ]
    },
    {
      "cell_type": "code",
      "execution_count": null,
      "metadata": {
        "id": "_S_JGbaEJZeK"
      },
      "outputs": [],
      "source": [
        "import sqlite3\n",
        "\n",
        "with sqlite3.connect('vt.sqlite') as vt:\n",
        "    im = vt.cursor()\n",
        "\n",
        "    veriler = [('Fırat', 'Özgül', 'Adana'),\n",
        "               ('Ahmet', 'Söz', 'Bolvadin'),\n",
        "               ('Veli', 'Göz', 'İskenderun'),\n",
        "               ('Mehmet', 'Öz', 'Kilis')]\n",
        "\n",
        "    im.execute(\"\"\"CREATE TABLE IF NOT EXISTS personel\n",
        "        (isim, soyisim, memleket)\"\"\")\n",
        "\n",
        "    for veri in veriler:\n",
        "        im.execute(\"\"\"INSERT INTO personel VALUES\n",
        "            (?, ?, ?)\"\"\", veri)\n",
        "\n",
        "    vt.commit()"
      ]
    },
    {
      "cell_type": "markdown",
      "metadata": {
        "id": "MCopLxHjJZgG"
      },
      "source": [
        "## Tablodaki Verileri Seçmek\n",
        "\n",
        "Veritabanından herhangi bir veri alabilmek için ilk olarak SELECT veri FROM tablo_adı adlı bir SQL komutundan yararlanarak ilgili verileri seçmemiz gerekiyor."
      ]
    },
    {
      "cell_type": "code",
      "execution_count": null,
      "metadata": {
        "id": "75QadxrNe0HS",
        "outputId": "88ff1955-8529-4abf-fa7b-92d85865298a"
      },
      "outputs": [
        {
          "data": {
            "text/plain": [
              "<sqlite3.Cursor at 0x2279db44740>"
            ]
          },
          "execution_count": 24,
          "metadata": {},
          "output_type": "execute_result"
        }
      ],
      "source": [
        "vt = sqlite3.connect('C:/Users/O M E N/Masaüstü/sqlite_veritabani/fatura.sqlite')\n",
        "\n",
        "im = vt.cursor()\n",
        "\n",
        "im.execute(\"\"\"CREATE TABLE IF NOT EXISTS faturalar\n",
        "(fatura, miktar, ilk_odeme_tarihi, son_odeme_tarihi)\"\"\")"
      ]
    },
    {
      "cell_type": "code",
      "execution_count": null,
      "metadata": {
        "id": "pTlF-hKTe0HS",
        "outputId": "05ab5b91-498d-4b98-f795-b9323df676d0"
      },
      "outputs": [
        {
          "data": {
            "text/plain": [
              "<sqlite3.Cursor at 0x2279db44740>"
            ]
          },
          "execution_count": 25,
          "metadata": {},
          "output_type": "execute_result"
        }
      ],
      "source": [
        "im.execute(\"\"\"INSERT INTO faturalar VALUES\n",
        "(\"Elektrik\", 45, \"23 Ocak 2010\", \"30 Ocak 2010\")\"\"\")"
      ]
    },
    {
      "cell_type": "code",
      "execution_count": null,
      "metadata": {
        "id": "_rXV6jnUe0HT"
      },
      "outputs": [],
      "source": [
        "vt.commit()"
      ]
    },
    {
      "cell_type": "code",
      "execution_count": null,
      "metadata": {
        "id": "gJzmKkoce0HT",
        "outputId": "5b50ba97-9438-4982-8a05-f3e2c7abc088"
      },
      "outputs": [
        {
          "data": {
            "text/plain": [
              "<sqlite3.Cursor at 0x2279db44740>"
            ]
          },
          "execution_count": 27,
          "metadata": {},
          "output_type": "execute_result"
        }
      ],
      "source": [
        "im.execute(\"\"\"SELECT * FROM faturalar\"\"\")"
      ]
    },
    {
      "cell_type": "markdown",
      "metadata": {
        "id": "sk73o1Hze0HT"
      },
      "source": [
        "> Tablodan verileri alabilmek için fetchone(), fetchall() veya fetchmany() adlı metotlardan for döngüsüyle kullanacağız."
      ]
    },
    {
      "cell_type": "markdown",
      "metadata": {
        "id": "kXKDw3DMe0HT"
      },
      "source": [
        "**fetchall() Metodu**"
      ]
    },
    {
      "cell_type": "code",
      "execution_count": null,
      "metadata": {
        "id": "PnJ-JDuee0HT"
      },
      "outputs": [],
      "source": [
        "veriler = im.fetchall()"
      ]
    },
    {
      "cell_type": "code",
      "execution_count": null,
      "metadata": {
        "id": "dEnzo0bme0HU",
        "outputId": "465b90d7-ee6d-47a8-a970-2d117a71d264"
      },
      "outputs": [
        {
          "name": "stdout",
          "output_type": "stream",
          "text": [
            "[('Elektrik', 45, '23 Ocak 2010', '30 Ocak 2010')]\n"
          ]
        }
      ],
      "source": [
        "print(veriler)"
      ]
    },
    {
      "cell_type": "code",
      "execution_count": null,
      "metadata": {
        "id": "KtP6zB62e0HU"
      },
      "outputs": [],
      "source": [
        "vt.close()"
      ]
    },
    {
      "cell_type": "markdown",
      "metadata": {
        "id": "m5Ec_vcJe0HU"
      },
      "source": [
        "**fetchone() Metodu :** bir veritabanından seçilen verilerin tek tek alınabilmesine izin verir."
      ]
    },
    {
      "cell_type": "code",
      "execution_count": null,
      "metadata": {
        "id": "nUE83UXre0HU"
      },
      "outputs": [],
      "source": [
        "vt = sqlite3.connect('C:/Users/O M E N/Masaüstü/sqlite_veritabani/kitaplar.sqlite')\n",
        "im = vt.cursor()"
      ]
    },
    {
      "cell_type": "code",
      "execution_count": null,
      "metadata": {
        "id": "e9cu2sJae0HU",
        "outputId": "4ad29977-2e2c-4e5d-f60f-920f4aa2485d"
      },
      "outputs": [
        {
          "data": {
            "text/plain": [
              "<sqlite3.Cursor at 0x2279db44c40>"
            ]
          },
          "execution_count": 41,
          "metadata": {},
          "output_type": "execute_result"
        }
      ],
      "source": [
        "im.execute(\"\"\"SELECT * FROM kitaplar\"\"\")"
      ]
    },
    {
      "cell_type": "code",
      "execution_count": null,
      "metadata": {
        "id": "t_5GDffee0HU",
        "outputId": "e5596e28-d91b-4a25-b6b0-8be4362cefdc"
      },
      "outputs": [
        {
          "data": {
            "text/plain": [
              "('UZMANLAR İÇİN PHP', 'Mehmet Şamlı', '33,00 TL')"
            ]
          },
          "execution_count": 34,
          "metadata": {},
          "output_type": "execute_result"
        }
      ],
      "source": [
        "im.fetchone()"
      ]
    },
    {
      "cell_type": "code",
      "execution_count": null,
      "metadata": {
        "id": "kzjwi-0Ze0HV",
        "outputId": "e76f0706-c867-4c0c-9079-a8897f259e6d"
      },
      "outputs": [
        {
          "data": {
            "text/plain": [
              "('ADOBE AİR', 'Engin Yöğen', '28,00 TL')"
            ]
          },
          "execution_count": 35,
          "metadata": {},
          "output_type": "execute_result"
        }
      ],
      "source": [
        "im.fetchone()"
      ]
    },
    {
      "cell_type": "code",
      "execution_count": null,
      "metadata": {
        "id": "KOVJJ9aVe0HV",
        "outputId": "96f389c8-36f7-4dc3-824c-bb643918f28d"
      },
      "outputs": [
        {
          "data": {
            "text/plain": [
              "('WEB TASARIM REHBERİ', 'Mustafa Aydemir', '38,50 TL')"
            ]
          },
          "execution_count": 36,
          "metadata": {},
          "output_type": "execute_result"
        }
      ],
      "source": [
        "im.fetchone()"
      ]
    },
    {
      "cell_type": "markdown",
      "metadata": {
        "id": "QU0g1hPqe0HV"
      },
      "source": [
        "**fetchmany() Metodu :** bir veritabanından seçtiğiniz verilerin istediğiniz kadarını alabilmenizi sağlar"
      ]
    },
    {
      "cell_type": "code",
      "execution_count": null,
      "metadata": {
        "id": "wSXLqjKte0HV",
        "outputId": "aacf3a13-0528-4368-a3fb-5cc533efa53a"
      },
      "outputs": [
        {
          "data": {
            "text/plain": [
              "[('ORACLE 11g R2', 'Teoman Dinçel', '34,00 TL'),\n",
              " ('AS 3.0 İLE SUNUCU PROGRAMLAMA', 'Engin Yöğen', '24,00 TL'),\n",
              " ('HACKING INTERFACE', 'Hamza Elbahadır', '25,00 TL'),\n",
              " ('JAVA VE JAVA TEKNOLOJİLERİ', 'Tevfik Kızılören', '45,00 TL'),\n",
              " ('XML VE İLERİ XML TEKNOLOJİLERİ', 'Musa Çiçek', '24,50 TL')]"
            ]
          },
          "execution_count": 37,
          "metadata": {},
          "output_type": "execute_result"
        }
      ],
      "source": [
        "im.fetchmany(5)"
      ]
    },
    {
      "cell_type": "markdown",
      "metadata": {
        "id": "LhnEXwlfe0HW"
      },
      "source": [
        " >for döngüsüyle veri alma"
      ]
    },
    {
      "cell_type": "code",
      "execution_count": null,
      "metadata": {
        "id": "2cF6Ede-e0HW"
      },
      "outputs": [],
      "source": [
        "#Tüm verileri getirme\n",
        "for veri in im:\n",
        "    print(veri)"
      ]
    },
    {
      "cell_type": "code",
      "execution_count": null,
      "metadata": {
        "id": "FhoXxU-ce0HW",
        "outputId": "b6f73175-6c7d-4b62-f3ca-f5bd6f7ab5f7"
      },
      "outputs": [
        {
          "name": "stdout",
          "output_type": "stream",
          "text": [
            "('UZMANLAR İÇİN PHP', 'Mehmet Şamlı', '33,00 TL')\n",
            "('ADOBE AİR', 'Engin Yöğen', '28,00 TL')\n",
            "('WEB TASARIM REHBERİ', 'Mustafa Aydemir', '38,50 TL')\n",
            "('ORACLE 11g R2', 'Teoman Dinçel', '34,00 TL')\n",
            "('AS 3.0 İLE SUNUCU PROGRAMLAMA', 'Engin Yöğen', '24,00 TL')\n",
            "('HACKING INTERFACE', 'Hamza Elbahadır', '25,00 TL')\n",
            "('JAVA VE JAVA TEKNOLOJİLERİ', 'Tevfik Kızılören', '45,00 TL')\n",
            "('XML VE İLERİ XML TEKNOLOJİLERİ', 'Musa Çiçek', '24,50 TL')\n",
            "('GRAFİK&ANİMASYON', 'Anonim', '18,50 TL')\n",
            "('JQUERY', 'Salih Baltalı', '34,00 TL')\n"
          ]
        }
      ],
      "source": [
        "# Belirli sayıda(10) veri alma\n",
        "for i in range(10):\n",
        "    print(im.fetchone())"
      ]
    },
    {
      "cell_type": "markdown",
      "metadata": {
        "id": "npK_GTA1JZiU"
      },
      "source": [
        "## Veri Süzme"
      ]
    },
    {
      "cell_type": "code",
      "execution_count": null,
      "metadata": {
        "id": "WpBx08ZGe0HX",
        "outputId": "73ad8636-40c2-444c-ddde-32122c8b0ab1"
      },
      "outputs": [
        {
          "data": {
            "text/plain": [
              "<sqlite3.Cursor at 0x2279db44c40>"
            ]
          },
          "execution_count": 45,
          "metadata": {},
          "output_type": "execute_result"
        }
      ],
      "source": [
        "# Where kullanımı\n",
        "im.execute(\"SELECT * FROM kitaplar WHERE Yazar = 'Fırat Özgül'\")"
      ]
    },
    {
      "cell_type": "code",
      "execution_count": null,
      "metadata": {
        "id": "bJAjcd7Ge0HX",
        "outputId": "20e60678-156c-47a6-a030-44f985474dc9"
      },
      "outputs": [
        {
          "data": {
            "text/plain": [
              "[('HERYÖNÜYLE PYTHON', 'Fırat Özgül', '34,00 TL')]"
            ]
          },
          "execution_count": 46,
          "metadata": {},
          "output_type": "execute_result"
        }
      ],
      "source": [
        "im.fetchall()"
      ]
    },
    {
      "cell_type": "markdown",
      "metadata": {
        "id": "-s4XYtIde0HX"
      },
      "source": [
        "## Veritabanı Güvenliği"
      ]
    },
    {
      "cell_type": "code",
      "execution_count": null,
      "metadata": {
        "id": "bfzT0Bb9e0HY"
      },
      "outputs": [],
      "source": [
        "db = sqlite3.connect(\"C:/Users/O M E N/Masaüstü/sqlite_veritabani/kullanici.sqlite\")\n",
        "\n",
        "im = db.cursor()"
      ]
    },
    {
      "cell_type": "code",
      "execution_count": null,
      "metadata": {
        "id": "eLUKNV_Ze0HY"
      },
      "outputs": [],
      "source": [
        "\n",
        "im.execute(\"\"\"CREATE TABLE IF NOT EXISTS kullanicilar\n",
        "    (kullanici_adi, parola)\"\"\")\n",
        "\n",
        "veriler = [\n",
        "            (\"bahadir\", \"123\"),\n",
        "            (\"besir\", \"456\"),\n",
        "            (\"kestane\", \"789\")\n",
        "          ]\n"
      ]
    },
    {
      "cell_type": "code",
      "execution_count": null,
      "metadata": {
        "id": "7PbjrweFe0HY"
      },
      "outputs": [],
      "source": [
        "for i in veriler:\n",
        "    im.execute(\"\"\"INSERT INTO kullanicilar VALUES %s\"\"\" %(i,))\n",
        "\n",
        "db.commit()"
      ]
    },
    {
      "cell_type": "code",
      "execution_count": null,
      "metadata": {
        "id": "beVz2_1be0HY",
        "outputId": "157554ba-d1c7-4e44-e5d3-015af422899f"
      },
      "outputs": [
        {
          "name": "stdout",
          "output_type": "stream",
          "text": [
            "Kullanıcı adınız: bahadir\n",
            "Parolanız: 123\n"
          ]
        }
      ],
      "source": [
        "#Kullanıcıdan kullanıcı adı ve parola bilgilerini alıyoruz...\n",
        "kull = input(\"Kullanıcı adınız: \")\n",
        "paro = input(\"Parolanız: \")\n",
        "\n",
        "im.execute(\"\"\"SELECT * FROM kullanicilar WHERE\n",
        "kullanici_adi = '%s' AND parola = '%s'\"\"\"%(kull, paro))\n",
        "\n",
        "data = im.fetchone()\n"
      ]
    },
    {
      "cell_type": "code",
      "execution_count": null,
      "metadata": {
        "id": "93pK-PLIe0HZ",
        "outputId": "3d381f61-1760-4a9a-b3b3-52eb8e71dc9e"
      },
      "outputs": [
        {
          "name": "stdout",
          "output_type": "stream",
          "text": [
            "Programa hoşgeldin bahadir!\n"
          ]
        }
      ],
      "source": [
        "\n",
        "if data:\n",
        "    print(\"Programa hoşgeldin {}!\".format(data[0]))\n",
        "else:\n",
        "    print(\"Parola veya kullanıcı adı yanlış!\")"
      ]
    },
    {
      "cell_type": "code",
      "execution_count": null,
      "metadata": {
        "id": "IQx_c0oGe0HZ"
      },
      "outputs": [],
      "source": []
    },
    {
      "cell_type": "code",
      "execution_count": null,
      "metadata": {
        "id": "XSbmmIeke0HZ"
      },
      "outputs": [],
      "source": []
    },
    {
      "cell_type": "code",
      "execution_count": null,
      "metadata": {
        "id": "BrKqKxYNe0HZ"
      },
      "outputs": [],
      "source": []
    },
    {
      "cell_type": "code",
      "execution_count": null,
      "metadata": {
        "id": "6BS71XSie0HZ"
      },
      "outputs": [],
      "source": []
    },
    {
      "cell_type": "code",
      "execution_count": null,
      "metadata": {
        "id": "Fl3QtOPoe0HZ"
      },
      "outputs": [],
      "source": []
    },
    {
      "cell_type": "code",
      "execution_count": null,
      "metadata": {
        "id": "sgYXTuUde0Ha"
      },
      "outputs": [],
      "source": []
    },
    {
      "cell_type": "code",
      "execution_count": null,
      "metadata": {
        "id": "ZXq_3Kiie0Ha"
      },
      "outputs": [],
      "source": []
    },
    {
      "cell_type": "code",
      "execution_count": null,
      "metadata": {
        "id": "xxkOL_fTe0Ha"
      },
      "outputs": [],
      "source": []
    },
    {
      "cell_type": "code",
      "execution_count": null,
      "metadata": {
        "id": "Bw0Zlw9Te0Ha"
      },
      "outputs": [],
      "source": []
    },
    {
      "cell_type": "code",
      "execution_count": null,
      "metadata": {
        "id": "o23243bXe0Ha"
      },
      "outputs": [],
      "source": []
    },
    {
      "cell_type": "code",
      "execution_count": null,
      "metadata": {
        "id": "OM0kRj7Ie0Ha"
      },
      "outputs": [],
      "source": []
    },
    {
      "cell_type": "code",
      "execution_count": null,
      "metadata": {
        "id": "1SOVaNQXe0Hb"
      },
      "outputs": [],
      "source": []
    },
    {
      "cell_type": "code",
      "source": [],
      "metadata": {
        "id": "i2225DQre1nD"
      },
      "execution_count": null,
      "outputs": []
    },
    {
      "cell_type": "code",
      "source": [],
      "metadata": {
        "id": "PBkytZXCe1rF"
      },
      "execution_count": null,
      "outputs": []
    },
    {
      "cell_type": "code",
      "source": [],
      "metadata": {
        "id": "T5wnHI3Pe1tk"
      },
      "execution_count": null,
      "outputs": []
    },
    {
      "cell_type": "code",
      "source": [],
      "metadata": {
        "id": "zqgVP9iYe1xY"
      },
      "execution_count": null,
      "outputs": []
    },
    {
      "cell_type": "code",
      "source": [],
      "metadata": {
        "id": "4lVowkMne1zp"
      },
      "execution_count": null,
      "outputs": []
    },
    {
      "cell_type": "code",
      "source": [],
      "metadata": {
        "id": "wxiLpRioe116"
      },
      "execution_count": null,
      "outputs": []
    },
    {
      "cell_type": "code",
      "source": [],
      "metadata": {
        "id": "N4N6ILnke14C"
      },
      "execution_count": null,
      "outputs": []
    },
    {
      "cell_type": "code",
      "source": [],
      "metadata": {
        "id": "473TZQvPe3kp"
      },
      "execution_count": null,
      "outputs": []
    },
    {
      "cell_type": "code",
      "source": [],
      "metadata": {
        "id": "YUepTmcue158"
      },
      "execution_count": null,
      "outputs": []
    },
    {
      "cell_type": "code",
      "source": [],
      "metadata": {
        "id": "Fy4Geldbe17t"
      },
      "execution_count": null,
      "outputs": []
    },
    {
      "cell_type": "code",
      "source": [],
      "metadata": {
        "id": "5-R_nLC2e192"
      },
      "execution_count": null,
      "outputs": []
    },
    {
      "cell_type": "code",
      "source": [],
      "metadata": {
        "id": "RRKb9rZ-e2Bi"
      },
      "execution_count": null,
      "outputs": []
    },
    {
      "cell_type": "code",
      "source": [],
      "metadata": {
        "id": "cbYmOjyee2Cl"
      },
      "execution_count": null,
      "outputs": []
    },
    {
      "cell_type": "code",
      "source": [],
      "metadata": {
        "id": "yjmSqrqLe2EB"
      },
      "execution_count": null,
      "outputs": []
    },
    {
      "cell_type": "code",
      "source": [],
      "metadata": {
        "id": "ENX0ingMe2F9"
      },
      "execution_count": null,
      "outputs": []
    },
    {
      "cell_type": "code",
      "source": [],
      "metadata": {
        "id": "zStAPG2ge2IW"
      },
      "execution_count": null,
      "outputs": []
    },
    {
      "cell_type": "code",
      "source": [],
      "metadata": {
        "id": "wwjWyD4Oe2KO"
      },
      "execution_count": null,
      "outputs": []
    },
    {
      "cell_type": "code",
      "source": [],
      "metadata": {
        "id": "zYm9wuOBe2MN"
      },
      "execution_count": null,
      "outputs": []
    },
    {
      "cell_type": "code",
      "source": [],
      "metadata": {
        "id": "C3KNLV7se2OB"
      },
      "execution_count": null,
      "outputs": []
    },
    {
      "cell_type": "code",
      "source": [],
      "metadata": {
        "id": "RUWAYcd6e2Qg"
      },
      "execution_count": null,
      "outputs": []
    },
    {
      "cell_type": "code",
      "source": [],
      "metadata": {
        "id": "Jxc2-12ke2Uh"
      },
      "execution_count": null,
      "outputs": []
    },
    {
      "cell_type": "code",
      "source": [],
      "metadata": {
        "id": "5BY3pyONe2W2"
      },
      "execution_count": null,
      "outputs": []
    }
  ],
  "metadata": {
    "colab": {
      "provenance": [],
      "include_colab_link": true
    },
    "kernelspec": {
      "display_name": "Python 3 (ipykernel)",
      "language": "python",
      "name": "python3"
    },
    "language_info": {
      "codemirror_mode": {
        "name": "ipython",
        "version": 3
      },
      "file_extension": ".py",
      "mimetype": "text/x-python",
      "name": "python",
      "nbconvert_exporter": "python",
      "pygments_lexer": "ipython3",
      "version": "3.11.4"
    }
  },
  "nbformat": 4,
  "nbformat_minor": 0
}