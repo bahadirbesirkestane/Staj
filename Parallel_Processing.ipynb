{
  "nbformat": 4,
  "nbformat_minor": 0,
  "metadata": {
    "colab": {
      "provenance": [],
      "authorship_tag": "ABX9TyOhaKvPtYOPTlYZFi0g982W",
      "include_colab_link": true
    },
    "kernelspec": {
      "name": "python3",
      "display_name": "Python 3"
    },
    "language_info": {
      "name": "python"
    }
  },
  "cells": [
    {
      "cell_type": "markdown",
      "metadata": {
        "id": "view-in-github",
        "colab_type": "text"
      },
      "source": [
        "<a href=\"https://colab.research.google.com/github/bahadirbesirkestane/Staj/blob/main/Parallel_Processing.ipynb\" target=\"_parent\"><img src=\"https://colab.research.google.com/assets/colab-badge.svg\" alt=\"Open In Colab\"/></a>"
      ]
    },
    {
      "cell_type": "markdown",
      "source": [
        "## Paralel Processing\n",
        "Paralel Processing, görevin aynı bilgisayardaki birden fazla işlemcide aynı anda yürütüldüğü bir çalışma modudur. Amaç genel işlem süresini azaltmaktır.\n"
      ],
      "metadata": {
        "id": "UmJDWhrOdEuo"
      }
    },
    {
      "cell_type": "code",
      "execution_count": 2,
      "metadata": {
        "colab": {
          "base_uri": "https://localhost:8080/",
          "height": 0
        },
        "id": "dvwMfoJddDPb",
        "outputId": "8b4fd869-9725-4614-d6b6-24079d06e383"
      },
      "outputs": [
        {
          "output_type": "stream",
          "name": "stdout",
          "text": [
            "İşlemci sayısı:  2\n"
          ]
        }
      ],
      "source": [
        "import multiprocessing as mp\n",
        "print(\"İşlemci sayısı: \", mp.cpu_count())"
      ]
    },
    {
      "cell_type": "markdown",
      "source": [
        "Aynı anda çalıştırabileceğiniz maksimum işlem sayısı, bilgisayarınızdaki işlemci sayısına bağlıdır."
      ],
      "metadata": {
        "id": "sK6p-5UZg6IS"
      }
    },
    {
      "cell_type": "markdown",
      "source": [
        "### Senkron ve Asenkron Yürütme nedir\n",
        "Senkron yürütme, süreçlerin başlatıldığı sırayla tamamlanmasıdır. Bu, ilgili işlemler bitene kadar ana programın kilitlenmesiyle gerçekleştirilir.\n",
        "\n",
        "Asenkron, kilitleme içermez. Sonuç olarak, sonuçların sırası karışabilir ancak genellikle daha hızlı tamamlanır."
      ],
      "metadata": {
        "id": "bk3DHKYchPHN"
      }
    },
    {
      "cell_type": "code",
      "source": [
        "# Her satırda belirli bir aralık arasında kaç sayı bulunduğunu sayın\n",
        "\n",
        "import numpy as np\n",
        "from time import time\n",
        "\n",
        "# Prepare data\n",
        "np.random.RandomState(100)\n",
        "arr = np.random.randint(0, 10, size=[200000, 5])\n",
        "data = arr.tolist()\n",
        "data[:5]"
      ],
      "metadata": {
        "colab": {
          "base_uri": "https://localhost:8080/",
          "height": 0
        },
        "id": "CfIRJLneijx_",
        "outputId": "491c49e0-3836-4ed4-e09a-bb5ec0fa5080"
      },
      "execution_count": 5,
      "outputs": [
        {
          "output_type": "execute_result",
          "data": {
            "text/plain": [
              "[[9, 4, 7, 2, 5],\n",
              " [1, 0, 8, 5, 9],\n",
              " [3, 7, 4, 5, 4],\n",
              " [6, 7, 7, 9, 0],\n",
              " [9, 8, 3, 7, 0]]"
            ]
          },
          "metadata": {},
          "execution_count": 5
        }
      ]
    },
    {
      "cell_type": "markdown",
      "source": [
        ">Paralelleştirme Olmadan Çözüm"
      ],
      "metadata": {
        "id": "1MFOE2PkjPpT"
      }
    },
    {
      "cell_type": "code",
      "source": [
        "def howmany_within_range(row, minimum, maximum):\n",
        "    \"\"\"Returns how many numbers lie within `maximum` and `minimum` in a given `row`\"\"\"\n",
        "    count = 0\n",
        "    for n in row:\n",
        "        if minimum <= n <= maximum:\n",
        "            count = count + 1\n",
        "    return count\n",
        "\n",
        "results = []\n",
        "for row in data:\n",
        "  results.append(howmany_within_range(row, minimum=4, maximum=8))\n",
        "\n",
        "print(results[:10])\n"
      ],
      "metadata": {
        "colab": {
          "base_uri": "https://localhost:8080/",
          "height": 0
        },
        "id": "G9jsI2cGij0O",
        "outputId": "91058b80-faf4-4461-e5e7-4aa0921dbc5d"
      },
      "execution_count": 7,
      "outputs": [
        {
          "output_type": "stream",
          "name": "stdout",
          "text": [
            "[3, 2, 4, 3, 2, 5, 3, 1, 2, 5]\n"
          ]
        }
      ]
    },
    {
      "cell_type": "markdown",
      "source": [
        "Herhangi bir işlemi paralelleştirmenin genel yolu, birden çok kez çalıştırılması gereken belirli bir işlevi alıp farklı işlemcilerde paralel olarak çalışmasını sağlamaktır."
      ],
      "metadata": {
        "id": "9S3z4tToj2HY"
      }
    },
    {
      "cell_type": "markdown",
      "source": [
        "### Pool.apply() kullanarak paralelleştirme"
      ],
      "metadata": {
        "id": "IY3MOBTSkxyF"
      }
    },
    {
      "cell_type": "code",
      "source": [
        "import multiprocessing as mp\n",
        "\n",
        "# multiprocessing.Pool() başlatılması\n",
        "pool = mp.Pool(mp.cpu_count())\n",
        "\n",
        "# pool.apply nin değişkene uyarlanması\n",
        "results = [pool.apply(howmany_within_range, args=(row, 4, 8)) for row in data]\n",
        "\n",
        "# pool un kapatılması\n",
        "pool.close()\n",
        "\n",
        "print(results[:10])"
      ],
      "metadata": {
        "colab": {
          "base_uri": "https://localhost:8080/",
          "height": 0
        },
        "id": "bhdFcPvzij2b",
        "outputId": "117dd7c7-2c74-42d7-c60f-df8b748a2b17"
      },
      "execution_count": 8,
      "outputs": [
        {
          "output_type": "stream",
          "name": "stdout",
          "text": [
            "[3, 2, 4, 3, 2, 5, 3, 1, 2, 5]\n"
          ]
        }
      ]
    },
    {
      "cell_type": "markdown",
      "source": [
        "###  Pool.map() kullanarak paralelleştirme"
      ],
      "metadata": {
        "id": "Z_QRZnKklyPo"
      }
    },
    {
      "cell_type": "code",
      "source": [
        "import multiprocessing as mp\n",
        "\n",
        "# Redefine, with only 1 mandatory argument.\n",
        "def howmany_within_range_rowonly(row, minimum=4, maximum=8):\n",
        "    count = 0\n",
        "    for n in row:\n",
        "        if minimum <= n <= maximum:\n",
        "            count = count + 1\n",
        "    return count\n",
        "\n",
        "pool = mp.Pool(mp.cpu_count())\n",
        "\n",
        "results = pool.map(howmany_within_range_rowonly, [row for row in data])\n",
        "\n",
        "pool.close()\n",
        "\n",
        "print(results[:10])"
      ],
      "metadata": {
        "colab": {
          "base_uri": "https://localhost:8080/",
          "height": 0
        },
        "id": "02dnJW4kij4h",
        "outputId": "a3e60c18-3d1c-4511-c789-7a05ca7076a8"
      },
      "execution_count": 9,
      "outputs": [
        {
          "output_type": "stream",
          "name": "stdout",
          "text": [
            "[3, 2, 4, 3, 2, 5, 3, 1, 2, 5]\n"
          ]
        }
      ]
    },
    {
      "cell_type": "markdown",
      "source": [
        "### Pool.starmap() kullanarak paralelleştirme"
      ],
      "metadata": {
        "id": "b4PNl_mMmJI-"
      }
    },
    {
      "cell_type": "code",
      "source": [
        "import multiprocessing as mp\n",
        "\n",
        "pool = mp.Pool(mp.cpu_count())\n",
        "\n",
        "results = pool.starmap(howmany_within_range, [(row, 4, 8) for row in data])\n",
        "\n",
        "pool.close()\n",
        "\n",
        "print(results[:10])"
      ],
      "metadata": {
        "colab": {
          "base_uri": "https://localhost:8080/",
          "height": 0
        },
        "id": "pe6n8O5bij6Y",
        "outputId": "c8665d9c-28fc-44c1-c9ae-9b4058c3f2bc"
      },
      "execution_count": 10,
      "outputs": [
        {
          "output_type": "stream",
          "name": "stdout",
          "text": [
            "[3, 2, 4, 3, 2, 5, 3, 1, 2, 5]\n"
          ]
        }
      ]
    },
    {
      "cell_type": "markdown",
      "source": [
        "## Asenkron Parallel Processing\n",
        "Paralel olarak eşzamansız olarak yürütmenize olanak tanır; yani bir sonraki işlem, başlangıç sırasına bakılmaksızın bir önceki işlem biter bitmez başlayabilir.\n",
        "\n",
        "Sonuç olarak sonucun girdiyle aynı sırada olacağının garantisi yoktur."
      ],
      "metadata": {
        "id": "R5GT8ykKmmE2"
      }
    },
    {
      "cell_type": "markdown",
      "source": [
        "###  Pool.apply_async() ile Paralelleşitirme\n",
        "Hesaplanan sonuçların nasıl saklanması gerektiğini söyleyen bir geri çağırma işlevi sağlamanız gerekmesi dışında application()'a çok benzer."
      ],
      "metadata": {
        "id": "n3WDYB0znIT2"
      }
    },
    {
      "cell_type": "code",
      "source": [
        "import multiprocessing as mp\n",
        "pool = mp.Pool(mp.cpu_count())\n",
        "\n",
        "results = []\n",
        "\n",
        "# Yinemele numarası tanımlanması\n",
        "def howmany_within_range2(i, row, minimum, maximum):\n",
        "    \"\"\"Returns how many numbers lie within `maximum` and `minimum` in a given `row`\"\"\"\n",
        "    count = 0\n",
        "    for n in row:\n",
        "        if minimum <= n <= maximum:\n",
        "            count = count + 1\n",
        "    return (i, count)\n",
        "\n",
        "\n",
        "# Çıktıyı \"result\"depişkeninde toplamak için geri çağırma işlevi\n",
        "def collect_result(result):\n",
        "    global results\n",
        "    results.append(result)\n",
        "\n",
        "\n",
        "# Paralelleştirmek için döngü\n",
        "for i, row in enumerate(data):\n",
        "    pool.apply_async(howmany_within_range2, args=(i, row, 4, 8), callback=collect_result)\n",
        "\n",
        "# Havuzu kapat ve tüm işlemlerin tamamlanmasına izin ver\n",
        "pool.close()\n",
        "pool.join()  # Kuyruktaki tüm işlemler bitene kadar sonraki kod satırının yürütülmesini erteler.\n",
        "\n",
        "# Step 5: Sonuçları sırala\n",
        "results.sort(key=lambda x: x[0])\n",
        "results_final = [r for i, r in results]\n",
        "\n",
        "print(results_final[:10])"
      ],
      "metadata": {
        "id": "SZATuq7Eij-8"
      },
      "execution_count": 11,
      "outputs": []
    },
    {
      "cell_type": "markdown",
      "source": [
        "Bir geri çağırma işlevi sağlamadan application_async() işlevini kullanmak mümkündür.\n",
        "\n",
        "Yalnızca bu, bir geri arama sağlamazsanız, her işlemden hesaplanan çıktı değerlerini içeren pool.ApplyResult nesnelerinin bir listesini alırsınız."
      ],
      "metadata": {
        "id": "AhI8Vcp6pEdE"
      }
    },
    {
      "cell_type": "code",
      "source": [
        "import multiprocessing as mp\n",
        "pool = mp.Pool(mp.cpu_count())\n",
        "\n",
        "results = []\n",
        "\n",
        "# application_async() işlevini çağırın\n",
        "result_objects = [pool.apply_async(howmany_within_range2, args=(i, row, 4, 8)) for i, row in enumerate(data)]\n",
        "\n",
        "# result_objects,pool.ApplyResult nesnelerinin bir listesidir\n",
        "results = [r.get()[1] for r in result_objects]\n",
        "\n",
        "pool.close()\n",
        "pool.join()\n",
        "print(results[:10])"
      ],
      "metadata": {
        "colab": {
          "base_uri": "https://localhost:8080/",
          "height": 0
        },
        "id": "EFXo0l2oikBX",
        "outputId": "ef45aad0-eb4a-4365-99b8-602435325816"
      },
      "execution_count": 12,
      "outputs": [
        {
          "output_type": "stream",
          "name": "stdout",
          "text": [
            "[3, 2, 4, 3, 2, 5, 3, 1, 2, 5]\n"
          ]
        }
      ]
    },
    {
      "cell_type": "markdown",
      "source": [
        "### Pool.starmap_async() ile Paralelleşitirme"
      ],
      "metadata": {
        "id": "ASPaYxlUpnCo"
      }
    },
    {
      "cell_type": "code",
      "source": [
        "import multiprocessing as mp\n",
        "pool = mp.Pool(mp.cpu_count())\n",
        "\n",
        "results = []\n",
        "\n",
        "results = pool.starmap_async(howmany_within_range2, [(i, row, 4, 8) for i, row in enumerate(data)]).get()\n",
        "\n",
        "# map() de bunun yerine \"howmany_within_range_rowonly\" kullanın\n",
        "# results =pool.map_async(howmany_within_range_rowonly, [verideki satır için satır]).get()\n",
        "\n",
        "pool.close()\n",
        "print(results[:10])"
      ],
      "metadata": {
        "colab": {
          "base_uri": "https://localhost:8080/",
          "height": 0
        },
        "id": "B_RcK5wiikDt",
        "outputId": "70e70671-75a2-4869-e9ba-fc3e1e269777"
      },
      "execution_count": 13,
      "outputs": [
        {
          "output_type": "stream",
          "name": "stdout",
          "text": [
            "[(0, 3), (1, 2), (2, 4), (3, 3), (4, 2), (5, 5), (6, 3), (7, 1), (8, 2), (9, 5)]\n"
          ]
        }
      ]
    },
    {
      "cell_type": "markdown",
      "source": [
        "## Pandas DataFrame'i Paralelleştirme\n",
        "Bir DataFrame'in paralelleştirilmesi söz konusu olduğunda, paralelleştirilecek işlevin bir giriş parametresi olarak alınmasını sağlayabilirsiniz;\n",
        "* veri çerçevesinin bir satırı\n",
        "* veri çerçevesinin bir sütunu\n",
        "* tüm veri çerçevesinin kendisi"
      ],
      "metadata": {
        "id": "Lmga2IqDqJYM"
      }
    },
    {
      "cell_type": "code",
      "source": [
        "import numpy as np\n",
        "import pandas as pd\n",
        "import multiprocessing as mp\n",
        "\n",
        "df = pd.DataFrame(np.random.randint(3, 10, size=[5, 2]))\n",
        "print(df.head())"
      ],
      "metadata": {
        "colab": {
          "base_uri": "https://localhost:8080/",
          "height": 0
        },
        "id": "U4KtLZovikFx",
        "outputId": "dddd388d-d99a-43eb-8374-64270e505378"
      },
      "execution_count": 14,
      "outputs": [
        {
          "output_type": "stream",
          "name": "stdout",
          "text": [
            "   0  1\n",
            "0  9  6\n",
            "1  5  5\n",
            "2  9  8\n",
            "3  7  3\n",
            "4  9  9\n"
          ]
        }
      ]
    },
    {
      "cell_type": "markdown",
      "source": [
        "Bir veri çerçevemiz var. Her satıra hipotenüs fonksiyonunu uygulayalım, ancak aynı anda 4 işlemi çalıştıralım.\n",
        "\n",
        "name=False ayarını yaparak, veri çerçevesinin her satırını basit bir demet olarak hipotenüs fonksiyonuna geçirmiş olursunuz."
      ],
      "metadata": {
        "id": "lBkmXogYq74f"
      }
    },
    {
      "cell_type": "code",
      "source": [
        "# Satır bazında paralelleştirme\n",
        "def hypotenuse(row):\n",
        "    return round(row[1]**2 + row[2]**2, 2)**0.5\n",
        "\n",
        "with mp.Pool(4) as pool:\n",
        "    result = pool.imap(hypotenuse, df.itertuples(name=False), chunksize=10)\n",
        "    output = [round(x, 2) for x in result]\n",
        "\n",
        "print(output)"
      ],
      "metadata": {
        "id": "3uRq-JAaikII"
      },
      "execution_count": 19,
      "outputs": []
    },
    {
      "cell_type": "markdown",
      "source": [
        "[9.43, 5.83, 5.0, 5.66, 11.4]"
      ],
      "metadata": {
        "id": "XlN8XUyVsAJy"
      }
    },
    {
      "cell_type": "code",
      "source": [
        "# Sütün Bazında Paralelleştirme\n",
        "def sum_of_squares(column):\n",
        "    return sum([i**2 for i in column[1]])\n",
        "\n",
        "with mp.Pool(2) as pool:\n",
        "    result = pool.imap(sum_of_squares, df.iteritems(), chunksize=10)\n",
        "    output = [x for x in result]\n",
        "\n",
        "print(output)"
      ],
      "metadata": {
        "colab": {
          "base_uri": "https://localhost:8080/"
        },
        "id": "IT7iYIe-ikKl",
        "outputId": "527d20db-f1d5-442b-b5c2-b4f6e63cbef2"
      },
      "execution_count": 21,
      "outputs": [
        {
          "output_type": "stream",
          "name": "stdout",
          "text": [
            "[317, 215]\n"
          ]
        }
      ]
    },
    {
      "cell_type": "markdown",
      "source": [
        "### Pandas Dataframe, NumPy Array vb. kabul eden bir işlevi paralel hale getirmek."
      ],
      "metadata": {
        "id": "C-n9ABXnssGv"
      }
    },
    {
      "cell_type": "code",
      "source": [
        "import numpy as np\n",
        "import pandas as pd\n",
        "import multiprocessing as mp\n",
        "from pathos.multiprocessing import ProcessingPool as Pool\n",
        "\n",
        "df = pd.DataFrame(np.random.randint(3, 10, size=[500, 2]))\n",
        "\n",
        "def func(df):\n",
        "    return df.shape\n",
        "\n",
        "cores=mp.cpu_count()\n",
        "\n",
        "df_split = np.array_split(df, cores, axis=0)\n",
        "\n",
        "# çoklu işlem havuzunu oluştur\n",
        "pool = Pool(cores)\n",
        "\n",
        "# havuzdaki her df'ye işlevi eşleyerek DataFrame'i işleyin\n",
        "df_out = np.vstack(pool.map(func, df_split))\n",
        "\n",
        "# havuzu kapat ve joinel\n",
        "pool.close()\n",
        "pool.join()\n",
        "pool.clear()"
      ],
      "metadata": {
        "id": "Mu7ZhbGXikMr"
      },
      "execution_count": 25,
      "outputs": []
    },
    {
      "cell_type": "markdown",
      "source": [
        "**GPU Paralelleştirme :** Grafik işlem birimleri (GPU'lar), paralel işlemeye yönelik olarak optimize edilmiştir. Özellikle büyük veri işleme ve derin öğrenme gibi uygulamalarda GPU'lar kullanılır."
      ],
      "metadata": {
        "id": "1pSnKrBjxktb"
      }
    },
    {
      "cell_type": "markdown",
      "source": [
        "GPU ve CPU farkının bir matris çarpımıyla örneği:\n",
        "\n",
        ">CPU"
      ],
      "metadata": {
        "id": "pTmejm0mxo_N"
      }
    },
    {
      "cell_type": "code",
      "source": [
        "import tensorflow as tf\n",
        "import time\n",
        "\n",
        "# GPU cihazlarına erişimi devre dışı bırak\n",
        "tf.config.experimental.set_visible_devices([], 'GPU')\n",
        "\n",
        "#  MAtrisleri Oluştur\n",
        "matrix_size = 1000\n",
        "matrix_a = tf.random.normal((matrix_size, matrix_size))\n",
        "matrix_b = tf.random.normal((matrix_size, matrix_size))\n",
        "\n",
        "# Matris çarpımının CPU üzerinde hesaplanması\n",
        "start_time = time.time()\n",
        "result = tf.matmul(matrix_a, matrix_b)\n",
        "end_time = time.time()\n",
        "\n",
        "print(\"Matris çarpımı süresi (CPU):\", end_time - start_time, \"saniye\")\n",
        "\n"
      ],
      "metadata": {
        "colab": {
          "base_uri": "https://localhost:8080/"
        },
        "id": "UyenF0eKikO6",
        "outputId": "ab56d5e5-cf1a-4fbd-8f93-bb02923e669b"
      },
      "execution_count": 44,
      "outputs": [
        {
          "output_type": "stream",
          "name": "stdout",
          "text": [
            "Matris çarpımı süresi (CPU): 0.27014899253845215 saniye\n"
          ]
        }
      ]
    },
    {
      "cell_type": "markdown",
      "source": [
        ">GPU"
      ],
      "metadata": {
        "id": "Vpb8ZBnOyBED"
      }
    },
    {
      "cell_type": "code",
      "source": [
        "import tensorflow as tf\n",
        "import time\n",
        "\n",
        "# GPU cihazlarına erişimi etkinleştir\n",
        "gpus = tf.config.experimental.list_physical_devices('GPU')\n",
        "if gpus:\n",
        "    try:\n",
        "        for gpu in gpus:\n",
        "            tf.config.experimental.set_memory_growth(gpu, True)\n",
        "    except RuntimeError as e:\n",
        "        print(e)\n",
        "\n",
        "# MAtrisleri Oluştur\n",
        "matrix_size = 1000\n",
        "matrix_a = tf.random.normal((matrix_size, matrix_size))\n",
        "matrix_b = tf.random.normal((matrix_size, matrix_size))\n",
        "\n",
        "# Matris çarpımının GPU üzerinde hesaplanması\n",
        "start_time = time.time()\n",
        "result = tf.matmul(matrix_a, matrix_b)\n",
        "end_time = time.time()\n",
        "\n",
        "print(\"Matris çarpımı süresi (GPU):\", end_time - start_time, \"saniye\")\n",
        "\n"
      ],
      "metadata": {
        "colab": {
          "base_uri": "https://localhost:8080/"
        },
        "id": "-rHUNpi2ikRG",
        "outputId": "b316c83b-8613-4ed3-9469-ea770693b6b2"
      },
      "execution_count": 39,
      "outputs": [
        {
          "output_type": "stream",
          "name": "stdout",
          "text": [
            "Matris çarpımı süresi (GPU): 0.06027626991271973 saniye\n"
          ]
        }
      ]
    },
    {
      "cell_type": "code",
      "source": [],
      "metadata": {
        "id": "UNeTubobikTK"
      },
      "execution_count": null,
      "outputs": []
    },
    {
      "cell_type": "code",
      "source": [],
      "metadata": {
        "id": "YHOlLg8UikV7"
      },
      "execution_count": null,
      "outputs": []
    },
    {
      "cell_type": "code",
      "source": [],
      "metadata": {
        "id": "IeIDGR3GikYH"
      },
      "execution_count": null,
      "outputs": []
    },
    {
      "cell_type": "code",
      "source": [],
      "metadata": {
        "id": "TmkoVJbEzzh9"
      },
      "execution_count": null,
      "outputs": []
    },
    {
      "cell_type": "code",
      "source": [],
      "metadata": {
        "id": "-27njeRezzkT"
      },
      "execution_count": null,
      "outputs": []
    },
    {
      "cell_type": "code",
      "source": [],
      "metadata": {
        "id": "a5N2QV84zzmW"
      },
      "execution_count": null,
      "outputs": []
    },
    {
      "cell_type": "code",
      "source": [],
      "metadata": {
        "id": "Ohw2TVyAzzoh"
      },
      "execution_count": null,
      "outputs": []
    },
    {
      "cell_type": "code",
      "source": [],
      "metadata": {
        "id": "fH-SbukmzzqM"
      },
      "execution_count": null,
      "outputs": []
    },
    {
      "cell_type": "code",
      "source": [],
      "metadata": {
        "id": "NIl1HQ1PzzsK"
      },
      "execution_count": null,
      "outputs": []
    },
    {
      "cell_type": "code",
      "source": [],
      "metadata": {
        "id": "zQwqpu--zzuQ"
      },
      "execution_count": null,
      "outputs": []
    },
    {
      "cell_type": "code",
      "source": [],
      "metadata": {
        "id": "jjEYrAlGzzwd"
      },
      "execution_count": null,
      "outputs": []
    },
    {
      "cell_type": "code",
      "source": [],
      "metadata": {
        "id": "TxGoUyGbzzyI"
      },
      "execution_count": null,
      "outputs": []
    },
    {
      "cell_type": "code",
      "source": [],
      "metadata": {
        "id": "oEZTr7-Xzz0t"
      },
      "execution_count": null,
      "outputs": []
    },
    {
      "cell_type": "code",
      "source": [],
      "metadata": {
        "id": "cbHSzyinzz32"
      },
      "execution_count": null,
      "outputs": []
    },
    {
      "cell_type": "code",
      "source": [],
      "metadata": {
        "id": "sLrRr681zz6J"
      },
      "execution_count": null,
      "outputs": []
    },
    {
      "cell_type": "code",
      "source": [],
      "metadata": {
        "id": "G_Mc0Noyzz8A"
      },
      "execution_count": null,
      "outputs": []
    },
    {
      "cell_type": "code",
      "source": [],
      "metadata": {
        "id": "Objkm2gWzz-Q"
      },
      "execution_count": null,
      "outputs": []
    },
    {
      "cell_type": "code",
      "source": [],
      "metadata": {
        "id": "YNC7uhhfz0AX"
      },
      "execution_count": null,
      "outputs": []
    },
    {
      "cell_type": "code",
      "source": [],
      "metadata": {
        "id": "HfgEFOfVz0CN"
      },
      "execution_count": null,
      "outputs": []
    },
    {
      "cell_type": "code",
      "source": [],
      "metadata": {
        "id": "yPNkWTjfz0EN"
      },
      "execution_count": null,
      "outputs": []
    },
    {
      "cell_type": "code",
      "source": [],
      "metadata": {
        "id": "hkw0nUUOz0GX"
      },
      "execution_count": null,
      "outputs": []
    },
    {
      "cell_type": "code",
      "source": [],
      "metadata": {
        "id": "J9mVr-u7z0IK"
      },
      "execution_count": null,
      "outputs": []
    },
    {
      "cell_type": "code",
      "source": [],
      "metadata": {
        "id": "TU1tLW_wz6Ku"
      },
      "execution_count": null,
      "outputs": []
    },
    {
      "cell_type": "code",
      "source": [],
      "metadata": {
        "id": "XZQh4DNxz6NK"
      },
      "execution_count": null,
      "outputs": []
    },
    {
      "cell_type": "code",
      "source": [],
      "metadata": {
        "id": "x-Pzy3qCz6PQ"
      },
      "execution_count": null,
      "outputs": []
    },
    {
      "cell_type": "code",
      "source": [],
      "metadata": {
        "id": "4Kaduq1Yz6RE"
      },
      "execution_count": null,
      "outputs": []
    },
    {
      "cell_type": "code",
      "source": [],
      "metadata": {
        "id": "5r5zG8Woz6XQ"
      },
      "execution_count": null,
      "outputs": []
    },
    {
      "cell_type": "code",
      "source": [],
      "metadata": {
        "id": "99hkspnJz6Zp"
      },
      "execution_count": null,
      "outputs": []
    }
  ]
}