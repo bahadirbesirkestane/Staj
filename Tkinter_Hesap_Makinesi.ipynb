{
  "cells": [
    {
      "cell_type": "markdown",
      "metadata": {
        "id": "view-in-github",
        "colab_type": "text"
      },
      "source": [
        "<a href=\"https://colab.research.google.com/github/bahadirbesirkestane/Staj/blob/main/Tkinter_Hesap_Makinesi.ipynb\" target=\"_parent\"><img src=\"https://colab.research.google.com/assets/colab-badge.svg\" alt=\"Open In Colab\"/></a>"
      ]
    },
    {
      "cell_type": "markdown",
      "id": "a34eb2af",
      "metadata": {
        "id": "a34eb2af"
      },
      "source": [
        "## Hesap Makinesi"
      ]
    },
    {
      "cell_type": "code",
      "execution_count": null,
      "id": "adad6f7f",
      "metadata": {
        "id": "adad6f7f"
      },
      "outputs": [],
      "source": [
        "import tkinter as tk\n",
        "import math\n",
        "\n",
        "def btn_click(number):\n",
        "    current = entry.get()\n",
        "    entry.delete(0, tk.END)\n",
        "    entry.insert(0, current + str(number))\n",
        "\n",
        "def btn_clear():\n",
        "    entry.delete(0, tk.END)\n",
        "\n",
        "def btn_equals():\n",
        "    try:\n",
        "        result = eval(entry.get())\n",
        "        entry.delete(0, tk.END)\n",
        "        entry.insert(0, result)\n",
        "    except Exception as e:\n",
        "        entry.delete(0, tk.END)\n",
        "        entry.insert(0, \"Hata\")\n",
        "\n",
        "def square():\n",
        "    try:\n",
        "        num = float(entry.get())\n",
        "        result = num ** 2\n",
        "        entry.delete(0, tk.END)\n",
        "        entry.insert(0, result)\n",
        "    except Exception as e:\n",
        "        entry.delete(0, tk.END)\n",
        "        entry.insert(0, \"Hata\")\n",
        "\n",
        "def square_root():\n",
        "    try:\n",
        "        num = float(entry.get())\n",
        "        result = math.sqrt(num)\n",
        "        entry.delete(0, tk.END)\n",
        "        entry.insert(0, result)\n",
        "    except Exception as e:\n",
        "        entry.delete(0, tk.END)\n",
        "        entry.insert(0, \"Hata\")\n",
        "\n",
        "def factorial():\n",
        "    try:\n",
        "        num = int(entry.get())\n",
        "        result = math.factorial(num)\n",
        "        entry.delete(0, tk.END)\n",
        "        entry.insert(0, result)\n",
        "    except Exception as e:\n",
        "        entry.delete(0, tk.END)\n",
        "        entry.insert(0, \"Hata\")\n",
        "\n",
        "root = tk.Tk()\n",
        "root.title(\"Hesap Makinesi\")\n",
        "root.geometry(\"400x600\")  # Pencere boyutunu ayarlayın\n",
        "\n",
        "entry = tk.Entry(root, width=20, font=(\"Helvetica\", 20))\n",
        "entry.grid(row=0, column=0, columnspan=4, padx=10, pady=15)\n",
        "\n",
        "buttons = [\n",
        "    \"7\", \"8\", \"9\", \"/\",\n",
        "    \"4\", \"5\", \"6\", \"*\",\n",
        "    \"1\", \"2\", \"3\", \"-\",\n",
        "    \"0\", \".\", \"=\", \"+\"\n",
        "]\n",
        "\n",
        "row_val = 1\n",
        "col_val = 0\n",
        "\n",
        "for button in buttons:\n",
        "    tk.Button(root, text=button, padx=25, pady=25, font=(\"Helvetica\", 16),\n",
        "              command=lambda b=button: btn_click(b) if b != \"=\"\n",
        "              else btn_equals()).grid(row=row_val, column=col_val, padx=5, pady=5)\n",
        "    col_val += 1\n",
        "    if col_val > 3:\n",
        "        col_val = 0\n",
        "        row_val += 1\n",
        "\n",
        "# Kare Alma\n",
        "tk.Button(root, text=\"x^2\", padx=20, pady=20, font=(\"Helvetica\", 16), command=square).grid(row=5, column=1, padx=5, pady=5)\n",
        "\n",
        "# Karekök Alma\n",
        "tk.Button(root, text=\"√x\", padx=20, pady=20, font=(\"Helvetica\", 16), command=square_root).grid(row=5, column=2, padx=5, pady=5)\n",
        "\n",
        "# Faktoriyel Alma\n",
        "tk.Button(root, text=\"!\", padx=20, pady=20, font=(\"Helvetica\", 16), command=factorial).grid(row=5, column=3, padx=5, pady=5)\n",
        "\n",
        "# İşlem Temizleme Butonu\n",
        "tk.Button(root, text=\"C\", padx=20, pady=20, font=(\"Helvetica\", 16), command=btn_clear).grid(row=row_val, column=col_val, padx=5, pady=5)\n",
        "\n",
        "root.mainloop()\n"
      ]
    },
    {
      "cell_type": "markdown",
      "id": "c4f097c8",
      "metadata": {
        "id": "c4f097c8"
      },
      "source": [
        "![image.png](data:image/png;base64,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)"
      ]
    },
    {
      "cell_type": "code",
      "execution_count": null,
      "id": "c2bc19b5",
      "metadata": {
        "id": "c2bc19b5"
      },
      "outputs": [],
      "source": []
    },
    {
      "cell_type": "code",
      "execution_count": null,
      "id": "df36ee54",
      "metadata": {
        "id": "df36ee54"
      },
      "outputs": [],
      "source": []
    },
    {
      "cell_type": "code",
      "execution_count": null,
      "id": "3397e584",
      "metadata": {
        "id": "3397e584"
      },
      "outputs": [],
      "source": []
    },
    {
      "cell_type": "code",
      "execution_count": null,
      "id": "1b58b8f8",
      "metadata": {
        "id": "1b58b8f8"
      },
      "outputs": [],
      "source": []
    },
    {
      "cell_type": "code",
      "execution_count": null,
      "id": "e8b8c9b4",
      "metadata": {
        "id": "e8b8c9b4"
      },
      "outputs": [],
      "source": []
    },
    {
      "cell_type": "code",
      "execution_count": null,
      "id": "6fc6c7b3",
      "metadata": {
        "id": "6fc6c7b3"
      },
      "outputs": [],
      "source": []
    },
    {
      "cell_type": "code",
      "execution_count": null,
      "id": "e771152a",
      "metadata": {
        "id": "e771152a"
      },
      "outputs": [],
      "source": []
    },
    {
      "cell_type": "code",
      "execution_count": null,
      "id": "08aea715",
      "metadata": {
        "id": "08aea715"
      },
      "outputs": [],
      "source": []
    },
    {
      "cell_type": "code",
      "execution_count": null,
      "id": "d2e6b03d",
      "metadata": {
        "id": "d2e6b03d"
      },
      "outputs": [],
      "source": []
    },
    {
      "cell_type": "code",
      "execution_count": null,
      "id": "be565a2a",
      "metadata": {
        "id": "be565a2a"
      },
      "outputs": [],
      "source": []
    },
    {
      "cell_type": "code",
      "execution_count": null,
      "id": "d87cee2e",
      "metadata": {
        "id": "d87cee2e"
      },
      "outputs": [],
      "source": []
    },
    {
      "cell_type": "code",
      "execution_count": null,
      "id": "b83edb42",
      "metadata": {
        "id": "b83edb42"
      },
      "outputs": [],
      "source": []
    },
    {
      "cell_type": "code",
      "execution_count": null,
      "id": "4e09ff4e",
      "metadata": {
        "id": "4e09ff4e"
      },
      "outputs": [],
      "source": []
    },
    {
      "cell_type": "code",
      "execution_count": null,
      "id": "c813a117",
      "metadata": {
        "id": "c813a117"
      },
      "outputs": [],
      "source": []
    },
    {
      "cell_type": "code",
      "execution_count": null,
      "id": "7dea54cc",
      "metadata": {
        "id": "7dea54cc"
      },
      "outputs": [],
      "source": []
    },
    {
      "cell_type": "code",
      "execution_count": null,
      "id": "590662a4",
      "metadata": {
        "id": "590662a4"
      },
      "outputs": [],
      "source": []
    },
    {
      "cell_type": "code",
      "execution_count": null,
      "id": "16991e14",
      "metadata": {
        "id": "16991e14"
      },
      "outputs": [],
      "source": []
    },
    {
      "cell_type": "code",
      "execution_count": null,
      "id": "1b6af7c0",
      "metadata": {
        "id": "1b6af7c0"
      },
      "outputs": [],
      "source": []
    },
    {
      "cell_type": "code",
      "execution_count": null,
      "id": "8518fb1f",
      "metadata": {
        "id": "8518fb1f"
      },
      "outputs": [],
      "source": []
    },
    {
      "cell_type": "code",
      "execution_count": null,
      "id": "6f450d02",
      "metadata": {
        "id": "6f450d02"
      },
      "outputs": [],
      "source": []
    },
    {
      "cell_type": "code",
      "execution_count": null,
      "id": "b52a6d3a",
      "metadata": {
        "id": "b52a6d3a"
      },
      "outputs": [],
      "source": []
    },
    {
      "cell_type": "code",
      "execution_count": null,
      "id": "bd8ae5c9",
      "metadata": {
        "id": "bd8ae5c9"
      },
      "outputs": [],
      "source": []
    }
  ],
  "metadata": {
    "kernelspec": {
      "display_name": "Python 3 (ipykernel)",
      "language": "python",
      "name": "python3"
    },
    "language_info": {
      "codemirror_mode": {
        "name": "ipython",
        "version": 3
      },
      "file_extension": ".py",
      "mimetype": "text/x-python",
      "name": "python",
      "nbconvert_exporter": "python",
      "pygments_lexer": "ipython3",
      "version": "3.11.4"
    },
    "colab": {
      "provenance": [],
      "include_colab_link": true
    }
  },
  "nbformat": 4,
  "nbformat_minor": 5
}