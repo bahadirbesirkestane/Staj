{
  "nbformat": 4,
  "nbformat_minor": 0,
  "metadata": {
    "colab": {
      "provenance": [],
      "authorship_tag": "ABX9TyMwYJqQH1X3YvlfL96hhoq4",
      "include_colab_link": true
    },
    "kernelspec": {
      "name": "python3",
      "display_name": "Python 3"
    },
    "language_info": {
      "name": "python"
    }
  },
  "cells": [
    {
      "cell_type": "markdown",
      "metadata": {
        "id": "view-in-github",
        "colab_type": "text"
      },
      "source": [
        "<a href=\"https://colab.research.google.com/github/bahadirbesirkestane/Staj/blob/main/Threading.ipynb\" target=\"_parent\"><img src=\"https://colab.research.google.com/assets/colab-badge.svg\" alt=\"Open In Colab\"/></a>"
      ]
    },
    {
      "cell_type": "markdown",
      "source": [
        "## **Threading**\n",
        "**Thread :**  Bir thread, bir işlem içinde bağımsız olarak çalışabilen bir küçük iş parçasıdır. Python'da threading modülü, birden fazla iş parçacığını yönetmek için kullanılır. Thread içindeki kodlar sırayla işleme girerler, bir önceki kod satırı çalıştırılmadan bir sonraki çalıştırılmaz.\n",
        "\n",
        "\n",
        "\n",
        "**Multi-Thread :** Birden fazla iş parçacığının bulunduğu senaryodur. Çalışacak olan bir kod bloğunun yanında aynı anda ona paralel olarak çalışması gereken durumlarda kullanılır.\n"
      ],
      "metadata": {
        "id": "rbnfIehynyQI"
      }
    },
    {
      "cell_type": "markdown",
      "source": [
        "Oluşturulan bir thread'i başlatmak için start() methodunu kullanılır. Thread'i sonlandırmak için join() methodunu kullanılır."
      ],
      "metadata": {
        "id": "Zkq1jPUo12n8"
      }
    },
    {
      "cell_type": "code",
      "execution_count": 7,
      "metadata": {
        "id": "v04z95psnrRg"
      },
      "outputs": [],
      "source": [
        "from threading import Thread\n",
        "\n",
        "def thread_function():\n",
        "  for i in range(5):\n",
        "    print(\"Thread ile Çağrıldı: \" + str(i))\n",
        "    time.sleep(1)\n",
        "def function():\n",
        "  for i in range(5):\n",
        "    print(i)\n",
        "    time.sleep(3)\n"
      ]
    },
    {
      "cell_type": "code",
      "source": [
        "thread_fun = Thread(target = thread_function)\n",
        "thread_fun.start()\n",
        "function()"
      ],
      "metadata": {
        "colab": {
          "base_uri": "https://localhost:8080/"
        },
        "id": "fxj7Y2_8rXjL",
        "outputId": "333756bf-51f3-4941-bcf0-e42f9a413150"
      },
      "execution_count": 8,
      "outputs": [
        {
          "output_type": "stream",
          "name": "stdout",
          "text": [
            "Thread ile Çağrıldı: 0\n",
            "0\n",
            "Thread ile Çağrıldı: 1\n",
            "Thread ile Çağrıldı: 2\n",
            "Thread ile Çağrıldı: 3\n",
            "1\n",
            "Thread ile Çağrıldı: 4\n",
            "2\n",
            "3\n",
            "4\n"
          ]
        }
      ]
    },
    {
      "cell_type": "code",
      "source": [],
      "metadata": {
        "id": "dUcYxO5j1x48"
      },
      "execution_count": null,
      "outputs": []
    },
    {
      "cell_type": "markdown",
      "source": [
        ">Normal fonksiyon 3 saniye bekleyerek ekrana yazarken Thread ile çağırılan fonksiyon da onunla paralel işlem yaparak, onu engellemeden 1 saniye bekleyerek ekrana yazıyor."
      ],
      "metadata": {
        "id": "9CMy0CYgrsEb"
      }
    },
    {
      "cell_type": "code",
      "source": [
        "import logging\n",
        "import threading\n",
        "import time\n",
        "\n",
        "def thread_function(name):\n",
        "    logging.info(\"Thread %s: starting\", name)\n",
        "    time.sleep(2)\n",
        "    logging.info(\"Thread %s: finishing\", name)\n",
        "\n",
        "if __name__ == \"__main__\":\n",
        "    format = \"%(asctime)s: %(message)s\"\n",
        "    logging.basicConfig(format=format, level=logging.INFO,\n",
        "                        datefmt=\"%H:%M:%S\")\n",
        "\n",
        "    logging.info(\"Main    : before creating thread\")\n",
        "    x = threading.Thread(target=thread_function, args=(1,))\n",
        "    logging.info(\"Main    : before running thread\")\n",
        "    x.start()\n",
        "    logging.info(\"Main    : wait for the thread to finish\")\n",
        "    # x.join()\n",
        "    logging.info(\"Main    : all done\")"
      ],
      "metadata": {
        "id": "p2WGa7OErFCj"
      },
      "execution_count": 2,
      "outputs": []
    },
    {
      "cell_type": "markdown",
      "source": [
        "**Thread Senkronizasyonu :** Birden fazla thread aynı verilere veya kaynaklara erişiyorsa, senkronizasyon gereklidir. Bu, veri bozulmalarını veya uyumsuz davranışları önler."
      ],
      "metadata": {
        "id": "KmsJQuVA2L02"
      }
    },
    {
      "cell_type": "markdown",
      "source": [
        "### Lock Kullanarak Senkronizasyon"
      ],
      "metadata": {
        "id": "4uUlsqoBXQLg"
      }
    },
    {
      "cell_type": "code",
      "source": [
        "# Lock Kullanarak Senkronizasyon\n",
        "\n",
        "import threading\n",
        "\n",
        "# Paylaşılan kaynak\n",
        "shared_resource = 0\n",
        "\n",
        "# Lock nesnesi oluştur\n",
        "lock = threading.Lock()\n",
        "\n",
        "def increment_shared_resource():\n",
        "    global shared_resource\n",
        "    for _ in range(100000):\n",
        "        # Lock ile kritik bölgeyi koru\n",
        "        with lock:\n",
        "            shared_resource += 1\n",
        "\n",
        "def decrement_shared_resource():\n",
        "    global shared_resource\n",
        "    for _ in range(100000):\n",
        "        # Lock ile kritik bölgeyi koru\n",
        "        with lock:\n",
        "            shared_resource -= 1\n",
        "\n",
        "# İki thread'i başlat\n",
        "thread1 = threading.Thread(target=increment_shared_resource)\n",
        "thread2 = threading.Thread(target=decrement_shared_resource)\n",
        "\n",
        "thread1.start()\n",
        "thread2.start()\n",
        "\n",
        "thread1.join()\n",
        "thread2.join()\n",
        "\n",
        "print(\"Sonuç:\", shared_resource)"
      ],
      "metadata": {
        "colab": {
          "base_uri": "https://localhost:8080/"
        },
        "id": "ztD4DkNR24iC",
        "outputId": "7bf49eed-4112-4b99-83bd-0d4ee2ae15aa"
      },
      "execution_count": 12,
      "outputs": [
        {
          "output_type": "stream",
          "name": "stdout",
          "text": [
            "Sonuç: 0\n"
          ]
        }
      ]
    },
    {
      "cell_type": "markdown",
      "source": [
        "Bu örnekte, iki thread aynı shared_resource değişkenine erişiyor ve with lock blokları içinde bu değişkeni güvence altına alıyor. Bu sayede veri bozulmalarını önler."
      ],
      "metadata": {
        "id": "_z4dmLIz3afR"
      }
    },
    {
      "cell_type": "markdown",
      "source": [
        "### Semaphore Kullanarak Senkronizasyon"
      ],
      "metadata": {
        "id": "UsTFhUBaXE5g"
      }
    },
    {
      "cell_type": "code",
      "source": [
        "# Semaphore Kullanarak Senkronizasyon\n",
        "import threading\n",
        "\n",
        "# Maksimum iki thread'e izin veren bir semafor oluştur\n",
        "semaphore = threading.Semaphore(2)\n",
        "\n",
        "def access_shared_resource():\n",
        "    with semaphore:\n",
        "        print(\"Thread erişti.\")\n",
        "        # Kritik bölgey\n",
        "        print(\"Thread işini bitirdi.\")\n",
        "\n",
        "# Thread leri başlat\n",
        "threads = []\n",
        "for _ in range(5):\n",
        "    thread = threading.Thread(target=access_shared_resource)\n",
        "    threads.append(thread)\n",
        "    thread.start()\n",
        "\n",
        "for thread in threads:\n",
        "    thread.join()\n",
        "\n",
        "print(\"İşlem tamamlandı.\")"
      ],
      "metadata": {
        "colab": {
          "base_uri": "https://localhost:8080/"
        },
        "id": "20AbNtZv3iW2",
        "outputId": "9e4aa652-2131-4a7e-978f-f39ffb561c05"
      },
      "execution_count": 16,
      "outputs": [
        {
          "output_type": "stream",
          "name": "stdout",
          "text": [
            "Thread erişti.\n",
            "Thread işini bitirdi.\n",
            "Thread erişti.\n",
            "Thread işini bitirdi.\n",
            "Thread erişti.\n",
            "Thread işini bitirdi.\n",
            "Thread erişti.\n",
            "Thread işini bitirdi.\n",
            "Thread erişti.\n",
            "Thread işini bitirdi.\n",
            "İşlem tamamlandı.\n"
          ]
        }
      ]
    },
    {
      "cell_type": "markdown",
      "source": [
        "Bu örnekte, bir semafor oluşturulur ve her thread, semaforun izin verdiği kadar erişim hakkına sahip olmak için semaforu kullanır. Bu, aynı anda yalnızca belirli sayıda thread'in belirli bir kritik bölgeye erişmesine izin verir."
      ],
      "metadata": {
        "id": "48B8cs9j3-iL"
      }
    },
    {
      "cell_type": "markdown",
      "source": [
        "**BoundedSemaphore()**"
      ],
      "metadata": {
        "id": "AFVb6vCuZuAg"
      }
    },
    {
      "cell_type": "code",
      "source": [
        "import threading\n",
        "\n",
        "\n",
        "# BoundedSemaphore kullanımı\n",
        "bounded_semaphore = threading.BoundedSemaphore(2)  # Aynı anda en fazla iki thread erişebilir\n",
        "\n",
        "def access_resource_bounded(client_id):\n",
        "    bounded_semaphore.acquire()\n",
        "    print(f\"Client {client_id} kaynağı aldı.\")\n",
        "    # Kaynağa erişim süresi simüle ediliyor\n",
        "    bounded_semaphore.release()\n",
        "    print(f\"Client {client_id} kaynağı bıraktı.\")\n",
        "\n",
        "# 4 farklı client'i temsil eden thread'leri başlat\n",
        "threads_bounded = []\n",
        "for i in range(4):\n",
        "    thread = threading.Thread(target=access_resource_bounded, args=(i,))\n",
        "    threads_bounded.append(thread)\n",
        "    thread.start()\n",
        "\n",
        "# Thread'lerin bitmesini bekle\n",
        "for thread in threads_bounded:\n",
        "    thread.join()\n",
        "\n",
        "print(\"BoundedSemaphore ile işlem tamamlandı.\")\n"
      ],
      "metadata": {
        "colab": {
          "base_uri": "https://localhost:8080/"
        },
        "id": "Katq2YjiZtW3",
        "outputId": "f38938f8-52fd-4a31-ff0c-265dd7124f32"
      },
      "execution_count": 5,
      "outputs": [
        {
          "output_type": "stream",
          "name": "stdout",
          "text": [
            "Client 0 kaynağı aldı.\n",
            "Client 0 kaynağı bıraktı.\n",
            "Client 1 kaynağı aldı.\n",
            "Client 1 kaynağı bıraktı.\n",
            "Client 2 kaynağı aldı.\n",
            "Client 2 kaynağı bıraktı.\n",
            "Client 3 kaynağı aldı.\n",
            "Client 3 kaynağı bıraktı.\n",
            "BoundedSemaphore ile işlem tamamlandı.\n"
          ]
        }
      ]
    },
    {
      "cell_type": "markdown",
      "source": [
        " BoundedSemaphore, Semaphore'un sınırlanmış bir versiyonudur. Bu, belirli bir sınırlamayı zaten içerir ve daha fazla izin vermez. Yani, BoundedSemaphore oluşturulduğunda, başlangıçta belirli bir sayıda izin verilir ve bu sayıdan fazla izin verilmez."
      ],
      "metadata": {
        "id": "25rMDkVoZ8Am"
      }
    },
    {
      "cell_type": "markdown",
      "source": [
        "### Condition Kullanarak Senkronizasyon"
      ],
      "metadata": {
        "id": "eS6QLKHgXIYC"
      }
    },
    {
      "cell_type": "code",
      "source": [
        "# Condition Kullanarak Senkronizasyon\n",
        "import threading\n",
        "\n",
        "# Condition nesnesi oluştur\n",
        "condition = threading.Condition()\n",
        "\n",
        "# Paylaşılan kaynak\n",
        "shared_resource = []\n",
        "\n",
        "def producer():\n",
        "    for i in range(5):\n",
        "        with condition:\n",
        "            shared_resource.append(i)\n",
        "            print(f\"Üretici üretti: {i}\")\n",
        "            condition.notify()  # Bekleyen bir tüketiciyi uyandır\n",
        "\n",
        "def consumer():\n",
        "    for i in range(5):\n",
        "        with condition:\n",
        "            while not shared_resource:\n",
        "                condition.wait()  # Üreticiyi beklemeye al\n",
        "            item = shared_resource.pop(0)\n",
        "            print(f\"Tüketici tüketti: {item}\")\n",
        "\n",
        "# Üretici ve tüketici thread'lerini başlat\n",
        "producer_thread = threading.Thread(target=producer)\n",
        "consumer_thread = threading.Thread(target=consumer)\n",
        "\n",
        "producer_thread.start()\n",
        "consumer_thread.start()\n",
        "\n",
        "producer_thread.join()\n",
        "consumer_thread.join()"
      ],
      "metadata": {
        "colab": {
          "base_uri": "https://localhost:8080/"
        },
        "id": "GTvOnc8yunxu",
        "outputId": "6485dfdb-6443-4be7-e2f0-4613a0bd6cf2"
      },
      "execution_count": 19,
      "outputs": [
        {
          "output_type": "stream",
          "name": "stdout",
          "text": [
            "Üretici üretti: 0\n",
            "Üretici üretti: 1\n",
            "Üretici üretti: 2\n",
            "Üretici üretti: 3\n",
            "Üretici üretti: 4\n",
            "Tüketici tüketti: 0\n",
            "Tüketici tüketti: 1\n",
            "Tüketici tüketti: 2\n",
            "Tüketici tüketti: 3\n",
            "Tüketici tüketti: 4\n"
          ]
        }
      ]
    },
    {
      "cell_type": "markdown",
      "source": [
        "Condition sınıfı, bir veya daha fazla thread'in bir koşulu beklemesini ve diğer bir thread'in bu koşulu karşılayarak diğer threadleri uyandırmasını sağlar. Bu örnekte, Condition kullanılarak üretici ve tüketici thread'lerinin paylaşılan kaynağa erişimi senkronize edilir."
      ],
      "metadata": {
        "id": "0S1OTowU4exV"
      }
    },
    {
      "cell_type": "markdown",
      "source": [
        "### Event Kullanarak Senkronizasyon"
      ],
      "metadata": {
        "id": "lQmoYiI3XLXV"
      }
    },
    {
      "cell_type": "code",
      "source": [
        "# Event Kullanarak Senkronizasyon\n",
        "import threading\n",
        "\n",
        "# Event nesnesi oluştur\n",
        "event = threading.Event()\n",
        "\n",
        "def waiter():\n",
        "    print(\"Bekleme başladı.\")\n",
        "    event.wait()  # Event'in tetiklenmesini bekle\n",
        "    print(\"Bekleme sona erdi.\")\n",
        "\n",
        "def setter():\n",
        "    print(\"Event tetiklendi.\")\n",
        "    event.set()  # Event'i tetikle\n",
        "\n",
        "# Bekleyen ve tetikleyen thread'leri başlat\n",
        "waiter_thread = threading.Thread(target=waiter)\n",
        "setter_thread = threading.Thread(target=setter)\n",
        "\n",
        "waiter_thread.start()\n",
        "setter_thread.start()\n",
        "\n",
        "waiter_thread.join()\n",
        "setter_thread.join()"
      ],
      "metadata": {
        "colab": {
          "base_uri": "https://localhost:8080/"
        },
        "id": "V9p9t7hNun0E",
        "outputId": "8737e253-9a80-421f-abfa-82e3a08a50e6"
      },
      "execution_count": 20,
      "outputs": [
        {
          "output_type": "stream",
          "name": "stdout",
          "text": [
            "Bekleme başladı.\n",
            "Event tetiklendi.\n",
            "Bekleme sona erdi.\n"
          ]
        }
      ]
    },
    {
      "cell_type": "markdown",
      "source": [
        "Event sınıfı, bir thread grubunun bir olayın gerçekleşmesini beklemesini ve diğer bir thread'in bu olayı tetiklemesini sağlar."
      ],
      "metadata": {
        "id": "88mv6DuD4vvr"
      }
    },
    {
      "cell_type": "markdown",
      "source": [
        "### Barrier Kullanarak Senkronizasyon"
      ],
      "metadata": {
        "id": "WrI9GMYTbs72"
      }
    },
    {
      "cell_type": "code",
      "source": [
        "import threading\n",
        "\n",
        "# Barrier oluştur (4 thread bekleniyor)\n",
        "barrier = threading.Barrier(4)\n",
        "\n",
        "def worker(worker_id):\n",
        "    print(f\"Worker {worker_id} başladı.\")\n",
        "    # İşçi işlemi burada gerçekleştirir\n",
        "    print(f\"Worker {worker_id} işlemi tamamlandı.\")\n",
        "    # Diğer işçileri bekler\n",
        "    barrier.wait()\n",
        "    print(f\"Worker {worker_id} barrier geçti ve devam ediyor.\")\n",
        "\n",
        "# 4 işçi thread'i oluştur\n",
        "threads = []\n",
        "for i in range(4):\n",
        "    thread = threading.Thread(target=worker, args=(i,))\n",
        "    threads.append(thread)\n",
        "    thread.start()\n",
        "\n",
        "# Thread'lerin bitmesini bekle\n",
        "for thread in threads:\n",
        "    thread.join()\n",
        "\n",
        "print(\"Tüm işlemler tamamlandı.\")\n"
      ],
      "metadata": {
        "colab": {
          "base_uri": "https://localhost:8080/"
        },
        "id": "EYy-spSZby9e",
        "outputId": "2dbd95f7-582d-436e-9135-f5e5a46be510"
      },
      "execution_count": 6,
      "outputs": [
        {
          "output_type": "stream",
          "name": "stdout",
          "text": [
            "Worker 0 başladı.Worker 1 başladı.\n",
            "Worker 2 başladı.\n",
            "Worker 2 işlemi tamamlandı.\n",
            "Worker 1 işlemi tamamlandı.\n",
            "\n",
            "Worker 0 işlemi tamamlandı.\n",
            "Worker 3 başladı.\n",
            "Worker 3 işlemi tamamlandı.\n",
            "Worker 3 barrier geçti ve devam ediyor.Worker 2 barrier geçti ve devam ediyor.Worker 1 barrier geçti ve devam ediyor.\n",
            "\n",
            "Worker 0 barrier geçti ve devam ediyor.\n",
            "\n",
            "Tüm işlemler tamamlandı.\n"
          ]
        }
      ]
    },
    {
      "cell_type": "markdown",
      "source": [
        "Barrier sınıfı, n sayısındaki thread'in belirli bir noktada toplanmasını bekler. n thread, barrier'a ulaştığında, hepsi bir araya gelene kadar beklenir ve ardından hepsi birlikte devam eder."
      ],
      "metadata": {
        "id": "IMVVTAD-bozA"
      }
    },
    {
      "cell_type": "markdown",
      "source": [
        "**Global Interpreter Lock (GIL) :** CPython adı verilen Python yorumlayıcısının sadece bir thread'in aynı anda Python kodu çalıştırmasına izin veren bir kilit mekanizmasıdır."
      ],
      "metadata": {
        "id": "oF_MsYDt6VAb"
      }
    },
    {
      "cell_type": "code",
      "source": [
        "import threading\n",
        "\n",
        "# Paylaşılan bir değişken\n",
        "shared_counter = 0\n",
        "\n",
        "def increment_counter():\n",
        "    global shared_counter\n",
        "    for _ in range(1000000):\n",
        "        shared_counter += 1\n",
        "\n",
        "# İki thread oluştur\n",
        "thread1 = threading.Thread(target=increment_counter)\n",
        "thread2 = threading.Thread(target=increment_counter)\n",
        "\n",
        "# Thread'leri başlat\n",
        "thread1.start()\n",
        "thread2.start()\n",
        "\n",
        "# Thread'lerin bitmesini bekle\n",
        "thread1.join()\n",
        "thread2.join()\n",
        "\n",
        "# Sonuç\n",
        "print(\"Paylaşılan Değer (shared_counter):\", shared_counter)\n"
      ],
      "metadata": {
        "colab": {
          "base_uri": "https://localhost:8080/"
        },
        "id": "FtcRn-tHun13",
        "outputId": "4cad6fba-a5e4-4cd2-9f60-a71a6c091acc"
      },
      "execution_count": 21,
      "outputs": [
        {
          "output_type": "stream",
          "name": "stdout",
          "text": [
            "Paylaşılan Değer (shared_counter): 2000000\n"
          ]
        }
      ]
    },
    {
      "cell_type": "markdown",
      "source": [
        "**Daemon threadler :** Python'da bir ana programın çalışmasını etkilemeden arka planda çalışan ve ana program sona erdiğinde otomatik olarak sona eren threadlerdir. Yani, daemon threadlerin çalışması, ana programın çalışmasını beklemeyecektir. Daemon threadler, genellikle arka planda sürekli olarak çalışan görevleri gerçekleştirmek için kullanılır.\n",
        "\n",
        "Ana program sona erdiğinde, daemon threadler otomatik olarak sonlandırılır. Ana programın işlevselliğini engellemeden arka planda çalışır. Daemon threadler, genellikle normal (non-daemon) threadlere göre daha düşük önceliğe sahiptir."
      ],
      "metadata": {
        "id": "zc04WmS59Hv3"
      }
    },
    {
      "cell_type": "code",
      "source": [
        "import threading\n",
        "import time\n",
        "\n",
        "def daemon_function():\n",
        "    while True:\n",
        "        print(\"Daemon thread çalışıyor...\")\n",
        "        time.sleep(1)\n",
        "\n",
        "# Daemon thread oluştur\n",
        "daemon_thread = threading.Thread(target=daemon_function)\n",
        "daemon_thread.setDaemon(True)  # Thread'i daemon olarak işaretle\n",
        "daemon_thread.start()\n",
        "\n",
        "# Ana programın çalışması\n",
        "time.sleep(5)\n",
        "print(\"Ana program sona eriyor.\")"
      ],
      "metadata": {
        "colab": {
          "base_uri": "https://localhost:8080/"
        },
        "id": "r33CheCa6i1y",
        "outputId": "9fecf372-ed60-46b5-939e-60e27133fa27"
      },
      "execution_count": 22,
      "outputs": [
        {
          "output_type": "stream",
          "name": "stderr",
          "text": [
            "<ipython-input-22-f8795d4e621f>:11: DeprecationWarning: setDaemon() is deprecated, set the daemon attribute instead\n",
            "  daemon_thread.setDaemon(True)  # Thread'i daemon olarak işaretle\n"
          ]
        },
        {
          "output_type": "stream",
          "name": "stdout",
          "text": [
            "Daemon thread çalışıyor...\n",
            "Daemon thread çalışıyor...\n",
            "Daemon thread çalışıyor...\n",
            "Daemon thread çalışıyor...\n",
            "Daemon thread çalışıyor...\n",
            "Ana program sona eriyor.\n",
            "Daemon thread çalışıyor...\n"
          ]
        }
      ]
    },
    {
      "cell_type": "markdown",
      "source": [
        "Bu örnekte, daemon_function adlı bir daemon thread oluşturulur ve setDaemon(True) ile daemon olarak işaretlenir. Ana program 5 saniye boyunca çalışırken, daemon thread arka planda çalışmaya devam eder ve ana program sona erdiğinde daemon thread de otomatik olarak sona erer"
      ],
      "metadata": {
        "id": "bhL4pyFO91mQ"
      }
    },
    {
      "cell_type": "markdown",
      "source": [
        "**ThreadPool (İş Parçacığı Havuzu) :** Çoklu iş parçacığı programlamasında yaygın olarak kullanılan bir tasarım desenidir. Bu tasarım deseni, sınırlı bir iş parçacığı havuzu içinde birden fazla iş parçacığının yeniden kullanılmasını sağlar. Böylece çok sayıda işlemi aynı anda yürütebilir ve kaynak kullanımını optimize edebilirsiniz.\n",
        "\n",
        "İşlem başlatma maliyetini azaltır ve işlemci kaynaklarını daha etkili bir şekilde kullanmanıza olanak tanır."
      ],
      "metadata": {
        "id": "nwGkEdU7-Qkb"
      }
    },
    {
      "cell_type": "code",
      "source": [
        "import concurrent.futures\n",
        "import time\n",
        "\n",
        "# Faktoriyel Hesapla\n",
        "def calculate_factorial(num):\n",
        "    result = 1\n",
        "    for i in range(1, num + 1):\n",
        "        result *= i\n",
        "    return result\n",
        "\n",
        "# ThreadPool oluştur\n",
        "with concurrent.futures.ThreadPoolExecutor(max_workers=3) as executor:\n",
        "    # Hesaplanacak faktöriyel sayıları\n",
        "    sayilar = [5, 10, 15, 20]\n",
        "\n",
        "    # İş parçacığı havuzunda faktöriyel hesaplaması için görevleri gönder\n",
        "    futures = {executor.submit(calculate_factorial, num): num for num in sayilar}\n",
        "\n",
        "    # Sonuçları al\n",
        "    for future in concurrent.futures.as_completed(futures):\n",
        "        num = futures[future]\n",
        "        try:\n",
        "            result = future.result()\n",
        "            print(f\"{num}! = {result}\")\n",
        "        except Exception as e:\n",
        "            print(f\"Hata: {e}\")\n"
      ],
      "metadata": {
        "colab": {
          "base_uri": "https://localhost:8080/"
        },
        "id": "BQ5A5WXZ6i4m",
        "outputId": "5d8f00b2-cdd7-4732-fe15-d2c7a55ebfd1"
      },
      "execution_count": 1,
      "outputs": [
        {
          "output_type": "stream",
          "name": "stdout",
          "text": [
            "15! = 1307674368000\n",
            "10! = 3628800\n",
            "5! = 120\n",
            "20! = 2432902008176640000\n"
          ]
        }
      ]
    },
    {
      "cell_type": "markdown",
      "source": [
        "**RLock :**Lock ile RLock arasındaki en belirgin fark, Lock’ın kilidini bir başka iş parçacığı açabilir olması, oysa RLock’ın kilidini, kilidi edinmiş olan iş parçacığının açması gerekir."
      ],
      "metadata": {
        "id": "NdhsqELjYAJP"
      }
    },
    {
      "cell_type": "code",
      "source": [
        "import threading\n",
        "\n",
        "\n",
        "class Thread(threading.Thread): # Thread() sınıfını miras alan sınıf\n",
        "    def __init__(self, lock):\n",
        "        threading.Thread.__init__(self)\n",
        "        self.lock = lock\n",
        "\n",
        "    def run(self):\n",
        "        self.lock.acquire(blocking=True, timeout=3)\n",
        "        print(\"{} çalışıyor.\".format(self.name))\n",
        "        self.lock.acquire(blocking=True, timeout=1) #Bir iş parçacığı RLock kilidini ikinci kez-\n",
        "        print(\"{} çalışması bitti.\".format(self.name)) # kendi işlemlerini engellemeden elde edebilir.\n",
        "\n",
        "\n",
        "__lock__ = threading.RLock() # Kilidin oluşturulması\n",
        "t1 = Thread(lock=__lock__) # Threadlerin oluşturulması\n",
        "t2 = Thread(lock=__lock__)\n",
        "t1.start()\n",
        "t2.start()"
      ],
      "metadata": {
        "colab": {
          "base_uri": "https://localhost:8080/"
        },
        "id": "HIiZe4Ql6i68",
        "outputId": "0b1afffb-1704-4926-9ed2-39d2beff3a4e"
      },
      "execution_count": 1,
      "outputs": [
        {
          "output_type": "stream",
          "name": "stdout",
          "text": [
            "Thread-10 çalışıyor.\n",
            "Thread-10 çalışması bitti.\n",
            "Thread-11 çalışıyor.\n",
            "Thread-11 çalışması bitti.\n"
          ]
        }
      ]
    },
    {
      "cell_type": "markdown",
      "source": [
        "Bu örnekte RLock kilidine sahip olan iş parçacığı t1’dir. Dolayısıyla kilidi sadece o açabilir. Bu örneği çalıştırdığınızda, t1 iş parçacığının kilit edindiğini ama serbest bırakmadığını görüyoruz. Eğer t1 bu kilidi serbest bıraksaydı, iş parçacıkları arasında bekleme süresi olmayacaktı."
      ],
      "metadata": {
        "id": "iVDn_jjtZRVw"
      }
    },
    {
      "cell_type": "code",
      "source": [],
      "metadata": {
        "id": "YFROmyIf6i85"
      },
      "execution_count": null,
      "outputs": []
    },
    {
      "cell_type": "code",
      "source": [],
      "metadata": {
        "id": "vxyjcC2w6i_D"
      },
      "execution_count": null,
      "outputs": []
    },
    {
      "cell_type": "code",
      "source": [],
      "metadata": {
        "id": "salYfjbN6jA9"
      },
      "execution_count": null,
      "outputs": []
    },
    {
      "cell_type": "code",
      "source": [],
      "metadata": {
        "id": "cLRiU_096jFm"
      },
      "execution_count": null,
      "outputs": []
    },
    {
      "cell_type": "code",
      "source": [],
      "metadata": {
        "id": "iYLdqJMy6jHh"
      },
      "execution_count": null,
      "outputs": []
    },
    {
      "cell_type": "code",
      "source": [],
      "metadata": {
        "id": "wbeXkGfKun4T"
      },
      "execution_count": null,
      "outputs": []
    },
    {
      "cell_type": "code",
      "source": [],
      "metadata": {
        "id": "7v_Emzx7un6Z"
      },
      "execution_count": null,
      "outputs": []
    },
    {
      "cell_type": "code",
      "source": [],
      "metadata": {
        "id": "nKCbWYrmcEyU"
      },
      "execution_count": null,
      "outputs": []
    },
    {
      "cell_type": "code",
      "source": [],
      "metadata": {
        "id": "Wi9wahW6cE0j"
      },
      "execution_count": null,
      "outputs": []
    },
    {
      "cell_type": "code",
      "source": [],
      "metadata": {
        "id": "sGw5h9ZKcE2i"
      },
      "execution_count": null,
      "outputs": []
    },
    {
      "cell_type": "code",
      "source": [],
      "metadata": {
        "id": "ZHmkxiXqcE43"
      },
      "execution_count": null,
      "outputs": []
    },
    {
      "cell_type": "code",
      "source": [],
      "metadata": {
        "id": "qRm9emLLcE7D"
      },
      "execution_count": null,
      "outputs": []
    },
    {
      "cell_type": "code",
      "source": [],
      "metadata": {
        "id": "QLLWRt9zcE9A"
      },
      "execution_count": null,
      "outputs": []
    },
    {
      "cell_type": "code",
      "source": [],
      "metadata": {
        "id": "Vi5zsSXGcE-4"
      },
      "execution_count": null,
      "outputs": []
    },
    {
      "cell_type": "code",
      "source": [],
      "metadata": {
        "id": "wB-wlrRhcFA8"
      },
      "execution_count": null,
      "outputs": []
    },
    {
      "cell_type": "code",
      "source": [],
      "metadata": {
        "id": "_UGMQHgLcFDD"
      },
      "execution_count": null,
      "outputs": []
    },
    {
      "cell_type": "code",
      "source": [],
      "metadata": {
        "id": "ULFQrDXdcFFC"
      },
      "execution_count": null,
      "outputs": []
    },
    {
      "cell_type": "code",
      "source": [],
      "metadata": {
        "id": "Le8sEKI4cFHQ"
      },
      "execution_count": null,
      "outputs": []
    },
    {
      "cell_type": "code",
      "source": [],
      "metadata": {
        "id": "cMmuJdMycFJg"
      },
      "execution_count": null,
      "outputs": []
    },
    {
      "cell_type": "code",
      "source": [],
      "metadata": {
        "id": "RburNTHXcFLv"
      },
      "execution_count": null,
      "outputs": []
    },
    {
      "cell_type": "code",
      "source": [],
      "metadata": {
        "id": "2LJFMdeecFN7"
      },
      "execution_count": null,
      "outputs": []
    },
    {
      "cell_type": "code",
      "source": [],
      "metadata": {
        "id": "7ZIdvNSbcFSZ"
      },
      "execution_count": null,
      "outputs": []
    },
    {
      "cell_type": "code",
      "source": [],
      "metadata": {
        "id": "vLU_L8w4cFWa"
      },
      "execution_count": null,
      "outputs": []
    },
    {
      "cell_type": "code",
      "source": [],
      "metadata": {
        "id": "fO5QTJjVcFYQ"
      },
      "execution_count": null,
      "outputs": []
    },
    {
      "cell_type": "code",
      "source": [],
      "metadata": {
        "id": "YfehTP_vcFam"
      },
      "execution_count": null,
      "outputs": []
    },
    {
      "cell_type": "code",
      "source": [],
      "metadata": {
        "id": "ZPFaQ8HgcFcz"
      },
      "execution_count": null,
      "outputs": []
    },
    {
      "cell_type": "code",
      "source": [],
      "metadata": {
        "id": "m7jMuC1gcFfH"
      },
      "execution_count": null,
      "outputs": []
    },
    {
      "cell_type": "code",
      "source": [],
      "metadata": {
        "id": "iMXGUiiDcFjR"
      },
      "execution_count": null,
      "outputs": []
    },
    {
      "cell_type": "code",
      "source": [],
      "metadata": {
        "id": "pB6eNS1ncFld"
      },
      "execution_count": null,
      "outputs": []
    },
    {
      "cell_type": "code",
      "source": [],
      "metadata": {
        "id": "y3MkO8rQcFoH"
      },
      "execution_count": null,
      "outputs": []
    },
    {
      "cell_type": "code",
      "source": [],
      "metadata": {
        "id": "lJV1QVUocFqL"
      },
      "execution_count": null,
      "outputs": []
    }
  ]
}