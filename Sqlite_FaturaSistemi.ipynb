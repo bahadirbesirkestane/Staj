{
  "cells": [
    {
      "cell_type": "markdown",
      "metadata": {
        "id": "view-in-github",
        "colab_type": "text"
      },
      "source": [
        "<a href=\"https://colab.research.google.com/github/bahadirbesirkestane/Staj/blob/main/Sqlite_FaturaSistemi.ipynb\" target=\"_parent\"><img src=\"https://colab.research.google.com/assets/colab-badge.svg\" alt=\"Open In Colab\"/></a>"
      ]
    },
    {
      "cell_type": "code",
      "execution_count": null,
      "id": "e847af69",
      "metadata": {
        "id": "e847af69"
      },
      "outputs": [],
      "source": [
        "import sqlite3\n",
        "import pandas as pd"
      ]
    },
    {
      "cell_type": "code",
      "execution_count": null,
      "id": "b3acc0e5",
      "metadata": {
        "id": "b3acc0e5"
      },
      "outputs": [],
      "source": [
        "# SQLite veritabanını oluştur\n",
        "conn = sqlite3.connect(\"C:/Users/O M E N/Masaüstü/sqlite_veritabani/FaturaYönetim2.db\")\n",
        "cursor = conn.cursor()"
      ]
    },
    {
      "cell_type": "code",
      "execution_count": null,
      "id": "66d54e14",
      "metadata": {
        "id": "66d54e14",
        "outputId": "d30ce0c3-6f23-4d96-edcf-9909dc4f859f"
      },
      "outputs": [
        {
          "data": {
            "text/plain": [
              "<sqlite3.Cursor at 0x17074c7bcc0>"
            ]
          },
          "execution_count": 37,
          "metadata": {},
          "output_type": "execute_result"
        }
      ],
      "source": [
        "# Veritabanında bir tablo oluştur\n",
        "cursor.execute('''CREATE TABLE IF NOT EXISTS Faturalar (\n",
        "                    id INTEGER PRIMARY KEY AUTOINCREMENT,\n",
        "                    FaturaTipi TEXT NOT NULL,\n",
        "                    FaturaTutarı INTEGER NOT NULL,\n",
        "                    OdendiBilgisi TEXT,\n",
        "                    SonOdeme DATE DEFAULT CURRENT_DATE\n",
        "                )''')"
      ]
    },
    {
      "cell_type": "markdown",
      "id": "d64c6a4f",
      "metadata": {
        "id": "d64c6a4f"
      },
      "source": [
        "## İşlemler (CRUD)"
      ]
    },
    {
      "cell_type": "code",
      "execution_count": null,
      "id": "c162f373",
      "metadata": {
        "id": "c162f373"
      },
      "outputs": [],
      "source": [
        "# Yeni bir fatura eklemek\n",
        "def yeni_fatura_ekle(FaturaTipi, FaturaTutarı,OdendiBilgisi,SonOdeme):\n",
        "    cursor.execute(\"INSERT INTO Faturalar (FaturaTipi, FaturaTutarı,OdendiBilgisi,SonOdeme) VALUES (?, ?, ?, ?)\",\n",
        "                   (FaturaTipi, FaturaTutarı,OdendiBilgisi,SonOdeme))\n",
        "    conn.commit()\n",
        "    print(\"Yeni fatura başarıyla eklendi.\")"
      ]
    },
    {
      "cell_type": "code",
      "execution_count": null,
      "id": "81e6910c",
      "metadata": {
        "id": "81e6910c"
      },
      "outputs": [],
      "source": [
        "# Tüm faturaları listelemek\n",
        "def faturalari_listele():\n",
        "    cursor.execute(\"SELECT * FROM Faturalar\")\n",
        "    faturalar = cursor.fetchall()\n",
        "    veriler=list()\n",
        "    for not_ in faturalar:\n",
        "        veriler.append(not_)\n",
        "        print(f\"ID: {not_[0]}, Fatura Tipi: {not_[1]}, Fatura Tutarı: {not_[2]},Fatura OdendiBilgisi: {not_[3]}, SonOdeme: {not_[4]}\")\n",
        "\n",
        "    df = pd.DataFrame(veriler)\n",
        "    print(df)\n"
      ]
    },
    {
      "cell_type": "code",
      "execution_count": null,
      "id": "4b3fa26b",
      "metadata": {
        "id": "4b3fa26b"
      },
      "outputs": [],
      "source": [
        "# Belirli bir faturayı görüntülemek\n",
        "def fatura_goruntule(fatura_id):\n",
        "    cursor.execute(\"SELECT * FROM Faturalar WHERE id = ?\", (fatura_id,))\n",
        "    not_ = cursor.fetchone()\n",
        "    if not_:\n",
        "        print(f\"ID: {not_[0]}, Fatura Tipi: {not_[1]}, Fatura Tutarı: {not_[2]},Fatura OdendiBilgisi: {not_[3]}, SonOdeme: {not_[4]}\")\n",
        "    else:\n",
        "        print(\"Belirtilen ID ile fatura bulunamadı.\")"
      ]
    },
    {
      "cell_type": "code",
      "execution_count": null,
      "id": "7582060f",
      "metadata": {
        "id": "7582060f"
      },
      "outputs": [],
      "source": [
        "# Fature güncellemek\n",
        "def fatura_guncelle(fatura_id, yeni_tip, yeni_tutar,yeni_odendiBilgisi):\n",
        "    cursor.execute(\"UPDATE Faturalar SET FaturaTipi = ?, FaturaTutarı = ? ,OdendiBilgisi = ? WHERE id = ?\", (yeni_tip, yeni_tutar,yeni_odendiBilgisi, fatura_id))\n",
        "    conn.commit()\n",
        "    print(\"Fatura başarıyla güncellendi.\")"
      ]
    },
    {
      "cell_type": "code",
      "execution_count": null,
      "id": "08cc5099",
      "metadata": {
        "id": "08cc5099"
      },
      "outputs": [],
      "source": [
        "# Fatura silmek\n",
        "def fatura_sil(fatura_id):\n",
        "    cursor.execute(\"DELETE FROM Faturalar WHERE id = ?\", (fatura_id,))\n",
        "    conn.commit()\n",
        "    print(\"Fatura başarıyla silindi.\")"
      ]
    },
    {
      "cell_type": "code",
      "execution_count": null,
      "id": "a7ae70dc",
      "metadata": {
        "id": "a7ae70dc"
      },
      "outputs": [],
      "source": [
        "# Parametreli fatura listle\n",
        "def listele(faturalar):\n",
        "    veriler=list()\n",
        "    for not_ in faturalar:\n",
        "        veriler.append(not_)\n",
        "        print(f\"ID: {not_[0]}, Fatura Tipi: {not_[1]}, Fatura Tutarı: {not_[2]},Fatura OdendiBilgisi: {not_[3]}, SonOdeme: {not_[4]}\")\n",
        "\n",
        "    df = pd.DataFrame(veriler)\n",
        "    print(df)"
      ]
    },
    {
      "cell_type": "markdown",
      "id": "e643cfbf",
      "metadata": {
        "id": "e643cfbf"
      },
      "source": [
        "## Fatura İşlemleri"
      ]
    },
    {
      "cell_type": "markdown",
      "id": "e5d5b9d1",
      "metadata": {
        "id": "e5d5b9d1"
      },
      "source": [
        ">Yeni Fatura ekleme"
      ]
    },
    {
      "cell_type": "code",
      "execution_count": null,
      "id": "3a09c2f3",
      "metadata": {
        "id": "3a09c2f3",
        "outputId": "9e208177-524e-4f88-f5bc-28d9ae60d36e"
      },
      "outputs": [
        {
          "name": "stdout",
          "output_type": "stream",
          "text": [
            "Yeni fatura başarıyla eklendi.\n"
          ]
        }
      ],
      "source": [
        "yeni_fatura_ekle(\"Market\", \"1000\",\"Hayır\",\"25-09-2023\")"
      ]
    },
    {
      "cell_type": "code",
      "execution_count": null,
      "id": "bb2d9ff0",
      "metadata": {
        "id": "bb2d9ff0",
        "outputId": "ccaf6612-6d81-4041-e01e-7d213fce7728"
      },
      "outputs": [
        {
          "name": "stdout",
          "output_type": "stream",
          "text": [
            "Yeni fatura başarıyla eklendi.\n",
            "Yeni fatura başarıyla eklendi.\n"
          ]
        }
      ],
      "source": [
        "yeni_fatura_ekle(\"Doğalgaz\", \"1275\",\"Hayır\",\"12-09-2023\")\n",
        "yeni_fatura_ekle(\"Market\", \"845\",\"Hayır\",\"17-09-2023\")\n"
      ]
    },
    {
      "cell_type": "code",
      "execution_count": null,
      "id": "61cac34e",
      "metadata": {
        "id": "61cac34e",
        "outputId": "3db1f706-fb28-4b19-c720-c05724d19729"
      },
      "outputs": [
        {
          "name": "stdout",
          "output_type": "stream",
          "text": [
            "Yeni fatura başarıyla eklendi.\n",
            "Yeni fatura başarıyla eklendi.\n",
            "Yeni fatura başarıyla eklendi.\n",
            "Yeni fatura başarıyla eklendi.\n",
            "Yeni fatura başarıyla eklendi.\n",
            "Yeni fatura başarıyla eklendi.\n"
          ]
        }
      ],
      "source": [
        "yeni_fatura_ekle(\"Su\", \"600\",\"Evet\",\"05-07-2023\")\n",
        "yeni_fatura_ekle(\"Telefon\", \"350\",\"Hayır\",\"13-08-2023\")\n",
        "yeni_fatura_ekle(\"Elektrik\", \"250\",\"Hayır\",\"22-10-2023\")\n",
        "yeni_fatura_ekle(\"İnternet\", \"150\",\"Evet\",\"15-11-2023\")\n",
        "yeni_fatura_ekle(\"Doğalgaz\", \"850\",\"Evet\",\"17-09-2023\")\n",
        "yeni_fatura_ekle(\"Su\", \"300\",\"Hayır\",\"05-09-2023\")"
      ]
    },
    {
      "cell_type": "markdown",
      "id": "ebb8fec6",
      "metadata": {
        "id": "ebb8fec6"
      },
      "source": [
        ">Tüm faturaları Listele"
      ]
    },
    {
      "cell_type": "code",
      "execution_count": null,
      "id": "f88f76ea",
      "metadata": {
        "id": "f88f76ea",
        "outputId": "bd55d4a0-3bca-4bd0-8852-c4a94177763d"
      },
      "outputs": [
        {
          "name": "stdout",
          "output_type": "stream",
          "text": [
            "ID: 1, Fatura Tipi: Market, Fatura Tutarı: 1000,Fatura OdendiBilgisi: Hayır, SonOdeme: 2023-09-25\n",
            "ID: 2, Fatura Tipi: Doğalgaz, Fatura Tutarı: 450,Fatura OdendiBilgisi: Hayır, SonOdeme: 2023-10-28\n",
            "ID: 3, Fatura Tipi: Su, Fatura Tutarı: 600,Fatura OdendiBilgisi: Evet, SonOdeme: 2023-07-05\n",
            "ID: 4, Fatura Tipi: Telefon, Fatura Tutarı: 350,Fatura OdendiBilgisi: Hayır, SonOdeme: 2023-08-13\n",
            "ID: 5, Fatura Tipi: Elektrik, Fatura Tutarı: 250,Fatura OdendiBilgisi: Hayır, SonOdeme: 2023-10-22\n",
            "ID: 6, Fatura Tipi: İnternet, Fatura Tutarı: 150,Fatura OdendiBilgisi: Evet, SonOdeme: 2023-11-15\n",
            "ID: 9, Fatura Tipi: Telefon, Fatura Tutarı: 650,Fatura OdendiBilgisi: Hayır, SonOdeme: 2023-09-28\n",
            "ID: 10, Fatura Tipi: Doğalgaz, Fatura Tutarı: 1275,Fatura OdendiBilgisi: Hayır, SonOdeme: 2023-09-12\n",
            "ID: 11, Fatura Tipi: Market, Fatura Tutarı: 845,Fatura OdendiBilgisi: Hayır, SonOdeme: 2023-09-17\n",
            "    0         1     2      3           4\n",
            "0   1    Market  1000  Hayır  2023-09-25\n",
            "1   2  Doğalgaz   450  Hayır  2023-10-28\n",
            "2   3        Su   600   Evet  2023-07-05\n",
            "3   4   Telefon   350  Hayır  2023-08-13\n",
            "4   5  Elektrik   250  Hayır  2023-10-22\n",
            "5   6  İnternet   150   Evet  2023-11-15\n",
            "6   9   Telefon   650  Hayır  2023-09-28\n",
            "7  10  Doğalgaz  1275  Hayır  2023-09-12\n",
            "8  11    Market   845  Hayır  2023-09-17\n"
          ]
        }
      ],
      "source": [
        "faturalari_listele()"
      ]
    },
    {
      "cell_type": "markdown",
      "id": "d0e8d36d",
      "metadata": {
        "id": "d0e8d36d"
      },
      "source": [
        ">Belirli bir faturayı görüntülemek"
      ]
    },
    {
      "cell_type": "code",
      "execution_count": null,
      "id": "17e072a1",
      "metadata": {
        "id": "17e072a1",
        "outputId": "0e3cf230-9c74-4a63-e1df-39834d44308d"
      },
      "outputs": [
        {
          "name": "stdout",
          "output_type": "stream",
          "text": [
            "ID: 2, Fatura Tipi: Doğalgaz, Fatura Tutarı: 450,Fatura OdendiBilgisi: Hayır, SonOdeme: 2023-10-28\n",
            "Belirtilen ID ile fatura bulunamadı.\n"
          ]
        }
      ],
      "source": [
        "fatura_goruntule(2)\n",
        "fatura_goruntule(7)"
      ]
    },
    {
      "cell_type": "markdown",
      "id": "e9c92a48",
      "metadata": {
        "id": "e9c92a48"
      },
      "source": [
        ">Fatura Güncelleme"
      ]
    },
    {
      "cell_type": "code",
      "execution_count": null,
      "id": "51e20599",
      "metadata": {
        "id": "51e20599",
        "outputId": "514a776a-5d67-41d8-f995-146e8d700e2d"
      },
      "outputs": [
        {
          "name": "stdout",
          "output_type": "stream",
          "text": [
            "Fatura başarıyla güncellendi.\n",
            "ID: 8, Fatura Tipi: Telefon, Fatura Tutarı: 575,Fatura OdendiBilgisi: Evet, SonOdeme: 2023-09-05\n"
          ]
        }
      ],
      "source": [
        "fatura_guncelle(8, \"Telefon\", 575,\"Evet\")\n",
        "fatura_goruntule(8)"
      ]
    },
    {
      "cell_type": "markdown",
      "id": "991cce67",
      "metadata": {
        "id": "991cce67"
      },
      "source": [
        ">Fatura Silme"
      ]
    },
    {
      "cell_type": "code",
      "execution_count": null,
      "id": "a3b38b2c",
      "metadata": {
        "id": "a3b38b2c",
        "outputId": "b2a19d50-c9e3-4cf8-8ba8-941566340716"
      },
      "outputs": [
        {
          "name": "stdout",
          "output_type": "stream",
          "text": [
            "Fatura başarıyla silindi.\n",
            "Belirtilen ID ile fatura bulunamadı.\n"
          ]
        }
      ],
      "source": [
        "fatura_sil(8)\n",
        "fatura_goruntule(8)"
      ]
    },
    {
      "cell_type": "code",
      "execution_count": null,
      "id": "fa3f65ee",
      "metadata": {
        "id": "fa3f65ee",
        "outputId": "479202f0-2195-4b22-d517-ba59e62d6a35"
      },
      "outputs": [
        {
          "name": "stdout",
          "output_type": "stream",
          "text": [
            "ID: 1, Fatura Tipi: Market, Fatura Tutarı: 1000,Fatura OdendiBilgisi: Hayır, SonOdeme: 2023-09-25\n",
            "ID: 2, Fatura Tipi: Doğalgaz, Fatura Tutarı: 450,Fatura OdendiBilgisi: Hayır, SonOdeme: 2023-10-28\n",
            "ID: 3, Fatura Tipi: Su, Fatura Tutarı: 600,Fatura OdendiBilgisi: Evet, SonOdeme: 2023-07-05\n",
            "ID: 4, Fatura Tipi: Telefon, Fatura Tutarı: 350,Fatura OdendiBilgisi: Hayır, SonOdeme: 2023-08-13\n",
            "ID: 5, Fatura Tipi: Elektrik, Fatura Tutarı: 250,Fatura OdendiBilgisi: Hayır, SonOdeme: 2023-10-22\n",
            "ID: 6, Fatura Tipi: İnternet, Fatura Tutarı: 150,Fatura OdendiBilgisi: Evet, SonOdeme: 2023-11-15\n",
            "ID: 9, Fatura Tipi: Telefon, Fatura Tutarı: 650,Fatura OdendiBilgisi: Hayır, SonOdeme: 2023-09-28\n",
            "ID: 10, Fatura Tipi: Doğalgaz, Fatura Tutarı: 1275,Fatura OdendiBilgisi: Hayır, SonOdeme: 2023-09-12\n",
            "ID: 11, Fatura Tipi: Market, Fatura Tutarı: 845,Fatura OdendiBilgisi: Hayır, SonOdeme: 2023-09-17\n",
            "    0         1     2      3           4\n",
            "0   1    Market  1000  Hayır  2023-09-25\n",
            "1   2  Doğalgaz   450  Hayır  2023-10-28\n",
            "2   3        Su   600   Evet  2023-07-05\n",
            "3   4   Telefon   350  Hayır  2023-08-13\n",
            "4   5  Elektrik   250  Hayır  2023-10-22\n",
            "5   6  İnternet   150   Evet  2023-11-15\n",
            "6   9   Telefon   650  Hayır  2023-09-28\n",
            "7  10  Doğalgaz  1275  Hayır  2023-09-12\n",
            "8  11    Market   845  Hayır  2023-09-17\n"
          ]
        }
      ],
      "source": [
        "faturalari_listele()"
      ]
    },
    {
      "cell_type": "markdown",
      "id": "9ab77014",
      "metadata": {
        "id": "9ab77014"
      },
      "source": [
        ">Sorgular"
      ]
    },
    {
      "cell_type": "code",
      "execution_count": null,
      "id": "67af1646",
      "metadata": {
        "id": "67af1646",
        "outputId": "4c01678f-385e-40d5-f6bd-7a37a86ae281"
      },
      "outputs": [
        {
          "name": "stdout",
          "output_type": "stream",
          "text": [
            "ID: 1, Fatura Tipi: Market, Fatura Tutarı: 1000,Fatura OdendiBilgisi: Hayır, SonOdeme: 2023-09-25\n",
            "ID: 9, Fatura Tipi: Telefon, Fatura Tutarı: 650,Fatura OdendiBilgisi: Hayır, SonOdeme: 2023-09-28\n",
            "   0        1     2      3           4\n",
            "0  1   Market  1000  Hayır  2023-09-25\n",
            "1  9  Telefon   650  Hayır  2023-09-28\n"
          ]
        }
      ],
      "source": [
        "# Ödeme tarihi yaklaşan faturalar\n",
        "# Bulunduğumuz tarihten itibaren 10 gün sonrasına kadar.\n",
        "cursor.execute(\"SELECT * FROM Faturalar WHERE date(SonOdeme) BETWEEN date('now') AND date('now', '+10 days')\")\n",
        "faturalar = cursor.fetchall()\n",
        "listele(faturalar)"
      ]
    },
    {
      "cell_type": "code",
      "execution_count": null,
      "id": "d3861193",
      "metadata": {
        "id": "d3861193",
        "outputId": "1379cd4a-978f-4295-be13-2a9aceeaac09"
      },
      "outputs": [
        {
          "name": "stdout",
          "output_type": "stream",
          "text": [
            "ID: 3, Fatura Tipi: Su, Fatura Tutarı: 600,Fatura OdendiBilgisi: Evet, SonOdeme: 2023-07-05\n",
            "ID: 4, Fatura Tipi: Telefon, Fatura Tutarı: 350,Fatura OdendiBilgisi: Hayır, SonOdeme: 2023-08-13\n",
            "ID: 10, Fatura Tipi: Doğalgaz, Fatura Tutarı: 1275,Fatura OdendiBilgisi: Hayır, SonOdeme: 2023-09-12\n",
            "ID: 11, Fatura Tipi: Market, Fatura Tutarı: 845,Fatura OdendiBilgisi: Hayır, SonOdeme: 2023-09-17\n",
            "    0         1     2      3           4\n",
            "0   3        Su   600   Evet  2023-07-05\n",
            "1   4   Telefon   350  Hayır  2023-08-13\n",
            "2  10  Doğalgaz  1275  Hayır  2023-09-12\n",
            "3  11    Market   845  Hayır  2023-09-17\n"
          ]
        }
      ],
      "source": [
        "# Ödeme tarihi geçmiş faturalar\n",
        "cursor.execute(\"SELECT * FROM faturalar WHERE date(SonOdeme) < date('now')\")\n",
        "faturalar = cursor.fetchall()\n",
        "listele(faturalar)"
      ]
    },
    {
      "cell_type": "code",
      "execution_count": null,
      "id": "29d0bd4d",
      "metadata": {
        "id": "29d0bd4d",
        "outputId": "6e77096d-f545-4a99-cf39-32e5f138b977"
      },
      "outputs": [
        {
          "name": "stdout",
          "output_type": "stream",
          "text": [
            "ID: 1, Fatura Tipi: Market, Fatura Tutarı: 1000,Fatura OdendiBilgisi: Hayır, SonOdeme: 2023-09-25\n",
            "ID: 2, Fatura Tipi: Doğalgaz, Fatura Tutarı: 450,Fatura OdendiBilgisi: Hayır, SonOdeme: 2023-10-28\n",
            "ID: 4, Fatura Tipi: Telefon, Fatura Tutarı: 350,Fatura OdendiBilgisi: Hayır, SonOdeme: 2023-08-13\n",
            "ID: 5, Fatura Tipi: Elektrik, Fatura Tutarı: 250,Fatura OdendiBilgisi: Hayır, SonOdeme: 2023-10-22\n",
            "ID: 9, Fatura Tipi: Telefon, Fatura Tutarı: 650,Fatura OdendiBilgisi: Hayır, SonOdeme: 2023-09-28\n",
            "ID: 10, Fatura Tipi: Doğalgaz, Fatura Tutarı: 1275,Fatura OdendiBilgisi: Hayır, SonOdeme: 2023-09-12\n",
            "ID: 11, Fatura Tipi: Market, Fatura Tutarı: 845,Fatura OdendiBilgisi: Hayır, SonOdeme: 2023-09-17\n",
            "    0         1     2      3           4\n",
            "0   1    Market  1000  Hayır  2023-09-25\n",
            "1   2  Doğalgaz   450  Hayır  2023-10-28\n",
            "2   4   Telefon   350  Hayır  2023-08-13\n",
            "3   5  Elektrik   250  Hayır  2023-10-22\n",
            "4   9   Telefon   650  Hayır  2023-09-28\n",
            "5  10  Doğalgaz  1275  Hayır  2023-09-12\n",
            "6  11    Market   845  Hayır  2023-09-17\n"
          ]
        }
      ],
      "source": [
        "# Ödenmemiş faturalar\n",
        "cursor.execute(\"SELECT * FROM faturalar WHERE OdendiBilgisi = 'Hayır'\")\n",
        "faturalar = cursor.fetchall()\n",
        "listele(faturalar)"
      ]
    },
    {
      "cell_type": "code",
      "execution_count": null,
      "id": "4d550332",
      "metadata": {
        "id": "4d550332",
        "outputId": "ce422dc7-6f26-49ed-aa48-582c3f81ec46"
      },
      "outputs": [
        {
          "name": "stdout",
          "output_type": "stream",
          "text": [
            "ID: 3, Fatura Tipi: Su, Fatura Tutarı: 600,Fatura OdendiBilgisi: Evet, SonOdeme: 2023-07-05\n",
            "ID: 6, Fatura Tipi: İnternet, Fatura Tutarı: 150,Fatura OdendiBilgisi: Evet, SonOdeme: 2023-11-15\n",
            "   0         1    2     3           4\n",
            "0  3        Su  600  Evet  2023-07-05\n",
            "1  6  İnternet  150  Evet  2023-11-15\n"
          ]
        }
      ],
      "source": [
        "# Ödenmiş faturalar\n",
        "cursor.execute(\"SELECT * FROM faturalar WHERE OdendiBilgisi = 'Evet'\")\n",
        "faturalar = cursor.fetchall()\n",
        "listele(faturalar)"
      ]
    },
    {
      "cell_type": "code",
      "execution_count": null,
      "id": "e3d4f4a0",
      "metadata": {
        "id": "e3d4f4a0",
        "outputId": "569b72f5-3e70-416e-8fee-ee101956075f"
      },
      "outputs": [
        {
          "name": "stdout",
          "output_type": "stream",
          "text": [
            "ID: 1, Fatura Tipi: Market, Fatura Tutarı: 1000,Fatura OdendiBilgisi: Hayır, SonOdeme: 2023-09-25\n",
            "ID: 3, Fatura Tipi: Su, Fatura Tutarı: 600,Fatura OdendiBilgisi: Evet, SonOdeme: 2023-07-05\n",
            "ID: 9, Fatura Tipi: Telefon, Fatura Tutarı: 650,Fatura OdendiBilgisi: Hayır, SonOdeme: 2023-09-28\n",
            "ID: 10, Fatura Tipi: Doğalgaz, Fatura Tutarı: 1275,Fatura OdendiBilgisi: Hayır, SonOdeme: 2023-09-12\n",
            "ID: 11, Fatura Tipi: Market, Fatura Tutarı: 845,Fatura OdendiBilgisi: Hayır, SonOdeme: 2023-09-17\n",
            "    0         1     2      3           4\n",
            "0   1    Market  1000  Hayır  2023-09-25\n",
            "1   3        Su   600   Evet  2023-07-05\n",
            "2   9   Telefon   650  Hayır  2023-09-28\n",
            "3  10  Doğalgaz  1275  Hayır  2023-09-12\n",
            "4  11    Market   845  Hayır  2023-09-17\n"
          ]
        }
      ],
      "source": [
        "# Belirli tutarın üzerinde tutarı olan faturalar\n",
        "cursor.execute(\"SELECT * FROM faturalar WHERE FaturaTutarı >=500\")\n",
        "faturalar = cursor.fetchall()\n",
        "listele(faturalar)"
      ]
    },
    {
      "cell_type": "code",
      "execution_count": null,
      "id": "37811091",
      "metadata": {
        "id": "37811091",
        "outputId": "a653be03-cd8d-4269-e8c9-9a42f52c8992"
      },
      "outputs": [
        {
          "name": "stdout",
          "output_type": "stream",
          "text": [
            "(5570,)\n"
          ]
        }
      ],
      "source": [
        "# Tüm faturaların toplam fatura tutarı\n",
        "cursor.execute(\"\"\"SELECT SUM(\"FaturaTutarı\") FROM faturalar\"\"\")\n",
        "x = cursor.fetchone()\n",
        "print(x)"
      ]
    },
    {
      "cell_type": "code",
      "execution_count": null,
      "id": "56724f1f",
      "metadata": {
        "id": "56724f1f",
        "outputId": "34b4bcff-5cd0-4539-ea59-f178b3c60bcd"
      },
      "outputs": [
        {
          "name": "stdout",
          "output_type": "stream",
          "text": [
            "[('Doğalgaz', 1725), ('Elektrik', 250), ('Market', 1845), ('Su', 600), ('Telefon', 1000), ('İnternet', 150)]\n"
          ]
        }
      ],
      "source": [
        "# Kategorilere göre toplam fatura tutarları\n",
        "cursor.execute(\"\"\"SELECT \"FaturaTipi\", SUM(\"FaturaTutarı\") AS \"ToplamFaturaTutarı\"\n",
        "FROM Faturalar GROUP BY \"FaturaTipi\" \"\"\")\n",
        "faturalar = cursor.fetchall()\n",
        "print(faturalar)"
      ]
    },
    {
      "cell_type": "code",
      "execution_count": null,
      "id": "3eb8f3a3",
      "metadata": {
        "id": "3eb8f3a3",
        "outputId": "1a276b28-9368-411c-8597-f6f048e8ea7a"
      },
      "outputs": [
        {
          "name": "stdout",
          "output_type": "stream",
          "text": [
            "[('Evet', 750), ('Hayır', 4820)]\n"
          ]
        }
      ],
      "source": [
        "# Ödenmiş/Ödenmemiş faturaların toplam tutarı\n",
        "cursor.execute(\"\"\"SELECT \"OdendiBilgisi\", SUM(\"FaturaTutarı\") AS \"ToplamFaturaTutarı\"\n",
        "FROM Faturalar GROUP BY \"OdendiBilgisi\" \"\"\")\n",
        "faturalar = cursor.fetchall()\n",
        "print(faturalar)"
      ]
    },
    {
      "cell_type": "code",
      "execution_count": null,
      "id": "31ae6c10",
      "metadata": {
        "id": "31ae6c10"
      },
      "outputs": [],
      "source": []
    },
    {
      "cell_type": "code",
      "execution_count": null,
      "id": "b76df4ca",
      "metadata": {
        "id": "b76df4ca"
      },
      "outputs": [],
      "source": [
        "# Bağlantıyı kapat\n",
        "conn.close()"
      ]
    },
    {
      "cell_type": "code",
      "execution_count": null,
      "id": "74c04c0b",
      "metadata": {
        "id": "74c04c0b"
      },
      "outputs": [],
      "source": []
    },
    {
      "cell_type": "code",
      "execution_count": null,
      "id": "eed40e1b",
      "metadata": {
        "id": "eed40e1b"
      },
      "outputs": [],
      "source": []
    },
    {
      "cell_type": "code",
      "source": [],
      "metadata": {
        "id": "NB71tNHWdWed"
      },
      "id": "NB71tNHWdWed",
      "execution_count": null,
      "outputs": []
    },
    {
      "cell_type": "code",
      "source": [],
      "metadata": {
        "id": "TP3Q9xDTdWgw"
      },
      "id": "TP3Q9xDTdWgw",
      "execution_count": null,
      "outputs": []
    },
    {
      "cell_type": "code",
      "source": [],
      "metadata": {
        "id": "ZMZMUc0cdWjH"
      },
      "id": "ZMZMUc0cdWjH",
      "execution_count": null,
      "outputs": []
    },
    {
      "cell_type": "code",
      "source": [],
      "metadata": {
        "id": "c6Y5CkVtdWnL"
      },
      "id": "c6Y5CkVtdWnL",
      "execution_count": null,
      "outputs": []
    },
    {
      "cell_type": "code",
      "source": [],
      "metadata": {
        "id": "rz4SqeQEdWp3"
      },
      "id": "rz4SqeQEdWp3",
      "execution_count": null,
      "outputs": []
    },
    {
      "cell_type": "code",
      "source": [],
      "metadata": {
        "id": "ZZlVKPl0dWrs"
      },
      "id": "ZZlVKPl0dWrs",
      "execution_count": null,
      "outputs": []
    },
    {
      "cell_type": "code",
      "source": [],
      "metadata": {
        "id": "QHa1Ihn5dW2S"
      },
      "id": "QHa1Ihn5dW2S",
      "execution_count": null,
      "outputs": []
    },
    {
      "cell_type": "code",
      "source": [],
      "metadata": {
        "id": "IYK8oxFqdW43"
      },
      "id": "IYK8oxFqdW43",
      "execution_count": null,
      "outputs": []
    },
    {
      "cell_type": "code",
      "source": [],
      "metadata": {
        "id": "mLF8Q__qdW7G"
      },
      "id": "mLF8Q__qdW7G",
      "execution_count": null,
      "outputs": []
    },
    {
      "cell_type": "code",
      "source": [],
      "metadata": {
        "id": "DYKsLW_odW_q"
      },
      "id": "DYKsLW_odW_q",
      "execution_count": null,
      "outputs": []
    },
    {
      "cell_type": "code",
      "source": [],
      "metadata": {
        "id": "CzNHsLv4dXB-"
      },
      "id": "CzNHsLv4dXB-",
      "execution_count": null,
      "outputs": []
    },
    {
      "cell_type": "code",
      "source": [],
      "metadata": {
        "id": "FT-8Lz7YdXEV"
      },
      "id": "FT-8Lz7YdXEV",
      "execution_count": null,
      "outputs": []
    },
    {
      "cell_type": "code",
      "source": [],
      "metadata": {
        "id": "Ei3b_Mx0dXGh"
      },
      "id": "Ei3b_Mx0dXGh",
      "execution_count": null,
      "outputs": []
    },
    {
      "cell_type": "code",
      "source": [],
      "metadata": {
        "id": "1EEC2D2zdXK-"
      },
      "id": "1EEC2D2zdXK-",
      "execution_count": null,
      "outputs": []
    },
    {
      "cell_type": "code",
      "source": [],
      "metadata": {
        "id": "pszGBwVjdXNT"
      },
      "id": "pszGBwVjdXNT",
      "execution_count": null,
      "outputs": []
    },
    {
      "cell_type": "code",
      "source": [],
      "metadata": {
        "id": "5zwfdk1IdXPj"
      },
      "id": "5zwfdk1IdXPj",
      "execution_count": null,
      "outputs": []
    },
    {
      "cell_type": "code",
      "source": [],
      "metadata": {
        "id": "FL0ey42EdXRv"
      },
      "id": "FL0ey42EdXRv",
      "execution_count": null,
      "outputs": []
    },
    {
      "cell_type": "code",
      "source": [],
      "metadata": {
        "id": "UkGBHMKGdXT-"
      },
      "id": "UkGBHMKGdXT-",
      "execution_count": null,
      "outputs": []
    },
    {
      "cell_type": "code",
      "source": [],
      "metadata": {
        "id": "8TZJkdu2dXWC"
      },
      "id": "8TZJkdu2dXWC",
      "execution_count": null,
      "outputs": []
    },
    {
      "cell_type": "code",
      "source": [],
      "metadata": {
        "id": "1SnGiD6WdXYO"
      },
      "id": "1SnGiD6WdXYO",
      "execution_count": null,
      "outputs": []
    },
    {
      "cell_type": "code",
      "source": [],
      "metadata": {
        "id": "X2rm9H2JdXaf"
      },
      "id": "X2rm9H2JdXaf",
      "execution_count": null,
      "outputs": []
    },
    {
      "cell_type": "code",
      "source": [],
      "metadata": {
        "id": "H1XAazQ5dXcu"
      },
      "id": "H1XAazQ5dXcu",
      "execution_count": null,
      "outputs": []
    },
    {
      "cell_type": "code",
      "source": [],
      "metadata": {
        "id": "7x1DGSpMdXeq"
      },
      "id": "7x1DGSpMdXeq",
      "execution_count": null,
      "outputs": []
    },
    {
      "cell_type": "code",
      "source": [],
      "metadata": {
        "id": "3gARhFjpdXgj"
      },
      "id": "3gARhFjpdXgj",
      "execution_count": null,
      "outputs": []
    }
  ],
  "metadata": {
    "kernelspec": {
      "display_name": "Python 3 (ipykernel)",
      "language": "python",
      "name": "python3"
    },
    "language_info": {
      "codemirror_mode": {
        "name": "ipython",
        "version": 3
      },
      "file_extension": ".py",
      "mimetype": "text/x-python",
      "name": "python",
      "nbconvert_exporter": "python",
      "pygments_lexer": "ipython3",
      "version": "3.11.4"
    },
    "colab": {
      "provenance": [],
      "include_colab_link": true
    }
  },
  "nbformat": 4,
  "nbformat_minor": 5
}